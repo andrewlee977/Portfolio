{
 "cells": [
  {
   "cell_type": "markdown",
   "id": "c285f601",
   "metadata": {},
   "source": [
    "Dataset: E-Commerce Shipping Data from Kaggle: https://www.kaggle.com/prachi13/customer-analytics"
   ]
  },
  {
   "cell_type": "code",
   "execution_count": 1,
   "id": "5df398be",
   "metadata": {},
   "outputs": [],
   "source": [
    "import pandas as pd\n",
    "import numpy as np\n",
    "import matplotlib.pyplot as plt\n",
    "from sklearn.model_selection import train_test_split, RandomizedSearchCV, GridSearchCV\n",
    "from category_encoders import OneHotEncoder, OrdinalEncoder\n",
    "from sklearn.preprocessing import StandardScaler\n",
    "from sklearn.pipeline import make_pipeline\n",
    "from sklearn.linear_model import LogisticRegression\n",
    "from sklearn.ensemble import RandomForestClassifier, GradientBoostingClassifier\n",
    "from sklearn.metrics import plot_confusion_matrix, f1_score\n",
    "from sklearn.inspection import permutation_importance\n",
    "import pickle"
   ]
  },
  {
   "cell_type": "markdown",
   "id": "6bfdfccf",
   "metadata": {},
   "source": [
    "ID: ID Number of Customers.\n",
    "\n",
    "• Warehouse block: The Company has a big Warehouse which is divided into blocks A,B,C,D,E.\n",
    "\n",
    "• Mode of shipment: The Company ships the products in multiple ways such as Ship, Flight and Road.\n",
    "\n",
    "• Customer care calls: The number of calls made from enquiry for enquiry of the shipment.\n",
    "\n",
    "• Customer rating: The company has rated from every customer. 1 is the lowest (Worst), 5 is the highest (Best).\n",
    "\n",
    "• Cost of the product: Cost of the Product in US Dollars.\n",
    "\n",
    "• Prior purchases: The Number of Prior Purchase.\n",
    "\n",
    "• Product importance: The company has categorized the product in the various parameter such as low, medium, high.\n",
    "\n",
    "• Gender: Male and Female.\n",
    "\n",
    "• Discount offered: Discount offered on that specific product.\n",
    "\n",
    "• Weight in gms: It is the weight in grams.\n",
    "\n",
    "• Reached on time: It is the target variable, where 1 Indicates that the product has NOT reached on time and 0 \n",
    "indicates it has reached on time."
   ]
  },
  {
   "cell_type": "markdown",
   "id": "b75971cf",
   "metadata": {},
   "source": [
    "# Wrangle Data"
   ]
  },
  {
   "cell_type": "code",
   "execution_count": 2,
   "id": "78d8d83c",
   "metadata": {},
   "outputs": [],
   "source": [
    "def wrangle(filepath):\n",
    "    \n",
    "    # Load data\n",
    "    df = pd.read_csv(filepath, index_col=\"ID\")\n",
    "    \n",
    "    # Switch binary values in target variable\n",
    "    mask = df[\"Reached.on.Time_Y.N\"] == 1\n",
    "    df.loc[mask, \"Reached_on_time\"] = 0\n",
    "    df.loc[~mask, \"Reached_on_time\"] = 1\n",
    "    \n",
    "    # Drop redundant columns\n",
    "    df.drop(columns=[\"Reached.on.Time_Y.N\"], inplace=True)\n",
    "    \n",
    "    return df"
   ]
  },
  {
   "cell_type": "code",
   "execution_count": 3,
   "id": "f483584a",
   "metadata": {},
   "outputs": [],
   "source": [
    "df = wrangle(\"shipping_data.csv\")"
   ]
  },
  {
   "cell_type": "code",
   "execution_count": 4,
   "id": "16eaaecc",
   "metadata": {},
   "outputs": [
    {
     "data": {
      "text/html": [
       "<div>\n",
       "<style scoped>\n",
       "    .dataframe tbody tr th:only-of-type {\n",
       "        vertical-align: middle;\n",
       "    }\n",
       "\n",
       "    .dataframe tbody tr th {\n",
       "        vertical-align: top;\n",
       "    }\n",
       "\n",
       "    .dataframe thead th {\n",
       "        text-align: right;\n",
       "    }\n",
       "</style>\n",
       "<table border=\"1\" class=\"dataframe\">\n",
       "  <thead>\n",
       "    <tr style=\"text-align: right;\">\n",
       "      <th></th>\n",
       "      <th>Warehouse_block</th>\n",
       "      <th>Mode_of_Shipment</th>\n",
       "      <th>Customer_care_calls</th>\n",
       "      <th>Customer_rating</th>\n",
       "      <th>Cost_of_the_Product</th>\n",
       "      <th>Prior_purchases</th>\n",
       "      <th>Product_importance</th>\n",
       "      <th>Gender</th>\n",
       "      <th>Discount_offered</th>\n",
       "      <th>Weight_in_gms</th>\n",
       "      <th>Reached_on_time</th>\n",
       "    </tr>\n",
       "    <tr>\n",
       "      <th>ID</th>\n",
       "      <th></th>\n",
       "      <th></th>\n",
       "      <th></th>\n",
       "      <th></th>\n",
       "      <th></th>\n",
       "      <th></th>\n",
       "      <th></th>\n",
       "      <th></th>\n",
       "      <th></th>\n",
       "      <th></th>\n",
       "      <th></th>\n",
       "    </tr>\n",
       "  </thead>\n",
       "  <tbody>\n",
       "    <tr>\n",
       "      <th>1</th>\n",
       "      <td>D</td>\n",
       "      <td>Flight</td>\n",
       "      <td>4</td>\n",
       "      <td>2</td>\n",
       "      <td>177</td>\n",
       "      <td>3</td>\n",
       "      <td>low</td>\n",
       "      <td>F</td>\n",
       "      <td>44</td>\n",
       "      <td>1233</td>\n",
       "      <td>0.0</td>\n",
       "    </tr>\n",
       "    <tr>\n",
       "      <th>2</th>\n",
       "      <td>F</td>\n",
       "      <td>Flight</td>\n",
       "      <td>4</td>\n",
       "      <td>5</td>\n",
       "      <td>216</td>\n",
       "      <td>2</td>\n",
       "      <td>low</td>\n",
       "      <td>M</td>\n",
       "      <td>59</td>\n",
       "      <td>3088</td>\n",
       "      <td>0.0</td>\n",
       "    </tr>\n",
       "    <tr>\n",
       "      <th>3</th>\n",
       "      <td>A</td>\n",
       "      <td>Flight</td>\n",
       "      <td>2</td>\n",
       "      <td>2</td>\n",
       "      <td>183</td>\n",
       "      <td>4</td>\n",
       "      <td>low</td>\n",
       "      <td>M</td>\n",
       "      <td>48</td>\n",
       "      <td>3374</td>\n",
       "      <td>0.0</td>\n",
       "    </tr>\n",
       "    <tr>\n",
       "      <th>4</th>\n",
       "      <td>B</td>\n",
       "      <td>Flight</td>\n",
       "      <td>3</td>\n",
       "      <td>3</td>\n",
       "      <td>176</td>\n",
       "      <td>4</td>\n",
       "      <td>medium</td>\n",
       "      <td>M</td>\n",
       "      <td>10</td>\n",
       "      <td>1177</td>\n",
       "      <td>0.0</td>\n",
       "    </tr>\n",
       "    <tr>\n",
       "      <th>5</th>\n",
       "      <td>C</td>\n",
       "      <td>Flight</td>\n",
       "      <td>2</td>\n",
       "      <td>2</td>\n",
       "      <td>184</td>\n",
       "      <td>3</td>\n",
       "      <td>medium</td>\n",
       "      <td>F</td>\n",
       "      <td>46</td>\n",
       "      <td>2484</td>\n",
       "      <td>0.0</td>\n",
       "    </tr>\n",
       "  </tbody>\n",
       "</table>\n",
       "</div>"
      ],
      "text/plain": [
       "   Warehouse_block Mode_of_Shipment  Customer_care_calls  Customer_rating  \\\n",
       "ID                                                                          \n",
       "1                D           Flight                    4                2   \n",
       "2                F           Flight                    4                5   \n",
       "3                A           Flight                    2                2   \n",
       "4                B           Flight                    3                3   \n",
       "5                C           Flight                    2                2   \n",
       "\n",
       "    Cost_of_the_Product  Prior_purchases Product_importance Gender  \\\n",
       "ID                                                                   \n",
       "1                   177                3                low      F   \n",
       "2                   216                2                low      M   \n",
       "3                   183                4                low      M   \n",
       "4                   176                4             medium      M   \n",
       "5                   184                3             medium      F   \n",
       "\n",
       "    Discount_offered  Weight_in_gms  Reached_on_time  \n",
       "ID                                                    \n",
       "1                 44           1233              0.0  \n",
       "2                 59           3088              0.0  \n",
       "3                 48           3374              0.0  \n",
       "4                 10           1177              0.0  \n",
       "5                 46           2484              0.0  "
      ]
     },
     "execution_count": 4,
     "metadata": {},
     "output_type": "execute_result"
    }
   ],
   "source": [
    "df.head()"
   ]
  },
  {
   "cell_type": "code",
   "execution_count": 5,
   "id": "3642fd34",
   "metadata": {},
   "outputs": [
    {
     "data": {
      "text/plain": [
       "(10999, 11)"
      ]
     },
     "execution_count": 5,
     "metadata": {},
     "output_type": "execute_result"
    }
   ],
   "source": [
    "df.shape"
   ]
  },
  {
   "cell_type": "code",
   "execution_count": 6,
   "id": "188245fa",
   "metadata": {},
   "outputs": [],
   "source": [
    "df.to_csv(r\"dash_ready_data.csv\")"
   ]
  },
  {
   "cell_type": "markdown",
   "id": "d6079dc8",
   "metadata": {},
   "source": [
    "# Split Data"
   ]
  },
  {
   "cell_type": "code",
   "execution_count": 7,
   "id": "a571cb83",
   "metadata": {},
   "outputs": [],
   "source": [
    "X = df.drop(columns=\"Reached_on_time\")\n",
    "y = df[\"Reached_on_time\"]"
   ]
  },
  {
   "cell_type": "code",
   "execution_count": 8,
   "id": "836b3238",
   "metadata": {},
   "outputs": [],
   "source": [
    "X_train, X_test, y_train, y_test = train_test_split(X, y, test_size=0.2, random_state=42)"
   ]
  },
  {
   "cell_type": "markdown",
   "id": "480f78ff",
   "metadata": {},
   "source": [
    "# Establish Baseline"
   ]
  },
  {
   "cell_type": "code",
   "execution_count": 9,
   "id": "6d363469",
   "metadata": {},
   "outputs": [
    {
     "data": {
      "text/plain": [
       "0.5966906082371125"
      ]
     },
     "execution_count": 9,
     "metadata": {},
     "output_type": "execute_result"
    }
   ],
   "source": [
    "baseline_accuracy = y.value_counts(normalize=True).max()\n",
    "baseline_accuracy"
   ]
  },
  {
   "cell_type": "code",
   "execution_count": 10,
   "id": "9c444513",
   "metadata": {},
   "outputs": [
    {
     "data": {
      "text/plain": [
       "Ship      7462\n",
       "Flight    1777\n",
       "Road      1760\n",
       "Name: Mode_of_Shipment, dtype: int64"
      ]
     },
     "execution_count": 10,
     "metadata": {},
     "output_type": "execute_result"
    }
   ],
   "source": [
    "X[\"Mode_of_Shipment\"].value_counts()"
   ]
  },
  {
   "cell_type": "markdown",
   "id": "68c65886",
   "metadata": {},
   "source": [
    "# Build Model"
   ]
  },
  {
   "cell_type": "code",
   "execution_count": 11,
   "id": "fb87e307",
   "metadata": {},
   "outputs": [
    {
     "name": "stderr",
     "output_type": "stream",
     "text": [
      "/Users/andrewlee/.local/share/virtualenvs/Shipping_Dashboard-Ne9HZrax/lib/python3.9/site-packages/category_encoders/utils.py:21: FutureWarning: is_categorical is deprecated and will be removed in a future version.  Use is_categorical_dtype instead\n",
      "  elif pd.api.types.is_categorical(cols):\n"
     ]
    },
    {
     "data": {
      "text/plain": [
       "Pipeline(steps=[('onehotencoder',\n",
       "                 OneHotEncoder(cols=['Warehouse_block', 'Mode_of_Shipment',\n",
       "                                     'Product_importance', 'Gender'],\n",
       "                               use_cat_names=True)),\n",
       "                ('standardscaler', StandardScaler()),\n",
       "                ('logisticregression', LogisticRegression())])"
      ]
     },
     "execution_count": 11,
     "metadata": {},
     "output_type": "execute_result"
    }
   ],
   "source": [
    "# Logistic Regression\n",
    "model_lr = make_pipeline(\n",
    "    OneHotEncoder(use_cat_names=True),\n",
    "    StandardScaler(),\n",
    "    LogisticRegression()\n",
    ")\n",
    "\n",
    "model_lr.fit(X_train, y_train)"
   ]
  },
  {
   "cell_type": "code",
   "execution_count": 12,
   "id": "5039046f",
   "metadata": {},
   "outputs": [
    {
     "data": {
      "text/plain": [
       "Pipeline(steps=[('ordinalencoder',\n",
       "                 OrdinalEncoder(cols=['Warehouse_block', 'Mode_of_Shipment',\n",
       "                                      'Product_importance', 'Gender'],\n",
       "                                mapping=[{'col': 'Warehouse_block',\n",
       "                                          'data_type': dtype('O'),\n",
       "                                          'mapping': F      1\n",
       "A      2\n",
       "D      3\n",
       "C      4\n",
       "B      5\n",
       "NaN   -2\n",
       "dtype: int64},\n",
       "                                         {'col': 'Mode_of_Shipment',\n",
       "                                          'data_type': dtype('O'),\n",
       "                                          'mapping': Ship      1\n",
       "Flight    2\n",
       "Road      3\n",
       "NaN      -2\n",
       "dtype: int64},\n",
       "                                         {'col': 'Product_importance',\n",
       "                                          'data_type': dtype('O'),\n",
       "                                          'mapping': low       1\n",
       "medium    2\n",
       "high      3\n",
       "NaN      -2\n",
       "dtype: int64},\n",
       "                                         {'col': 'Gender',\n",
       "                                          'data_type': dtype('O'),\n",
       "                                          'mapping': F      1\n",
       "M      2\n",
       "NaN   -2\n",
       "dtype: int64}])),\n",
       "                ('standardscaler', StandardScaler()),\n",
       "                ('randomforestclassifier',\n",
       "                 RandomForestClassifier(random_state=42))])"
      ]
     },
     "execution_count": 12,
     "metadata": {},
     "output_type": "execute_result"
    }
   ],
   "source": [
    "# Random Forest Classifier\n",
    "model_rfc = make_pipeline(\n",
    "    OrdinalEncoder(),\n",
    "    StandardScaler(),\n",
    "    RandomForestClassifier(random_state=42)\n",
    ")\n",
    "\n",
    "model_rfc.fit(X_train, y_train)"
   ]
  },
  {
   "cell_type": "code",
   "execution_count": 13,
   "id": "67de64c2",
   "metadata": {},
   "outputs": [
    {
     "data": {
      "text/plain": [
       "Pipeline(steps=[('ordinalencoder',\n",
       "                 OrdinalEncoder(cols=['Warehouse_block', 'Mode_of_Shipment',\n",
       "                                      'Product_importance', 'Gender'],\n",
       "                                mapping=[{'col': 'Warehouse_block',\n",
       "                                          'data_type': dtype('O'),\n",
       "                                          'mapping': F      1\n",
       "A      2\n",
       "D      3\n",
       "C      4\n",
       "B      5\n",
       "NaN   -2\n",
       "dtype: int64},\n",
       "                                         {'col': 'Mode_of_Shipment',\n",
       "                                          'data_type': dtype('O'),\n",
       "                                          'mapping': Ship      1\n",
       "Flight    2\n",
       "Road      3\n",
       "NaN      -2\n",
       "dtype: int64},\n",
       "                                         {'col': 'Product_importance',\n",
       "                                          'data_type': dtype('O'),\n",
       "                                          'mapping': low       1\n",
       "medium    2\n",
       "high      3\n",
       "NaN      -2\n",
       "dtype: int64},\n",
       "                                         {'col': 'Gender',\n",
       "                                          'data_type': dtype('O'),\n",
       "                                          'mapping': F      1\n",
       "M      2\n",
       "NaN   -2\n",
       "dtype: int64}])),\n",
       "                ('standardscaler', StandardScaler()),\n",
       "                ('gradientboostingclassifier',\n",
       "                 GradientBoostingClassifier(random_state=42))])"
      ]
     },
     "execution_count": 13,
     "metadata": {},
     "output_type": "execute_result"
    }
   ],
   "source": [
    "# Gradient Boosting Classifier\n",
    "model_gbc = make_pipeline(\n",
    "    OrdinalEncoder(),\n",
    "    StandardScaler(),\n",
    "    GradientBoostingClassifier(random_state=42)\n",
    ")\n",
    "\n",
    "model_gbc.fit(X_train, y_train)"
   ]
  },
  {
   "cell_type": "markdown",
   "id": "11c37856",
   "metadata": {},
   "source": [
    "# Check Metrics"
   ]
  },
  {
   "cell_type": "code",
   "execution_count": 14,
   "id": "2b0cec25",
   "metadata": {},
   "outputs": [
    {
     "name": "stdout",
     "output_type": "stream",
     "text": [
      "Logistic Regression Accuracy (Train):  0.6407546312080918\n",
      "Logistic Regression Accuracy (Test):  0.644090909090909\n"
     ]
    }
   ],
   "source": [
    "# Out of the box score\n",
    "print(\"Logistic Regression Accuracy (Train): \", model_lr.score(X_train, y_train))\n",
    "print(\"Logistic Regression Accuracy (Test): \", model_lr.score(X_test, y_test))"
   ]
  },
  {
   "cell_type": "code",
   "execution_count": 15,
   "id": "1063c3ee",
   "metadata": {},
   "outputs": [
    {
     "name": "stdout",
     "output_type": "stream",
     "text": [
      "Random Forest Accuracy (Train):  1.0\n",
      "Random Forest Accuracy (Test):  0.6631818181818182\n"
     ]
    }
   ],
   "source": [
    "# Out of the box score\n",
    "print(\"Random Forest Accuracy (Train): \", model_rfc.score(X_train, y_train))\n",
    "print(\"Random Forest Accuracy (Test): \", model_rfc.score(X_test, y_test))"
   ]
  },
  {
   "cell_type": "code",
   "execution_count": 16,
   "id": "8f597451",
   "metadata": {},
   "outputs": [
    {
     "name": "stdout",
     "output_type": "stream",
     "text": [
      "Gradient Boosting Accuracy (Train):  0.7140584157290601\n",
      "Gradient Boosting Accuracy (Test):  0.6836363636363636\n"
     ]
    }
   ],
   "source": [
    "# Out of the box score\n",
    "print(\"Gradient Boosting Accuracy (Train): \", model_gbc.score(X_train, y_train))\n",
    "print(\"Gradient Boosting Accuracy (Test): \", model_gbc.score(X_test, y_test))"
   ]
  },
  {
   "cell_type": "markdown",
   "id": "7ad23a9f",
   "metadata": {},
   "source": [
    "# Tune Parameters"
   ]
  },
  {
   "cell_type": "markdown",
   "id": "909730f1",
   "metadata": {},
   "source": [
    "• permutation importance"
   ]
  },
  {
   "cell_type": "code",
   "execution_count": 17,
   "id": "a886d468",
   "metadata": {},
   "outputs": [],
   "source": [
    "param_grid = {\n",
    "    \"gradientboostingclassifier__loss\": [\"deviance\", \"exponential\"],\n",
    "    \"gradientboostingclassifier__n_estimators\": [100, 200, 300],\n",
    "    \"gradientboostingclassifier__criterion\": [\"friedman_mse\", \"mse\"],\n",
    "    \"gradientboostingclassifier__max_depth\": [3, 5, 8, 10]\n",
    "}"
   ]
  },
  {
   "cell_type": "code",
   "execution_count": 18,
   "id": "e9ce076b",
   "metadata": {},
   "outputs": [
    {
     "name": "stdout",
     "output_type": "stream",
     "text": [
      "Fitting 3 folds for each of 10 candidates, totalling 30 fits\n"
     ]
    },
    {
     "name": "stderr",
     "output_type": "stream",
     "text": [
      "/Users/andrewlee/.local/share/virtualenvs/Shipping_Dashboard-Ne9HZrax/lib/python3.9/site-packages/category_encoders/utils.py:21: FutureWarning: is_categorical is deprecated and will be removed in a future version.  Use is_categorical_dtype instead\n",
      "  elif pd.api.types.is_categorical(cols):\n",
      "/Users/andrewlee/.local/share/virtualenvs/Shipping_Dashboard-Ne9HZrax/lib/python3.9/site-packages/category_encoders/utils.py:21: FutureWarning: is_categorical is deprecated and will be removed in a future version.  Use is_categorical_dtype instead\n",
      "  elif pd.api.types.is_categorical(cols):\n",
      "/Users/andrewlee/.local/share/virtualenvs/Shipping_Dashboard-Ne9HZrax/lib/python3.9/site-packages/category_encoders/utils.py:21: FutureWarning: is_categorical is deprecated and will be removed in a future version.  Use is_categorical_dtype instead\n",
      "  elif pd.api.types.is_categorical(cols):\n",
      "/Users/andrewlee/.local/share/virtualenvs/Shipping_Dashboard-Ne9HZrax/lib/python3.9/site-packages/category_encoders/utils.py:21: FutureWarning: is_categorical is deprecated and will be removed in a future version.  Use is_categorical_dtype instead\n",
      "  elif pd.api.types.is_categorical(cols):\n",
      "/Users/andrewlee/.local/share/virtualenvs/Shipping_Dashboard-Ne9HZrax/lib/python3.9/site-packages/category_encoders/utils.py:21: FutureWarning: is_categorical is deprecated and will be removed in a future version.  Use is_categorical_dtype instead\n",
      "  elif pd.api.types.is_categorical(cols):\n",
      "/Users/andrewlee/.local/share/virtualenvs/Shipping_Dashboard-Ne9HZrax/lib/python3.9/site-packages/category_encoders/utils.py:21: FutureWarning: is_categorical is deprecated and will be removed in a future version.  Use is_categorical_dtype instead\n",
      "  elif pd.api.types.is_categorical(cols):\n",
      "/Users/andrewlee/.local/share/virtualenvs/Shipping_Dashboard-Ne9HZrax/lib/python3.9/site-packages/category_encoders/utils.py:21: FutureWarning: is_categorical is deprecated and will be removed in a future version.  Use is_categorical_dtype instead\n",
      "  elif pd.api.types.is_categorical(cols):\n",
      "/Users/andrewlee/.local/share/virtualenvs/Shipping_Dashboard-Ne9HZrax/lib/python3.9/site-packages/category_encoders/utils.py:21: FutureWarning: is_categorical is deprecated and will be removed in a future version.  Use is_categorical_dtype instead\n",
      "  elif pd.api.types.is_categorical(cols):\n",
      "/Users/andrewlee/.local/share/virtualenvs/Shipping_Dashboard-Ne9HZrax/lib/python3.9/site-packages/category_encoders/utils.py:21: FutureWarning: is_categorical is deprecated and will be removed in a future version.  Use is_categorical_dtype instead\n",
      "  elif pd.api.types.is_categorical(cols):\n",
      "/Users/andrewlee/.local/share/virtualenvs/Shipping_Dashboard-Ne9HZrax/lib/python3.9/site-packages/category_encoders/utils.py:21: FutureWarning: is_categorical is deprecated and will be removed in a future version.  Use is_categorical_dtype instead\n",
      "  elif pd.api.types.is_categorical(cols):\n",
      "/Users/andrewlee/.local/share/virtualenvs/Shipping_Dashboard-Ne9HZrax/lib/python3.9/site-packages/category_encoders/utils.py:21: FutureWarning: is_categorical is deprecated and will be removed in a future version.  Use is_categorical_dtype instead\n",
      "  elif pd.api.types.is_categorical(cols):\n",
      "/Users/andrewlee/.local/share/virtualenvs/Shipping_Dashboard-Ne9HZrax/lib/python3.9/site-packages/category_encoders/utils.py:21: FutureWarning: is_categorical is deprecated and will be removed in a future version.  Use is_categorical_dtype instead\n",
      "  elif pd.api.types.is_categorical(cols):\n",
      "/Users/andrewlee/.local/share/virtualenvs/Shipping_Dashboard-Ne9HZrax/lib/python3.9/site-packages/category_encoders/utils.py:21: FutureWarning: is_categorical is deprecated and will be removed in a future version.  Use is_categorical_dtype instead\n",
      "  elif pd.api.types.is_categorical(cols):\n",
      "/Users/andrewlee/.local/share/virtualenvs/Shipping_Dashboard-Ne9HZrax/lib/python3.9/site-packages/category_encoders/utils.py:21: FutureWarning: is_categorical is deprecated and will be removed in a future version.  Use is_categorical_dtype instead\n",
      "  elif pd.api.types.is_categorical(cols):\n",
      "/Users/andrewlee/.local/share/virtualenvs/Shipping_Dashboard-Ne9HZrax/lib/python3.9/site-packages/category_encoders/utils.py:21: FutureWarning: is_categorical is deprecated and will be removed in a future version.  Use is_categorical_dtype instead\n",
      "  elif pd.api.types.is_categorical(cols):\n",
      "/Users/andrewlee/.local/share/virtualenvs/Shipping_Dashboard-Ne9HZrax/lib/python3.9/site-packages/category_encoders/utils.py:21: FutureWarning: is_categorical is deprecated and will be removed in a future version.  Use is_categorical_dtype instead\n",
      "  elif pd.api.types.is_categorical(cols):\n",
      "/Users/andrewlee/.local/share/virtualenvs/Shipping_Dashboard-Ne9HZrax/lib/python3.9/site-packages/category_encoders/utils.py:21: FutureWarning: is_categorical is deprecated and will be removed in a future version.  Use is_categorical_dtype instead\n",
      "  elif pd.api.types.is_categorical(cols):\n",
      "/Users/andrewlee/.local/share/virtualenvs/Shipping_Dashboard-Ne9HZrax/lib/python3.9/site-packages/category_encoders/utils.py:21: FutureWarning: is_categorical is deprecated and will be removed in a future version.  Use is_categorical_dtype instead\n",
      "  elif pd.api.types.is_categorical(cols):\n",
      "/Users/andrewlee/.local/share/virtualenvs/Shipping_Dashboard-Ne9HZrax/lib/python3.9/site-packages/category_encoders/utils.py:21: FutureWarning: is_categorical is deprecated and will be removed in a future version.  Use is_categorical_dtype instead\n",
      "  elif pd.api.types.is_categorical(cols):\n",
      "/Users/andrewlee/.local/share/virtualenvs/Shipping_Dashboard-Ne9HZrax/lib/python3.9/site-packages/category_encoders/utils.py:21: FutureWarning: is_categorical is deprecated and will be removed in a future version.  Use is_categorical_dtype instead\n",
      "  elif pd.api.types.is_categorical(cols):\n",
      "/Users/andrewlee/.local/share/virtualenvs/Shipping_Dashboard-Ne9HZrax/lib/python3.9/site-packages/category_encoders/utils.py:21: FutureWarning: is_categorical is deprecated and will be removed in a future version.  Use is_categorical_dtype instead\n",
      "  elif pd.api.types.is_categorical(cols):\n",
      "/Users/andrewlee/.local/share/virtualenvs/Shipping_Dashboard-Ne9HZrax/lib/python3.9/site-packages/category_encoders/utils.py:21: FutureWarning: is_categorical is deprecated and will be removed in a future version.  Use is_categorical_dtype instead\n",
      "  elif pd.api.types.is_categorical(cols):\n",
      "/Users/andrewlee/.local/share/virtualenvs/Shipping_Dashboard-Ne9HZrax/lib/python3.9/site-packages/category_encoders/utils.py:21: FutureWarning: is_categorical is deprecated and will be removed in a future version.  Use is_categorical_dtype instead\n",
      "  elif pd.api.types.is_categorical(cols):\n",
      "/Users/andrewlee/.local/share/virtualenvs/Shipping_Dashboard-Ne9HZrax/lib/python3.9/site-packages/category_encoders/utils.py:21: FutureWarning: is_categorical is deprecated and will be removed in a future version.  Use is_categorical_dtype instead\n",
      "  elif pd.api.types.is_categorical(cols):\n",
      "/Users/andrewlee/.local/share/virtualenvs/Shipping_Dashboard-Ne9HZrax/lib/python3.9/site-packages/category_encoders/utils.py:21: FutureWarning: is_categorical is deprecated and will be removed in a future version.  Use is_categorical_dtype instead\n",
      "  elif pd.api.types.is_categorical(cols):\n",
      "/Users/andrewlee/.local/share/virtualenvs/Shipping_Dashboard-Ne9HZrax/lib/python3.9/site-packages/category_encoders/utils.py:21: FutureWarning: is_categorical is deprecated and will be removed in a future version.  Use is_categorical_dtype instead\n",
      "  elif pd.api.types.is_categorical(cols):\n",
      "/Users/andrewlee/.local/share/virtualenvs/Shipping_Dashboard-Ne9HZrax/lib/python3.9/site-packages/category_encoders/utils.py:21: FutureWarning: is_categorical is deprecated and will be removed in a future version.  Use is_categorical_dtype instead\n",
      "  elif pd.api.types.is_categorical(cols):\n",
      "/Users/andrewlee/.local/share/virtualenvs/Shipping_Dashboard-Ne9HZrax/lib/python3.9/site-packages/category_encoders/utils.py:21: FutureWarning: is_categorical is deprecated and will be removed in a future version.  Use is_categorical_dtype instead\n",
      "  elif pd.api.types.is_categorical(cols):\n",
      "/Users/andrewlee/.local/share/virtualenvs/Shipping_Dashboard-Ne9HZrax/lib/python3.9/site-packages/category_encoders/utils.py:21: FutureWarning: is_categorical is deprecated and will be removed in a future version.  Use is_categorical_dtype instead\n",
      "  elif pd.api.types.is_categorical(cols):\n"
     ]
    },
    {
     "name": "stderr",
     "output_type": "stream",
     "text": [
      "/Users/andrewlee/.local/share/virtualenvs/Shipping_Dashboard-Ne9HZrax/lib/python3.9/site-packages/category_encoders/utils.py:21: FutureWarning: is_categorical is deprecated and will be removed in a future version.  Use is_categorical_dtype instead\n",
      "  elif pd.api.types.is_categorical(cols):\n",
      "/Users/andrewlee/.local/share/virtualenvs/Shipping_Dashboard-Ne9HZrax/lib/python3.9/site-packages/category_encoders/utils.py:21: FutureWarning: is_categorical is deprecated and will be removed in a future version.  Use is_categorical_dtype instead\n",
      "  elif pd.api.types.is_categorical(cols):\n"
     ]
    },
    {
     "data": {
      "text/plain": [
       "RandomizedSearchCV(cv=3,\n",
       "                   estimator=Pipeline(steps=[('ordinalencoder',\n",
       "                                              OrdinalEncoder(cols=['Warehouse_block',\n",
       "                                                                   'Mode_of_Shipment',\n",
       "                                                                   'Product_importance',\n",
       "                                                                   'Gender'],\n",
       "                                                             mapping=[{'col': 'Warehouse_block',\n",
       "                                                                       'data_type': dtype('O'),\n",
       "                                                                       'mapping': F      1\n",
       "A      2\n",
       "D      3\n",
       "C      4\n",
       "B      5\n",
       "NaN   -2\n",
       "dtype: int64},\n",
       "                                                                      {'col': 'Mode_of_Shipment',\n",
       "                                                                       'data_type': dtype('O'),\n",
       "                                                                       'mapping': Ship      1\n",
       "Flight    2\n",
       "Road      3\n",
       "NaN      -2\n",
       "dtype: int64},\n",
       "                                                                      {'co...\n",
       "                                             ('gradientboostingclassifier',\n",
       "                                              GradientBoostingClassifier(random_state=42))]),\n",
       "                   n_jobs=-1,\n",
       "                   param_distributions={'gradientboostingclassifier__criterion': ['friedman_mse',\n",
       "                                                                                  'mse'],\n",
       "                                        'gradientboostingclassifier__loss': ['deviance',\n",
       "                                                                             'exponential'],\n",
       "                                        'gradientboostingclassifier__max_depth': [3,\n",
       "                                                                                  5,\n",
       "                                                                                  8,\n",
       "                                                                                  10],\n",
       "                                        'gradientboostingclassifier__n_estimators': [100,\n",
       "                                                                                     200,\n",
       "                                                                                     300]},\n",
       "                   verbose=5)"
      ]
     },
     "execution_count": 18,
     "metadata": {},
     "output_type": "execute_result"
    }
   ],
   "source": [
    "# RandomizedSearchCV\n",
    "\n",
    "model_gbc_rs = RandomizedSearchCV(model_gbc,\n",
    "                                  param_distributions=param_grid,\n",
    "                                  n_jobs=-1, \n",
    "                                  cv=3, \n",
    "                                  verbose=5)\n",
    "\n",
    "model_gbc_rs.fit(X_train, y_train)"
   ]
  },
  {
   "cell_type": "code",
   "execution_count": 19,
   "id": "15b403e2",
   "metadata": {},
   "outputs": [
    {
     "data": {
      "text/plain": [
       "{'gradientboostingclassifier__n_estimators': 200,\n",
       " 'gradientboostingclassifier__max_depth': 3,\n",
       " 'gradientboostingclassifier__loss': 'deviance',\n",
       " 'gradientboostingclassifier__criterion': 'mse'}"
      ]
     },
     "execution_count": 19,
     "metadata": {},
     "output_type": "execute_result"
    }
   ],
   "source": [
    "model_gbc_rs.best_params_"
   ]
  },
  {
   "cell_type": "code",
   "execution_count": 20,
   "id": "1557ec11",
   "metadata": {},
   "outputs": [],
   "source": [
    "best_model_rs = model_gbc_rs.best_estimator_"
   ]
  },
  {
   "cell_type": "code",
   "execution_count": 21,
   "id": "7a68a92a",
   "metadata": {},
   "outputs": [
    {
     "name": "stdout",
     "output_type": "stream",
     "text": [
      "Fitting 3 folds for each of 48 candidates, totalling 144 fits\n"
     ]
    },
    {
     "name": "stderr",
     "output_type": "stream",
     "text": [
      "/Users/andrewlee/.local/share/virtualenvs/Shipping_Dashboard-Ne9HZrax/lib/python3.9/site-packages/category_encoders/utils.py:21: FutureWarning: is_categorical is deprecated and will be removed in a future version.  Use is_categorical_dtype instead\n",
      "  elif pd.api.types.is_categorical(cols):\n",
      "/Users/andrewlee/.local/share/virtualenvs/Shipping_Dashboard-Ne9HZrax/lib/python3.9/site-packages/category_encoders/utils.py:21: FutureWarning: is_categorical is deprecated and will be removed in a future version.  Use is_categorical_dtype instead\n",
      "  elif pd.api.types.is_categorical(cols):\n",
      "/Users/andrewlee/.local/share/virtualenvs/Shipping_Dashboard-Ne9HZrax/lib/python3.9/site-packages/category_encoders/utils.py:21: FutureWarning: is_categorical is deprecated and will be removed in a future version.  Use is_categorical_dtype instead\n",
      "  elif pd.api.types.is_categorical(cols):\n",
      "/Users/andrewlee/.local/share/virtualenvs/Shipping_Dashboard-Ne9HZrax/lib/python3.9/site-packages/category_encoders/utils.py:21: FutureWarning: is_categorical is deprecated and will be removed in a future version.  Use is_categorical_dtype instead\n",
      "  elif pd.api.types.is_categorical(cols):\n",
      "/Users/andrewlee/.local/share/virtualenvs/Shipping_Dashboard-Ne9HZrax/lib/python3.9/site-packages/category_encoders/utils.py:21: FutureWarning: is_categorical is deprecated and will be removed in a future version.  Use is_categorical_dtype instead\n",
      "  elif pd.api.types.is_categorical(cols):\n",
      "/Users/andrewlee/.local/share/virtualenvs/Shipping_Dashboard-Ne9HZrax/lib/python3.9/site-packages/category_encoders/utils.py:21: FutureWarning: is_categorical is deprecated and will be removed in a future version.  Use is_categorical_dtype instead\n",
      "  elif pd.api.types.is_categorical(cols):\n",
      "/Users/andrewlee/.local/share/virtualenvs/Shipping_Dashboard-Ne9HZrax/lib/python3.9/site-packages/category_encoders/utils.py:21: FutureWarning: is_categorical is deprecated and will be removed in a future version.  Use is_categorical_dtype instead\n",
      "  elif pd.api.types.is_categorical(cols):\n",
      "/Users/andrewlee/.local/share/virtualenvs/Shipping_Dashboard-Ne9HZrax/lib/python3.9/site-packages/category_encoders/utils.py:21: FutureWarning: is_categorical is deprecated and will be removed in a future version.  Use is_categorical_dtype instead\n",
      "  elif pd.api.types.is_categorical(cols):\n",
      "/Users/andrewlee/.local/share/virtualenvs/Shipping_Dashboard-Ne9HZrax/lib/python3.9/site-packages/category_encoders/utils.py:21: FutureWarning: is_categorical is deprecated and will be removed in a future version.  Use is_categorical_dtype instead\n",
      "  elif pd.api.types.is_categorical(cols):\n",
      "/Users/andrewlee/.local/share/virtualenvs/Shipping_Dashboard-Ne9HZrax/lib/python3.9/site-packages/category_encoders/utils.py:21: FutureWarning: is_categorical is deprecated and will be removed in a future version.  Use is_categorical_dtype instead\n",
      "  elif pd.api.types.is_categorical(cols):\n",
      "/Users/andrewlee/.local/share/virtualenvs/Shipping_Dashboard-Ne9HZrax/lib/python3.9/site-packages/category_encoders/utils.py:21: FutureWarning: is_categorical is deprecated and will be removed in a future version.  Use is_categorical_dtype instead\n",
      "  elif pd.api.types.is_categorical(cols):\n",
      "/Users/andrewlee/.local/share/virtualenvs/Shipping_Dashboard-Ne9HZrax/lib/python3.9/site-packages/category_encoders/utils.py:21: FutureWarning: is_categorical is deprecated and will be removed in a future version.  Use is_categorical_dtype instead\n",
      "  elif pd.api.types.is_categorical(cols):\n",
      "/Users/andrewlee/.local/share/virtualenvs/Shipping_Dashboard-Ne9HZrax/lib/python3.9/site-packages/category_encoders/utils.py:21: FutureWarning: is_categorical is deprecated and will be removed in a future version.  Use is_categorical_dtype instead\n",
      "  elif pd.api.types.is_categorical(cols):\n",
      "/Users/andrewlee/.local/share/virtualenvs/Shipping_Dashboard-Ne9HZrax/lib/python3.9/site-packages/category_encoders/utils.py:21: FutureWarning: is_categorical is deprecated and will be removed in a future version.  Use is_categorical_dtype instead\n",
      "  elif pd.api.types.is_categorical(cols):\n",
      "/Users/andrewlee/.local/share/virtualenvs/Shipping_Dashboard-Ne9HZrax/lib/python3.9/site-packages/category_encoders/utils.py:21: FutureWarning: is_categorical is deprecated and will be removed in a future version.  Use is_categorical_dtype instead\n",
      "  elif pd.api.types.is_categorical(cols):\n",
      "/Users/andrewlee/.local/share/virtualenvs/Shipping_Dashboard-Ne9HZrax/lib/python3.9/site-packages/category_encoders/utils.py:21: FutureWarning: is_categorical is deprecated and will be removed in a future version.  Use is_categorical_dtype instead\n",
      "  elif pd.api.types.is_categorical(cols):\n",
      "/Users/andrewlee/.local/share/virtualenvs/Shipping_Dashboard-Ne9HZrax/lib/python3.9/site-packages/category_encoders/utils.py:21: FutureWarning: is_categorical is deprecated and will be removed in a future version.  Use is_categorical_dtype instead\n",
      "  elif pd.api.types.is_categorical(cols):\n",
      "/Users/andrewlee/.local/share/virtualenvs/Shipping_Dashboard-Ne9HZrax/lib/python3.9/site-packages/category_encoders/utils.py:21: FutureWarning: is_categorical is deprecated and will be removed in a future version.  Use is_categorical_dtype instead\n",
      "  elif pd.api.types.is_categorical(cols):\n",
      "/Users/andrewlee/.local/share/virtualenvs/Shipping_Dashboard-Ne9HZrax/lib/python3.9/site-packages/category_encoders/utils.py:21: FutureWarning: is_categorical is deprecated and will be removed in a future version.  Use is_categorical_dtype instead\n",
      "  elif pd.api.types.is_categorical(cols):\n",
      "/Users/andrewlee/.local/share/virtualenvs/Shipping_Dashboard-Ne9HZrax/lib/python3.9/site-packages/category_encoders/utils.py:21: FutureWarning: is_categorical is deprecated and will be removed in a future version.  Use is_categorical_dtype instead\n",
      "  elif pd.api.types.is_categorical(cols):\n",
      "/Users/andrewlee/.local/share/virtualenvs/Shipping_Dashboard-Ne9HZrax/lib/python3.9/site-packages/category_encoders/utils.py:21: FutureWarning: is_categorical is deprecated and will be removed in a future version.  Use is_categorical_dtype instead\n",
      "  elif pd.api.types.is_categorical(cols):\n",
      "/Users/andrewlee/.local/share/virtualenvs/Shipping_Dashboard-Ne9HZrax/lib/python3.9/site-packages/category_encoders/utils.py:21: FutureWarning: is_categorical is deprecated and will be removed in a future version.  Use is_categorical_dtype instead\n",
      "  elif pd.api.types.is_categorical(cols):\n",
      "/Users/andrewlee/.local/share/virtualenvs/Shipping_Dashboard-Ne9HZrax/lib/python3.9/site-packages/category_encoders/utils.py:21: FutureWarning: is_categorical is deprecated and will be removed in a future version.  Use is_categorical_dtype instead\n",
      "  elif pd.api.types.is_categorical(cols):\n",
      "/Users/andrewlee/.local/share/virtualenvs/Shipping_Dashboard-Ne9HZrax/lib/python3.9/site-packages/category_encoders/utils.py:21: FutureWarning: is_categorical is deprecated and will be removed in a future version.  Use is_categorical_dtype instead\n",
      "  elif pd.api.types.is_categorical(cols):\n",
      "/Users/andrewlee/.local/share/virtualenvs/Shipping_Dashboard-Ne9HZrax/lib/python3.9/site-packages/category_encoders/utils.py:21: FutureWarning: is_categorical is deprecated and will be removed in a future version.  Use is_categorical_dtype instead\n",
      "  elif pd.api.types.is_categorical(cols):\n",
      "/Users/andrewlee/.local/share/virtualenvs/Shipping_Dashboard-Ne9HZrax/lib/python3.9/site-packages/category_encoders/utils.py:21: FutureWarning: is_categorical is deprecated and will be removed in a future version.  Use is_categorical_dtype instead\n",
      "  elif pd.api.types.is_categorical(cols):\n",
      "/Users/andrewlee/.local/share/virtualenvs/Shipping_Dashboard-Ne9HZrax/lib/python3.9/site-packages/category_encoders/utils.py:21: FutureWarning: is_categorical is deprecated and will be removed in a future version.  Use is_categorical_dtype instead\n",
      "  elif pd.api.types.is_categorical(cols):\n",
      "/Users/andrewlee/.local/share/virtualenvs/Shipping_Dashboard-Ne9HZrax/lib/python3.9/site-packages/category_encoders/utils.py:21: FutureWarning: is_categorical is deprecated and will be removed in a future version.  Use is_categorical_dtype instead\n",
      "  elif pd.api.types.is_categorical(cols):\n",
      "/Users/andrewlee/.local/share/virtualenvs/Shipping_Dashboard-Ne9HZrax/lib/python3.9/site-packages/category_encoders/utils.py:21: FutureWarning: is_categorical is deprecated and will be removed in a future version.  Use is_categorical_dtype instead\n",
      "  elif pd.api.types.is_categorical(cols):\n"
     ]
    },
    {
     "name": "stderr",
     "output_type": "stream",
     "text": [
      "/Users/andrewlee/.local/share/virtualenvs/Shipping_Dashboard-Ne9HZrax/lib/python3.9/site-packages/category_encoders/utils.py:21: FutureWarning: is_categorical is deprecated and will be removed in a future version.  Use is_categorical_dtype instead\n",
      "  elif pd.api.types.is_categorical(cols):\n",
      "/Users/andrewlee/.local/share/virtualenvs/Shipping_Dashboard-Ne9HZrax/lib/python3.9/site-packages/category_encoders/utils.py:21: FutureWarning: is_categorical is deprecated and will be removed in a future version.  Use is_categorical_dtype instead\n",
      "  elif pd.api.types.is_categorical(cols):\n",
      "/Users/andrewlee/.local/share/virtualenvs/Shipping_Dashboard-Ne9HZrax/lib/python3.9/site-packages/category_encoders/utils.py:21: FutureWarning: is_categorical is deprecated and will be removed in a future version.  Use is_categorical_dtype instead\n",
      "  elif pd.api.types.is_categorical(cols):\n",
      "/Users/andrewlee/.local/share/virtualenvs/Shipping_Dashboard-Ne9HZrax/lib/python3.9/site-packages/category_encoders/utils.py:21: FutureWarning: is_categorical is deprecated and will be removed in a future version.  Use is_categorical_dtype instead\n",
      "  elif pd.api.types.is_categorical(cols):\n",
      "/Users/andrewlee/.local/share/virtualenvs/Shipping_Dashboard-Ne9HZrax/lib/python3.9/site-packages/category_encoders/utils.py:21: FutureWarning: is_categorical is deprecated and will be removed in a future version.  Use is_categorical_dtype instead\n",
      "  elif pd.api.types.is_categorical(cols):\n",
      "/Users/andrewlee/.local/share/virtualenvs/Shipping_Dashboard-Ne9HZrax/lib/python3.9/site-packages/category_encoders/utils.py:21: FutureWarning: is_categorical is deprecated and will be removed in a future version.  Use is_categorical_dtype instead\n",
      "  elif pd.api.types.is_categorical(cols):\n",
      "/Users/andrewlee/.local/share/virtualenvs/Shipping_Dashboard-Ne9HZrax/lib/python3.9/site-packages/category_encoders/utils.py:21: FutureWarning: is_categorical is deprecated and will be removed in a future version.  Use is_categorical_dtype instead\n",
      "  elif pd.api.types.is_categorical(cols):\n",
      "/Users/andrewlee/.local/share/virtualenvs/Shipping_Dashboard-Ne9HZrax/lib/python3.9/site-packages/category_encoders/utils.py:21: FutureWarning: is_categorical is deprecated and will be removed in a future version.  Use is_categorical_dtype instead\n",
      "  elif pd.api.types.is_categorical(cols):\n",
      "/Users/andrewlee/.local/share/virtualenvs/Shipping_Dashboard-Ne9HZrax/lib/python3.9/site-packages/category_encoders/utils.py:21: FutureWarning: is_categorical is deprecated and will be removed in a future version.  Use is_categorical_dtype instead\n",
      "  elif pd.api.types.is_categorical(cols):\n",
      "/Users/andrewlee/.local/share/virtualenvs/Shipping_Dashboard-Ne9HZrax/lib/python3.9/site-packages/category_encoders/utils.py:21: FutureWarning: is_categorical is deprecated and will be removed in a future version.  Use is_categorical_dtype instead\n",
      "  elif pd.api.types.is_categorical(cols):\n",
      "/Users/andrewlee/.local/share/virtualenvs/Shipping_Dashboard-Ne9HZrax/lib/python3.9/site-packages/category_encoders/utils.py:21: FutureWarning: is_categorical is deprecated and will be removed in a future version.  Use is_categorical_dtype instead\n",
      "  elif pd.api.types.is_categorical(cols):\n",
      "/Users/andrewlee/.local/share/virtualenvs/Shipping_Dashboard-Ne9HZrax/lib/python3.9/site-packages/category_encoders/utils.py:21: FutureWarning: is_categorical is deprecated and will be removed in a future version.  Use is_categorical_dtype instead\n",
      "  elif pd.api.types.is_categorical(cols):\n",
      "/Users/andrewlee/.local/share/virtualenvs/Shipping_Dashboard-Ne9HZrax/lib/python3.9/site-packages/category_encoders/utils.py:21: FutureWarning: is_categorical is deprecated and will be removed in a future version.  Use is_categorical_dtype instead\n",
      "  elif pd.api.types.is_categorical(cols):\n",
      "/Users/andrewlee/.local/share/virtualenvs/Shipping_Dashboard-Ne9HZrax/lib/python3.9/site-packages/category_encoders/utils.py:21: FutureWarning: is_categorical is deprecated and will be removed in a future version.  Use is_categorical_dtype instead\n",
      "  elif pd.api.types.is_categorical(cols):\n",
      "/Users/andrewlee/.local/share/virtualenvs/Shipping_Dashboard-Ne9HZrax/lib/python3.9/site-packages/category_encoders/utils.py:21: FutureWarning: is_categorical is deprecated and will be removed in a future version.  Use is_categorical_dtype instead\n",
      "  elif pd.api.types.is_categorical(cols):\n",
      "/Users/andrewlee/.local/share/virtualenvs/Shipping_Dashboard-Ne9HZrax/lib/python3.9/site-packages/category_encoders/utils.py:21: FutureWarning: is_categorical is deprecated and will be removed in a future version.  Use is_categorical_dtype instead\n",
      "  elif pd.api.types.is_categorical(cols):\n",
      "/Users/andrewlee/.local/share/virtualenvs/Shipping_Dashboard-Ne9HZrax/lib/python3.9/site-packages/category_encoders/utils.py:21: FutureWarning: is_categorical is deprecated and will be removed in a future version.  Use is_categorical_dtype instead\n",
      "  elif pd.api.types.is_categorical(cols):\n",
      "/Users/andrewlee/.local/share/virtualenvs/Shipping_Dashboard-Ne9HZrax/lib/python3.9/site-packages/category_encoders/utils.py:21: FutureWarning: is_categorical is deprecated and will be removed in a future version.  Use is_categorical_dtype instead\n",
      "  elif pd.api.types.is_categorical(cols):\n",
      "/Users/andrewlee/.local/share/virtualenvs/Shipping_Dashboard-Ne9HZrax/lib/python3.9/site-packages/category_encoders/utils.py:21: FutureWarning: is_categorical is deprecated and will be removed in a future version.  Use is_categorical_dtype instead\n",
      "  elif pd.api.types.is_categorical(cols):\n",
      "/Users/andrewlee/.local/share/virtualenvs/Shipping_Dashboard-Ne9HZrax/lib/python3.9/site-packages/category_encoders/utils.py:21: FutureWarning: is_categorical is deprecated and will be removed in a future version.  Use is_categorical_dtype instead\n",
      "  elif pd.api.types.is_categorical(cols):\n",
      "/Users/andrewlee/.local/share/virtualenvs/Shipping_Dashboard-Ne9HZrax/lib/python3.9/site-packages/category_encoders/utils.py:21: FutureWarning: is_categorical is deprecated and will be removed in a future version.  Use is_categorical_dtype instead\n",
      "  elif pd.api.types.is_categorical(cols):\n",
      "/Users/andrewlee/.local/share/virtualenvs/Shipping_Dashboard-Ne9HZrax/lib/python3.9/site-packages/category_encoders/utils.py:21: FutureWarning: is_categorical is deprecated and will be removed in a future version.  Use is_categorical_dtype instead\n",
      "  elif pd.api.types.is_categorical(cols):\n",
      "/Users/andrewlee/.local/share/virtualenvs/Shipping_Dashboard-Ne9HZrax/lib/python3.9/site-packages/category_encoders/utils.py:21: FutureWarning: is_categorical is deprecated and will be removed in a future version.  Use is_categorical_dtype instead\n",
      "  elif pd.api.types.is_categorical(cols):\n",
      "/Users/andrewlee/.local/share/virtualenvs/Shipping_Dashboard-Ne9HZrax/lib/python3.9/site-packages/category_encoders/utils.py:21: FutureWarning: is_categorical is deprecated and will be removed in a future version.  Use is_categorical_dtype instead\n",
      "  elif pd.api.types.is_categorical(cols):\n",
      "/Users/andrewlee/.local/share/virtualenvs/Shipping_Dashboard-Ne9HZrax/lib/python3.9/site-packages/category_encoders/utils.py:21: FutureWarning: is_categorical is deprecated and will be removed in a future version.  Use is_categorical_dtype instead\n",
      "  elif pd.api.types.is_categorical(cols):\n",
      "/Users/andrewlee/.local/share/virtualenvs/Shipping_Dashboard-Ne9HZrax/lib/python3.9/site-packages/category_encoders/utils.py:21: FutureWarning: is_categorical is deprecated and will be removed in a future version.  Use is_categorical_dtype instead\n",
      "  elif pd.api.types.is_categorical(cols):\n",
      "/Users/andrewlee/.local/share/virtualenvs/Shipping_Dashboard-Ne9HZrax/lib/python3.9/site-packages/category_encoders/utils.py:21: FutureWarning: is_categorical is deprecated and will be removed in a future version.  Use is_categorical_dtype instead\n",
      "  elif pd.api.types.is_categorical(cols):\n",
      "/Users/andrewlee/.local/share/virtualenvs/Shipping_Dashboard-Ne9HZrax/lib/python3.9/site-packages/category_encoders/utils.py:21: FutureWarning: is_categorical is deprecated and will be removed in a future version.  Use is_categorical_dtype instead\n",
      "  elif pd.api.types.is_categorical(cols):\n",
      "/Users/andrewlee/.local/share/virtualenvs/Shipping_Dashboard-Ne9HZrax/lib/python3.9/site-packages/category_encoders/utils.py:21: FutureWarning: is_categorical is deprecated and will be removed in a future version.  Use is_categorical_dtype instead\n",
      "  elif pd.api.types.is_categorical(cols):\n"
     ]
    },
    {
     "name": "stderr",
     "output_type": "stream",
     "text": [
      "/Users/andrewlee/.local/share/virtualenvs/Shipping_Dashboard-Ne9HZrax/lib/python3.9/site-packages/category_encoders/utils.py:21: FutureWarning: is_categorical is deprecated and will be removed in a future version.  Use is_categorical_dtype instead\n",
      "  elif pd.api.types.is_categorical(cols):\n",
      "/Users/andrewlee/.local/share/virtualenvs/Shipping_Dashboard-Ne9HZrax/lib/python3.9/site-packages/category_encoders/utils.py:21: FutureWarning: is_categorical is deprecated and will be removed in a future version.  Use is_categorical_dtype instead\n",
      "  elif pd.api.types.is_categorical(cols):\n",
      "/Users/andrewlee/.local/share/virtualenvs/Shipping_Dashboard-Ne9HZrax/lib/python3.9/site-packages/category_encoders/utils.py:21: FutureWarning: is_categorical is deprecated and will be removed in a future version.  Use is_categorical_dtype instead\n",
      "  elif pd.api.types.is_categorical(cols):\n",
      "/Users/andrewlee/.local/share/virtualenvs/Shipping_Dashboard-Ne9HZrax/lib/python3.9/site-packages/category_encoders/utils.py:21: FutureWarning: is_categorical is deprecated and will be removed in a future version.  Use is_categorical_dtype instead\n",
      "  elif pd.api.types.is_categorical(cols):\n",
      "/Users/andrewlee/.local/share/virtualenvs/Shipping_Dashboard-Ne9HZrax/lib/python3.9/site-packages/category_encoders/utils.py:21: FutureWarning: is_categorical is deprecated and will be removed in a future version.  Use is_categorical_dtype instead\n",
      "  elif pd.api.types.is_categorical(cols):\n",
      "/Users/andrewlee/.local/share/virtualenvs/Shipping_Dashboard-Ne9HZrax/lib/python3.9/site-packages/category_encoders/utils.py:21: FutureWarning: is_categorical is deprecated and will be removed in a future version.  Use is_categorical_dtype instead\n",
      "  elif pd.api.types.is_categorical(cols):\n",
      "/Users/andrewlee/.local/share/virtualenvs/Shipping_Dashboard-Ne9HZrax/lib/python3.9/site-packages/category_encoders/utils.py:21: FutureWarning: is_categorical is deprecated and will be removed in a future version.  Use is_categorical_dtype instead\n",
      "  elif pd.api.types.is_categorical(cols):\n",
      "/Users/andrewlee/.local/share/virtualenvs/Shipping_Dashboard-Ne9HZrax/lib/python3.9/site-packages/category_encoders/utils.py:21: FutureWarning: is_categorical is deprecated and will be removed in a future version.  Use is_categorical_dtype instead\n",
      "  elif pd.api.types.is_categorical(cols):\n",
      "/Users/andrewlee/.local/share/virtualenvs/Shipping_Dashboard-Ne9HZrax/lib/python3.9/site-packages/category_encoders/utils.py:21: FutureWarning: is_categorical is deprecated and will be removed in a future version.  Use is_categorical_dtype instead\n",
      "  elif pd.api.types.is_categorical(cols):\n",
      "/Users/andrewlee/.local/share/virtualenvs/Shipping_Dashboard-Ne9HZrax/lib/python3.9/site-packages/category_encoders/utils.py:21: FutureWarning: is_categorical is deprecated and will be removed in a future version.  Use is_categorical_dtype instead\n",
      "  elif pd.api.types.is_categorical(cols):\n",
      "/Users/andrewlee/.local/share/virtualenvs/Shipping_Dashboard-Ne9HZrax/lib/python3.9/site-packages/category_encoders/utils.py:21: FutureWarning: is_categorical is deprecated and will be removed in a future version.  Use is_categorical_dtype instead\n",
      "  elif pd.api.types.is_categorical(cols):\n",
      "/Users/andrewlee/.local/share/virtualenvs/Shipping_Dashboard-Ne9HZrax/lib/python3.9/site-packages/category_encoders/utils.py:21: FutureWarning: is_categorical is deprecated and will be removed in a future version.  Use is_categorical_dtype instead\n",
      "  elif pd.api.types.is_categorical(cols):\n",
      "/Users/andrewlee/.local/share/virtualenvs/Shipping_Dashboard-Ne9HZrax/lib/python3.9/site-packages/category_encoders/utils.py:21: FutureWarning: is_categorical is deprecated and will be removed in a future version.  Use is_categorical_dtype instead\n",
      "  elif pd.api.types.is_categorical(cols):\n",
      "/Users/andrewlee/.local/share/virtualenvs/Shipping_Dashboard-Ne9HZrax/lib/python3.9/site-packages/category_encoders/utils.py:21: FutureWarning: is_categorical is deprecated and will be removed in a future version.  Use is_categorical_dtype instead\n",
      "  elif pd.api.types.is_categorical(cols):\n",
      "/Users/andrewlee/.local/share/virtualenvs/Shipping_Dashboard-Ne9HZrax/lib/python3.9/site-packages/category_encoders/utils.py:21: FutureWarning: is_categorical is deprecated and will be removed in a future version.  Use is_categorical_dtype instead\n",
      "  elif pd.api.types.is_categorical(cols):\n",
      "/Users/andrewlee/.local/share/virtualenvs/Shipping_Dashboard-Ne9HZrax/lib/python3.9/site-packages/category_encoders/utils.py:21: FutureWarning: is_categorical is deprecated and will be removed in a future version.  Use is_categorical_dtype instead\n",
      "  elif pd.api.types.is_categorical(cols):\n",
      "/Users/andrewlee/.local/share/virtualenvs/Shipping_Dashboard-Ne9HZrax/lib/python3.9/site-packages/category_encoders/utils.py:21: FutureWarning: is_categorical is deprecated and will be removed in a future version.  Use is_categorical_dtype instead\n",
      "  elif pd.api.types.is_categorical(cols):\n",
      "/Users/andrewlee/.local/share/virtualenvs/Shipping_Dashboard-Ne9HZrax/lib/python3.9/site-packages/category_encoders/utils.py:21: FutureWarning: is_categorical is deprecated and will be removed in a future version.  Use is_categorical_dtype instead\n",
      "  elif pd.api.types.is_categorical(cols):\n",
      "/Users/andrewlee/.local/share/virtualenvs/Shipping_Dashboard-Ne9HZrax/lib/python3.9/site-packages/category_encoders/utils.py:21: FutureWarning: is_categorical is deprecated and will be removed in a future version.  Use is_categorical_dtype instead\n",
      "  elif pd.api.types.is_categorical(cols):\n",
      "/Users/andrewlee/.local/share/virtualenvs/Shipping_Dashboard-Ne9HZrax/lib/python3.9/site-packages/category_encoders/utils.py:21: FutureWarning: is_categorical is deprecated and will be removed in a future version.  Use is_categorical_dtype instead\n",
      "  elif pd.api.types.is_categorical(cols):\n",
      "/Users/andrewlee/.local/share/virtualenvs/Shipping_Dashboard-Ne9HZrax/lib/python3.9/site-packages/category_encoders/utils.py:21: FutureWarning: is_categorical is deprecated and will be removed in a future version.  Use is_categorical_dtype instead\n",
      "  elif pd.api.types.is_categorical(cols):\n",
      "/Users/andrewlee/.local/share/virtualenvs/Shipping_Dashboard-Ne9HZrax/lib/python3.9/site-packages/category_encoders/utils.py:21: FutureWarning: is_categorical is deprecated and will be removed in a future version.  Use is_categorical_dtype instead\n",
      "  elif pd.api.types.is_categorical(cols):\n",
      "/Users/andrewlee/.local/share/virtualenvs/Shipping_Dashboard-Ne9HZrax/lib/python3.9/site-packages/category_encoders/utils.py:21: FutureWarning: is_categorical is deprecated and will be removed in a future version.  Use is_categorical_dtype instead\n",
      "  elif pd.api.types.is_categorical(cols):\n",
      "/Users/andrewlee/.local/share/virtualenvs/Shipping_Dashboard-Ne9HZrax/lib/python3.9/site-packages/category_encoders/utils.py:21: FutureWarning: is_categorical is deprecated and will be removed in a future version.  Use is_categorical_dtype instead\n",
      "  elif pd.api.types.is_categorical(cols):\n",
      "/Users/andrewlee/.local/share/virtualenvs/Shipping_Dashboard-Ne9HZrax/lib/python3.9/site-packages/category_encoders/utils.py:21: FutureWarning: is_categorical is deprecated and will be removed in a future version.  Use is_categorical_dtype instead\n",
      "  elif pd.api.types.is_categorical(cols):\n",
      "/Users/andrewlee/.local/share/virtualenvs/Shipping_Dashboard-Ne9HZrax/lib/python3.9/site-packages/category_encoders/utils.py:21: FutureWarning: is_categorical is deprecated and will be removed in a future version.  Use is_categorical_dtype instead\n",
      "  elif pd.api.types.is_categorical(cols):\n",
      "/Users/andrewlee/.local/share/virtualenvs/Shipping_Dashboard-Ne9HZrax/lib/python3.9/site-packages/category_encoders/utils.py:21: FutureWarning: is_categorical is deprecated and will be removed in a future version.  Use is_categorical_dtype instead\n",
      "  elif pd.api.types.is_categorical(cols):\n",
      "/Users/andrewlee/.local/share/virtualenvs/Shipping_Dashboard-Ne9HZrax/lib/python3.9/site-packages/category_encoders/utils.py:21: FutureWarning: is_categorical is deprecated and will be removed in a future version.  Use is_categorical_dtype instead\n",
      "  elif pd.api.types.is_categorical(cols):\n",
      "/Users/andrewlee/.local/share/virtualenvs/Shipping_Dashboard-Ne9HZrax/lib/python3.9/site-packages/category_encoders/utils.py:21: FutureWarning: is_categorical is deprecated and will be removed in a future version.  Use is_categorical_dtype instead\n",
      "  elif pd.api.types.is_categorical(cols):\n"
     ]
    },
    {
     "name": "stderr",
     "output_type": "stream",
     "text": [
      "/Users/andrewlee/.local/share/virtualenvs/Shipping_Dashboard-Ne9HZrax/lib/python3.9/site-packages/category_encoders/utils.py:21: FutureWarning: is_categorical is deprecated and will be removed in a future version.  Use is_categorical_dtype instead\n",
      "  elif pd.api.types.is_categorical(cols):\n",
      "/Users/andrewlee/.local/share/virtualenvs/Shipping_Dashboard-Ne9HZrax/lib/python3.9/site-packages/category_encoders/utils.py:21: FutureWarning: is_categorical is deprecated and will be removed in a future version.  Use is_categorical_dtype instead\n",
      "  elif pd.api.types.is_categorical(cols):\n",
      "/Users/andrewlee/.local/share/virtualenvs/Shipping_Dashboard-Ne9HZrax/lib/python3.9/site-packages/category_encoders/utils.py:21: FutureWarning: is_categorical is deprecated and will be removed in a future version.  Use is_categorical_dtype instead\n",
      "  elif pd.api.types.is_categorical(cols):\n",
      "/Users/andrewlee/.local/share/virtualenvs/Shipping_Dashboard-Ne9HZrax/lib/python3.9/site-packages/category_encoders/utils.py:21: FutureWarning: is_categorical is deprecated and will be removed in a future version.  Use is_categorical_dtype instead\n",
      "  elif pd.api.types.is_categorical(cols):\n",
      "/Users/andrewlee/.local/share/virtualenvs/Shipping_Dashboard-Ne9HZrax/lib/python3.9/site-packages/category_encoders/utils.py:21: FutureWarning: is_categorical is deprecated and will be removed in a future version.  Use is_categorical_dtype instead\n",
      "  elif pd.api.types.is_categorical(cols):\n",
      "/Users/andrewlee/.local/share/virtualenvs/Shipping_Dashboard-Ne9HZrax/lib/python3.9/site-packages/category_encoders/utils.py:21: FutureWarning: is_categorical is deprecated and will be removed in a future version.  Use is_categorical_dtype instead\n",
      "  elif pd.api.types.is_categorical(cols):\n",
      "/Users/andrewlee/.local/share/virtualenvs/Shipping_Dashboard-Ne9HZrax/lib/python3.9/site-packages/category_encoders/utils.py:21: FutureWarning: is_categorical is deprecated and will be removed in a future version.  Use is_categorical_dtype instead\n",
      "  elif pd.api.types.is_categorical(cols):\n",
      "/Users/andrewlee/.local/share/virtualenvs/Shipping_Dashboard-Ne9HZrax/lib/python3.9/site-packages/category_encoders/utils.py:21: FutureWarning: is_categorical is deprecated and will be removed in a future version.  Use is_categorical_dtype instead\n",
      "  elif pd.api.types.is_categorical(cols):\n",
      "/Users/andrewlee/.local/share/virtualenvs/Shipping_Dashboard-Ne9HZrax/lib/python3.9/site-packages/category_encoders/utils.py:21: FutureWarning: is_categorical is deprecated and will be removed in a future version.  Use is_categorical_dtype instead\n",
      "  elif pd.api.types.is_categorical(cols):\n",
      "/Users/andrewlee/.local/share/virtualenvs/Shipping_Dashboard-Ne9HZrax/lib/python3.9/site-packages/category_encoders/utils.py:21: FutureWarning: is_categorical is deprecated and will be removed in a future version.  Use is_categorical_dtype instead\n",
      "  elif pd.api.types.is_categorical(cols):\n",
      "/Users/andrewlee/.local/share/virtualenvs/Shipping_Dashboard-Ne9HZrax/lib/python3.9/site-packages/category_encoders/utils.py:21: FutureWarning: is_categorical is deprecated and will be removed in a future version.  Use is_categorical_dtype instead\n",
      "  elif pd.api.types.is_categorical(cols):\n",
      "/Users/andrewlee/.local/share/virtualenvs/Shipping_Dashboard-Ne9HZrax/lib/python3.9/site-packages/category_encoders/utils.py:21: FutureWarning: is_categorical is deprecated and will be removed in a future version.  Use is_categorical_dtype instead\n",
      "  elif pd.api.types.is_categorical(cols):\n",
      "/Users/andrewlee/.local/share/virtualenvs/Shipping_Dashboard-Ne9HZrax/lib/python3.9/site-packages/category_encoders/utils.py:21: FutureWarning: is_categorical is deprecated and will be removed in a future version.  Use is_categorical_dtype instead\n",
      "  elif pd.api.types.is_categorical(cols):\n",
      "/Users/andrewlee/.local/share/virtualenvs/Shipping_Dashboard-Ne9HZrax/lib/python3.9/site-packages/category_encoders/utils.py:21: FutureWarning: is_categorical is deprecated and will be removed in a future version.  Use is_categorical_dtype instead\n",
      "  elif pd.api.types.is_categorical(cols):\n",
      "/Users/andrewlee/.local/share/virtualenvs/Shipping_Dashboard-Ne9HZrax/lib/python3.9/site-packages/category_encoders/utils.py:21: FutureWarning: is_categorical is deprecated and will be removed in a future version.  Use is_categorical_dtype instead\n",
      "  elif pd.api.types.is_categorical(cols):\n",
      "/Users/andrewlee/.local/share/virtualenvs/Shipping_Dashboard-Ne9HZrax/lib/python3.9/site-packages/category_encoders/utils.py:21: FutureWarning: is_categorical is deprecated and will be removed in a future version.  Use is_categorical_dtype instead\n",
      "  elif pd.api.types.is_categorical(cols):\n",
      "/Users/andrewlee/.local/share/virtualenvs/Shipping_Dashboard-Ne9HZrax/lib/python3.9/site-packages/category_encoders/utils.py:21: FutureWarning: is_categorical is deprecated and will be removed in a future version.  Use is_categorical_dtype instead\n",
      "  elif pd.api.types.is_categorical(cols):\n",
      "/Users/andrewlee/.local/share/virtualenvs/Shipping_Dashboard-Ne9HZrax/lib/python3.9/site-packages/category_encoders/utils.py:21: FutureWarning: is_categorical is deprecated and will be removed in a future version.  Use is_categorical_dtype instead\n",
      "  elif pd.api.types.is_categorical(cols):\n",
      "/Users/andrewlee/.local/share/virtualenvs/Shipping_Dashboard-Ne9HZrax/lib/python3.9/site-packages/category_encoders/utils.py:21: FutureWarning: is_categorical is deprecated and will be removed in a future version.  Use is_categorical_dtype instead\n",
      "  elif pd.api.types.is_categorical(cols):\n",
      "/Users/andrewlee/.local/share/virtualenvs/Shipping_Dashboard-Ne9HZrax/lib/python3.9/site-packages/category_encoders/utils.py:21: FutureWarning: is_categorical is deprecated and will be removed in a future version.  Use is_categorical_dtype instead\n",
      "  elif pd.api.types.is_categorical(cols):\n",
      "/Users/andrewlee/.local/share/virtualenvs/Shipping_Dashboard-Ne9HZrax/lib/python3.9/site-packages/category_encoders/utils.py:21: FutureWarning: is_categorical is deprecated and will be removed in a future version.  Use is_categorical_dtype instead\n",
      "  elif pd.api.types.is_categorical(cols):\n",
      "/Users/andrewlee/.local/share/virtualenvs/Shipping_Dashboard-Ne9HZrax/lib/python3.9/site-packages/category_encoders/utils.py:21: FutureWarning: is_categorical is deprecated and will be removed in a future version.  Use is_categorical_dtype instead\n",
      "  elif pd.api.types.is_categorical(cols):\n",
      "/Users/andrewlee/.local/share/virtualenvs/Shipping_Dashboard-Ne9HZrax/lib/python3.9/site-packages/category_encoders/utils.py:21: FutureWarning: is_categorical is deprecated and will be removed in a future version.  Use is_categorical_dtype instead\n",
      "  elif pd.api.types.is_categorical(cols):\n",
      "/Users/andrewlee/.local/share/virtualenvs/Shipping_Dashboard-Ne9HZrax/lib/python3.9/site-packages/category_encoders/utils.py:21: FutureWarning: is_categorical is deprecated and will be removed in a future version.  Use is_categorical_dtype instead\n",
      "  elif pd.api.types.is_categorical(cols):\n",
      "/Users/andrewlee/.local/share/virtualenvs/Shipping_Dashboard-Ne9HZrax/lib/python3.9/site-packages/category_encoders/utils.py:21: FutureWarning: is_categorical is deprecated and will be removed in a future version.  Use is_categorical_dtype instead\n",
      "  elif pd.api.types.is_categorical(cols):\n",
      "/Users/andrewlee/.local/share/virtualenvs/Shipping_Dashboard-Ne9HZrax/lib/python3.9/site-packages/category_encoders/utils.py:21: FutureWarning: is_categorical is deprecated and will be removed in a future version.  Use is_categorical_dtype instead\n",
      "  elif pd.api.types.is_categorical(cols):\n",
      "/Users/andrewlee/.local/share/virtualenvs/Shipping_Dashboard-Ne9HZrax/lib/python3.9/site-packages/category_encoders/utils.py:21: FutureWarning: is_categorical is deprecated and will be removed in a future version.  Use is_categorical_dtype instead\n",
      "  elif pd.api.types.is_categorical(cols):\n",
      "/Users/andrewlee/.local/share/virtualenvs/Shipping_Dashboard-Ne9HZrax/lib/python3.9/site-packages/category_encoders/utils.py:21: FutureWarning: is_categorical is deprecated and will be removed in a future version.  Use is_categorical_dtype instead\n",
      "  elif pd.api.types.is_categorical(cols):\n",
      "/Users/andrewlee/.local/share/virtualenvs/Shipping_Dashboard-Ne9HZrax/lib/python3.9/site-packages/category_encoders/utils.py:21: FutureWarning: is_categorical is deprecated and will be removed in a future version.  Use is_categorical_dtype instead\n",
      "  elif pd.api.types.is_categorical(cols):\n"
     ]
    },
    {
     "name": "stderr",
     "output_type": "stream",
     "text": [
      "/Users/andrewlee/.local/share/virtualenvs/Shipping_Dashboard-Ne9HZrax/lib/python3.9/site-packages/category_encoders/utils.py:21: FutureWarning: is_categorical is deprecated and will be removed in a future version.  Use is_categorical_dtype instead\n",
      "  elif pd.api.types.is_categorical(cols):\n",
      "/Users/andrewlee/.local/share/virtualenvs/Shipping_Dashboard-Ne9HZrax/lib/python3.9/site-packages/category_encoders/utils.py:21: FutureWarning: is_categorical is deprecated and will be removed in a future version.  Use is_categorical_dtype instead\n",
      "  elif pd.api.types.is_categorical(cols):\n",
      "/Users/andrewlee/.local/share/virtualenvs/Shipping_Dashboard-Ne9HZrax/lib/python3.9/site-packages/category_encoders/utils.py:21: FutureWarning: is_categorical is deprecated and will be removed in a future version.  Use is_categorical_dtype instead\n",
      "  elif pd.api.types.is_categorical(cols):\n",
      "/Users/andrewlee/.local/share/virtualenvs/Shipping_Dashboard-Ne9HZrax/lib/python3.9/site-packages/category_encoders/utils.py:21: FutureWarning: is_categorical is deprecated and will be removed in a future version.  Use is_categorical_dtype instead\n",
      "  elif pd.api.types.is_categorical(cols):\n",
      "/Users/andrewlee/.local/share/virtualenvs/Shipping_Dashboard-Ne9HZrax/lib/python3.9/site-packages/category_encoders/utils.py:21: FutureWarning: is_categorical is deprecated and will be removed in a future version.  Use is_categorical_dtype instead\n",
      "  elif pd.api.types.is_categorical(cols):\n",
      "/Users/andrewlee/.local/share/virtualenvs/Shipping_Dashboard-Ne9HZrax/lib/python3.9/site-packages/category_encoders/utils.py:21: FutureWarning: is_categorical is deprecated and will be removed in a future version.  Use is_categorical_dtype instead\n",
      "  elif pd.api.types.is_categorical(cols):\n",
      "/Users/andrewlee/.local/share/virtualenvs/Shipping_Dashboard-Ne9HZrax/lib/python3.9/site-packages/category_encoders/utils.py:21: FutureWarning: is_categorical is deprecated and will be removed in a future version.  Use is_categorical_dtype instead\n",
      "  elif pd.api.types.is_categorical(cols):\n",
      "/Users/andrewlee/.local/share/virtualenvs/Shipping_Dashboard-Ne9HZrax/lib/python3.9/site-packages/category_encoders/utils.py:21: FutureWarning: is_categorical is deprecated and will be removed in a future version.  Use is_categorical_dtype instead\n",
      "  elif pd.api.types.is_categorical(cols):\n",
      "/Users/andrewlee/.local/share/virtualenvs/Shipping_Dashboard-Ne9HZrax/lib/python3.9/site-packages/category_encoders/utils.py:21: FutureWarning: is_categorical is deprecated and will be removed in a future version.  Use is_categorical_dtype instead\n",
      "  elif pd.api.types.is_categorical(cols):\n",
      "/Users/andrewlee/.local/share/virtualenvs/Shipping_Dashboard-Ne9HZrax/lib/python3.9/site-packages/category_encoders/utils.py:21: FutureWarning: is_categorical is deprecated and will be removed in a future version.  Use is_categorical_dtype instead\n",
      "  elif pd.api.types.is_categorical(cols):\n",
      "/Users/andrewlee/.local/share/virtualenvs/Shipping_Dashboard-Ne9HZrax/lib/python3.9/site-packages/category_encoders/utils.py:21: FutureWarning: is_categorical is deprecated and will be removed in a future version.  Use is_categorical_dtype instead\n",
      "  elif pd.api.types.is_categorical(cols):\n",
      "/Users/andrewlee/.local/share/virtualenvs/Shipping_Dashboard-Ne9HZrax/lib/python3.9/site-packages/category_encoders/utils.py:21: FutureWarning: is_categorical is deprecated and will be removed in a future version.  Use is_categorical_dtype instead\n",
      "  elif pd.api.types.is_categorical(cols):\n",
      "/Users/andrewlee/.local/share/virtualenvs/Shipping_Dashboard-Ne9HZrax/lib/python3.9/site-packages/category_encoders/utils.py:21: FutureWarning: is_categorical is deprecated and will be removed in a future version.  Use is_categorical_dtype instead\n",
      "  elif pd.api.types.is_categorical(cols):\n",
      "/Users/andrewlee/.local/share/virtualenvs/Shipping_Dashboard-Ne9HZrax/lib/python3.9/site-packages/category_encoders/utils.py:21: FutureWarning: is_categorical is deprecated and will be removed in a future version.  Use is_categorical_dtype instead\n",
      "  elif pd.api.types.is_categorical(cols):\n",
      "/Users/andrewlee/.local/share/virtualenvs/Shipping_Dashboard-Ne9HZrax/lib/python3.9/site-packages/category_encoders/utils.py:21: FutureWarning: is_categorical is deprecated and will be removed in a future version.  Use is_categorical_dtype instead\n",
      "  elif pd.api.types.is_categorical(cols):\n",
      "/Users/andrewlee/.local/share/virtualenvs/Shipping_Dashboard-Ne9HZrax/lib/python3.9/site-packages/category_encoders/utils.py:21: FutureWarning: is_categorical is deprecated and will be removed in a future version.  Use is_categorical_dtype instead\n",
      "  elif pd.api.types.is_categorical(cols):\n",
      "/Users/andrewlee/.local/share/virtualenvs/Shipping_Dashboard-Ne9HZrax/lib/python3.9/site-packages/category_encoders/utils.py:21: FutureWarning: is_categorical is deprecated and will be removed in a future version.  Use is_categorical_dtype instead\n",
      "  elif pd.api.types.is_categorical(cols):\n",
      "/Users/andrewlee/.local/share/virtualenvs/Shipping_Dashboard-Ne9HZrax/lib/python3.9/site-packages/category_encoders/utils.py:21: FutureWarning: is_categorical is deprecated and will be removed in a future version.  Use is_categorical_dtype instead\n",
      "  elif pd.api.types.is_categorical(cols):\n",
      "/Users/andrewlee/.local/share/virtualenvs/Shipping_Dashboard-Ne9HZrax/lib/python3.9/site-packages/category_encoders/utils.py:21: FutureWarning: is_categorical is deprecated and will be removed in a future version.  Use is_categorical_dtype instead\n",
      "  elif pd.api.types.is_categorical(cols):\n",
      "/Users/andrewlee/.local/share/virtualenvs/Shipping_Dashboard-Ne9HZrax/lib/python3.9/site-packages/category_encoders/utils.py:21: FutureWarning: is_categorical is deprecated and will be removed in a future version.  Use is_categorical_dtype instead\n",
      "  elif pd.api.types.is_categorical(cols):\n",
      "/Users/andrewlee/.local/share/virtualenvs/Shipping_Dashboard-Ne9HZrax/lib/python3.9/site-packages/category_encoders/utils.py:21: FutureWarning: is_categorical is deprecated and will be removed in a future version.  Use is_categorical_dtype instead\n",
      "  elif pd.api.types.is_categorical(cols):\n",
      "/Users/andrewlee/.local/share/virtualenvs/Shipping_Dashboard-Ne9HZrax/lib/python3.9/site-packages/category_encoders/utils.py:21: FutureWarning: is_categorical is deprecated and will be removed in a future version.  Use is_categorical_dtype instead\n",
      "  elif pd.api.types.is_categorical(cols):\n",
      "/Users/andrewlee/.local/share/virtualenvs/Shipping_Dashboard-Ne9HZrax/lib/python3.9/site-packages/category_encoders/utils.py:21: FutureWarning: is_categorical is deprecated and will be removed in a future version.  Use is_categorical_dtype instead\n",
      "  elif pd.api.types.is_categorical(cols):\n",
      "/Users/andrewlee/.local/share/virtualenvs/Shipping_Dashboard-Ne9HZrax/lib/python3.9/site-packages/category_encoders/utils.py:21: FutureWarning: is_categorical is deprecated and will be removed in a future version.  Use is_categorical_dtype instead\n",
      "  elif pd.api.types.is_categorical(cols):\n",
      "/Users/andrewlee/.local/share/virtualenvs/Shipping_Dashboard-Ne9HZrax/lib/python3.9/site-packages/category_encoders/utils.py:21: FutureWarning: is_categorical is deprecated and will be removed in a future version.  Use is_categorical_dtype instead\n",
      "  elif pd.api.types.is_categorical(cols):\n",
      "/Users/andrewlee/.local/share/virtualenvs/Shipping_Dashboard-Ne9HZrax/lib/python3.9/site-packages/category_encoders/utils.py:21: FutureWarning: is_categorical is deprecated and will be removed in a future version.  Use is_categorical_dtype instead\n",
      "  elif pd.api.types.is_categorical(cols):\n",
      "/Users/andrewlee/.local/share/virtualenvs/Shipping_Dashboard-Ne9HZrax/lib/python3.9/site-packages/category_encoders/utils.py:21: FutureWarning: is_categorical is deprecated and will be removed in a future version.  Use is_categorical_dtype instead\n",
      "  elif pd.api.types.is_categorical(cols):\n",
      "/Users/andrewlee/.local/share/virtualenvs/Shipping_Dashboard-Ne9HZrax/lib/python3.9/site-packages/category_encoders/utils.py:21: FutureWarning: is_categorical is deprecated and will be removed in a future version.  Use is_categorical_dtype instead\n",
      "  elif pd.api.types.is_categorical(cols):\n",
      "/Users/andrewlee/.local/share/virtualenvs/Shipping_Dashboard-Ne9HZrax/lib/python3.9/site-packages/category_encoders/utils.py:21: FutureWarning: is_categorical is deprecated and will be removed in a future version.  Use is_categorical_dtype instead\n",
      "  elif pd.api.types.is_categorical(cols):\n"
     ]
    },
    {
     "data": {
      "text/plain": [
       "GridSearchCV(cv=3,\n",
       "             estimator=Pipeline(steps=[('ordinalencoder',\n",
       "                                        OrdinalEncoder(cols=['Warehouse_block',\n",
       "                                                             'Mode_of_Shipment',\n",
       "                                                             'Product_importance',\n",
       "                                                             'Gender'],\n",
       "                                                       mapping=[{'col': 'Warehouse_block',\n",
       "                                                                 'data_type': dtype('O'),\n",
       "                                                                 'mapping': F      1\n",
       "A      2\n",
       "D      3\n",
       "C      4\n",
       "B      5\n",
       "NaN   -2\n",
       "dtype: int64},\n",
       "                                                                {'col': 'Mode_of_Shipment',\n",
       "                                                                 'data_type': dtype('O'),\n",
       "                                                                 'mapping': Ship      1\n",
       "Flight    2\n",
       "Road      3\n",
       "NaN      -2\n",
       "dtype: int64},\n",
       "                                                                {'col': 'Pr...\n",
       "                                       ('standardscaler', StandardScaler()),\n",
       "                                       ('gradientboostingclassifier',\n",
       "                                        GradientBoostingClassifier(random_state=42))]),\n",
       "             n_jobs=-1,\n",
       "             param_grid={'gradientboostingclassifier__criterion': ['friedman_mse',\n",
       "                                                                   'mse'],\n",
       "                         'gradientboostingclassifier__loss': ['deviance',\n",
       "                                                              'exponential'],\n",
       "                         'gradientboostingclassifier__max_depth': [3, 5, 8, 10],\n",
       "                         'gradientboostingclassifier__n_estimators': [100, 200,\n",
       "                                                                      300]},\n",
       "             verbose=5)"
      ]
     },
     "execution_count": 21,
     "metadata": {},
     "output_type": "execute_result"
    }
   ],
   "source": [
    "# GridSearchCV\n",
    "\n",
    "model_gbc_gs = GridSearchCV(model_gbc,\n",
    "                            param_grid=param_grid,\n",
    "                            n_jobs=-1,\n",
    "                            cv=3,\n",
    "                            verbose=5)\n",
    "\n",
    "model_gbc_gs.fit(X_train, y_train)"
   ]
  },
  {
   "cell_type": "code",
   "execution_count": 22,
   "id": "b1b9da3d",
   "metadata": {},
   "outputs": [
    {
     "data": {
      "text/plain": [
       "{'gradientboostingclassifier__criterion': 'friedman_mse',\n",
       " 'gradientboostingclassifier__loss': 'exponential',\n",
       " 'gradientboostingclassifier__max_depth': 3,\n",
       " 'gradientboostingclassifier__n_estimators': 100}"
      ]
     },
     "execution_count": 22,
     "metadata": {},
     "output_type": "execute_result"
    }
   ],
   "source": [
    "model_gbc_gs.best_params_"
   ]
  },
  {
   "cell_type": "code",
   "execution_count": 23,
   "id": "55346aea",
   "metadata": {},
   "outputs": [],
   "source": [
    "best_model_gs = model_gbc_gs.best_estimator_"
   ]
  },
  {
   "cell_type": "code",
   "execution_count": 24,
   "id": "b2018e74",
   "metadata": {},
   "outputs": [
    {
     "name": "stdout",
     "output_type": "stream",
     "text": [
      "Gradient Boosting Accuracy (Train):  0.7140584157290601\n",
      "Gradient Boosting Accuracy (Test):  0.6836363636363636\n"
     ]
    }
   ],
   "source": [
    "# Scores before Tuning\n",
    "print(\"Gradient Boosting Accuracy (Train): \", model_gbc.score(X_train, y_train))\n",
    "print(\"Gradient Boosting Accuracy (Test): \", model_gbc.score(X_test, y_test))"
   ]
  },
  {
   "cell_type": "code",
   "execution_count": 25,
   "id": "20c5b48f",
   "metadata": {},
   "outputs": [
    {
     "name": "stdout",
     "output_type": "stream",
     "text": [
      "Gradient Boosting Accuracy (Train):  0.7409932946925787\n",
      "Gradient Boosting Accuracy (Test):  0.6795454545454546\n"
     ]
    }
   ],
   "source": [
    "# Scores after RandomizedSearchCV\n",
    "print(\"Gradient Boosting Accuracy (Train): \", best_model_rs.score(X_train, y_train))\n",
    "print(\"Gradient Boosting Accuracy (Test): \", best_model_rs.score(X_test, y_test))"
   ]
  },
  {
   "cell_type": "code",
   "execution_count": 26,
   "id": "49210ea0",
   "metadata": {},
   "outputs": [
    {
     "name": "stdout",
     "output_type": "stream",
     "text": [
      "Gradient Boosting Accuracy (Train):  0.7136038186157518\n",
      "Gradient Boosting Accuracy (Test):  0.6859090909090909\n"
     ]
    }
   ],
   "source": [
    "# Scores after GridSearchCV\n",
    "print(\"Gradient Boosting Accuracy (Train): \", best_model_gs.score(X_train, y_train))\n",
    "print(\"Gradient Boosting Accuracy (Test): \", best_model_gs.score(X_test, y_test))"
   ]
  },
  {
   "cell_type": "markdown",
   "id": "8535da08",
   "metadata": {},
   "source": [
    "# Communicate Results"
   ]
  },
  {
   "cell_type": "code",
   "execution_count": 27,
   "id": "356726ac",
   "metadata": {},
   "outputs": [
    {
     "data": {
      "text/plain": [
       "<sklearn.metrics._plot.confusion_matrix.ConfusionMatrixDisplay at 0x7fe7e4a0d5b0>"
      ]
     },
     "execution_count": 27,
     "metadata": {},
     "output_type": "execute_result"
    },
    {
     "data": {
      "image/png": "[encoded data removed]",
      "text/plain": [
       "<Figure size 432x288 with 2 Axes>"
      ]
     },
     "metadata": {
      "needs_background": "light"
     },
     "output_type": "display_data"
    }
   ],
   "source": [
    "# CONFUSION MATRIX\n",
    "plot_confusion_matrix(best_model_gs, X_test, y_test, values_format=\".0f\",\n",
    "                      display_labels=[\"Shipment Late\", \"Shipment On Time\"])"
   ]
  },
  {
   "cell_type": "code",
   "execution_count": 28,
   "id": "4ab919cc",
   "metadata": {},
   "outputs": [
    {
     "data": {
      "text/plain": [
       "0.6941124391323594"
      ]
     },
     "execution_count": 28,
     "metadata": {},
     "output_type": "execute_result"
    }
   ],
   "source": [
    "f1_score(y_test, best_model_gs.predict(X_test))"
   ]
  },
  {
   "cell_type": "code",
   "execution_count": 29,
   "id": "a1becae8",
   "metadata": {},
   "outputs": [
    {
     "data": {
      "text/plain": [
       "<AxesSubplot:>"
      ]
     },
     "execution_count": 29,
     "metadata": {},
     "output_type": "execute_result"
    },
    {
     "data": {
      "image/png": "[encoded data removed]",
      "text/plain": [
       "<Figure size 432x288 with 1 Axes>"
      ]
     },
     "metadata": {
      "needs_background": "light"
     },
     "output_type": "display_data"
    }
   ],
   "source": [
    "# PERMUTATION IMPORTANCE\n",
    "perm_imp = permutation_importance(best_model_gs, X_test, y_test, n_repeats=10,\n",
    "                                  n_jobs=-1, random_state=42)\n",
    "\n",
    "data = {\"imp_mean\": perm_imp[\"importances_mean\"],\n",
    "        \"imp_std\": perm_imp[\"importances_std\"]}\n",
    "\n",
    "df_perm = pd.DataFrame(data, index=X_test.columns).sort_values(\"imp_mean\")\n",
    "\n",
    "df_perm[\"imp_mean\"].tail(10).plot(kind=\"barh\")"
   ]
  },
  {
   "cell_type": "markdown",
   "id": "392f7495",
   "metadata": {},
   "source": [
    "## Pickle Model"
   ]
  },
  {
   "cell_type": "code",
   "execution_count": 30,
   "id": "8b57943d",
   "metadata": {},
   "outputs": [
    {
     "name": "stdout",
     "output_type": "stream",
     "text": [
      "[CV 2/3] END gradientboostingclassifier__criterion=friedman_mse, gradientboostingclassifier__loss=exponential, gradientboostingclassifier__max_depth=10, gradientboostingclassifier__n_estimators=300;, score=0.648 total time=  13.8s\n",
      "[CV 1/3] END gradientboostingclassifier__criterion=mse, gradientboostingclassifier__loss=deviance, gradientboostingclassifier__max_depth=8, gradientboostingclassifier__n_estimators=100;, score=0.665 total time=   2.7s\n",
      "[CV 1/3] END gradientboostingclassifier__criterion=friedman_mse, gradientboostingclassifier__loss=deviance, gradientboostingclassifier__max_depth=10, gradientboostingclassifier__n_estimators=300;, score=0.651 total time=  12.1s\n",
      "[CV 3/3] END gradientboostingclassifier__criterion=friedman_mse, gradientboostingclassifier__loss=deviance, gradientboostingclassifier__max_depth=3, gradientboostingclassifier__n_estimators=200;, score=0.667 total time=   1.8s\n",
      "[CV 2/3] END gradientboostingclassifier__criterion=friedman_mse, gradientboostingclassifier__loss=deviance, gradientboostingclassifier__max_depth=5, gradientboostingclassifier__n_estimators=200;, score=0.662 total time=   3.1s\n",
      "[CV 1/3] END gradientboostingclassifier__criterion=friedman_mse, gradientboostingclassifier__loss=deviance, gradientboostingclassifier__max_depth=8, gradientboostingclassifier__n_estimators=200;, score=0.661 total time=   6.7s\n",
      "[CV 3/3] END gradientboostingclassifier__criterion=friedman_mse, gradientboostingclassifier__loss=deviance, gradientboostingclassifier__max_depth=10, gradientboostingclassifier__n_estimators=100;, score=0.633 total time=   4.5s\n",
      "[CV 2/3] END gradientboostingclassifier__criterion=friedman_mse, gradientboostingclassifier__loss=deviance, gradientboostingclassifier__max_depth=10, gradientboostingclassifier__n_estimators=300;, score=0.654 total time=  14.6s\n",
      "[CV 2/3] END gradientboostingclassifier__criterion=friedman_mse, gradientboostingclassifier__loss=exponential, gradientboostingclassifier__max_depth=8, gradientboostingclassifier__n_estimators=200;, score=0.653 total time=   8.0s\n",
      "[CV 2/3] END gradientboostingclassifier__criterion=friedman_mse, gradientboostingclassifier__loss=exponential, gradientboostingclassifier__max_depth=10, gradientboostingclassifier__n_estimators=200;, score=0.653 total time=  10.5s\n",
      "[CV 1/3] END gradientboostingclassifier__criterion=mse, gradientboostingclassifier__loss=deviance, gradientboostingclassifier__max_depth=5, gradientboostingclassifier__n_estimators=100;, score=0.655 total time=   1.6s\n",
      "[CV 1/3] END gradientboostingclassifier__criterion=mse, gradientboostingclassifier__loss=deviance, gradientboostingclassifier__max_depth=5, gradientboostingclassifier__n_estimators=200;, score=0.660 total time=   3.1s\n",
      "[CV 3/3] END gradientboostingclassifier__criterion=mse, gradientboostingclassifier__loss=deviance, gradientboostingclassifier__max_depth=5, gradientboostingclassifier__n_estimators=300;, score=0.645 total time=   4.9s\n",
      "[CV 2/3] END gradientboostingclassifier__criterion=mse, gradientboostingclassifier__loss=deviance, gradientboostingclassifier__max_depth=10, gradientboostingclassifier__n_estimators=100;, score=0.658 total time=   4.8s\n",
      "[CV 3/3] END gradientboostingclassifier__criterion=mse, gradientboostingclassifier__loss=deviance, gradientboostingclassifier__max_depth=10, gradientboostingclassifier__n_estimators=200;, score=0.634 total time=   8.9s\n",
      "[CV 2/3] END gradientboostingclassifier__criterion=mse, gradientboostingclassifier__loss=exponential, gradientboostingclassifier__max_depth=5, gradientboostingclassifier__n_estimators=100;, score=0.667 total time=   1.6s\n",
      "[CV 2/3] END gradientboostingclassifier__criterion=mse, gradientboostingclassifier__loss=exponential, gradientboostingclassifier__max_depth=5, gradientboostingclassifier__n_estimators=200;, score=0.657 total time=   3.1s\n",
      "[CV 1/3] END gradientboostingclassifier__criterion=mse, gradientboostingclassifier__loss=exponential, gradientboostingclassifier__max_depth=8, gradientboostingclassifier__n_estimators=100;, score=0.656 total time=   2.9s\n",
      "[CV 2/3] END gradientboostingclassifier__criterion=mse, gradientboostingclassifier__loss=exponential, gradientboostingclassifier__max_depth=8, gradientboostingclassifier__n_estimators=200;, score=0.654 total time=   6.2s\n",
      "[CV 2/3] END gradientboostingclassifier__criterion=mse, gradientboostingclassifier__loss=exponential, gradientboostingclassifier__max_depth=10, gradientboostingclassifier__n_estimators=200;, score=0.658 total time=   9.0s\n",
      "[CV 3/3] END gradientboostingclassifier__criterion=friedman_mse, gradientboostingclassifier__loss=exponential, gradientboostingclassifier__max_depth=10, gradientboostingclassifier__n_estimators=300;, score=0.650 total time=  14.1s\n",
      "[CV 3/3] END gradientboostingclassifier__criterion=mse, gradientboostingclassifier__loss=deviance, gradientboostingclassifier__max_depth=8, gradientboostingclassifier__n_estimators=100;, score=0.651 total time=   2.7s\n",
      "[CV 3/3] END gradientboostingclassifier__criterion=friedman_mse, gradientboostingclassifier__loss=deviance, gradientboostingclassifier__max_depth=10, gradientboostingclassifier__n_estimators=300;, score=0.636 total time=  11.7s\n",
      "[CV 2/3] END gradientboostingclassifier__criterion=friedman_mse, gradientboostingclassifier__loss=deviance, gradientboostingclassifier__max_depth=3, gradientboostingclassifier__n_estimators=200;, score=0.672 total time=   1.8s\n",
      "[CV 1/3] END gradientboostingclassifier__criterion=friedman_mse, gradientboostingclassifier__loss=deviance, gradientboostingclassifier__max_depth=5, gradientboostingclassifier__n_estimators=200;, score=0.661 total time=   3.0s\n",
      "[CV 3/3] END gradientboostingclassifier__criterion=friedman_mse, gradientboostingclassifier__loss=deviance, gradientboostingclassifier__max_depth=8, gradientboostingclassifier__n_estimators=100;, score=0.646 total time=   3.4s\n",
      "[CV 2/3] END gradientboostingclassifier__criterion=friedman_mse, gradientboostingclassifier__loss=deviance, gradientboostingclassifier__max_depth=10, gradientboostingclassifier__n_estimators=100;, score=0.659 total time=   4.4s\n",
      "[CV 2/3] END gradientboostingclassifier__criterion=friedman_mse, gradientboostingclassifier__loss=deviance, gradientboostingclassifier__max_depth=10, gradientboostingclassifier__n_estimators=200;, score=0.658 total time=   9.5s\n",
      "[CV 2/3] END gradientboostingclassifier__criterion=friedman_mse, gradientboostingclassifier__loss=exponential, gradientboostingclassifier__max_depth=3, gradientboostingclassifier__n_estimators=300;, score=0.665 total time=   3.3s\n",
      "[CV 3/3] END gradientboostingclassifier__criterion=friedman_mse, gradientboostingclassifier__loss=exponential, gradientboostingclassifier__max_depth=5, gradientboostingclassifier__n_estimators=200;, score=0.658 total time=   3.3s\n",
      "[CV 3/3] END gradientboostingclassifier__criterion=friedman_mse, gradientboostingclassifier__loss=exponential, gradientboostingclassifier__max_depth=8, gradientboostingclassifier__n_estimators=100;, score=0.652 total time=   3.7s\n",
      "[CV 1/3] END gradientboostingclassifier__criterion=friedman_mse, gradientboostingclassifier__loss=exponential, gradientboostingclassifier__max_depth=10, gradientboostingclassifier__n_estimators=100;, score=0.658 total time=   5.6s\n",
      "[CV 3/3] END gradientboostingclassifier__criterion=friedman_mse, gradientboostingclassifier__loss=exponential, gradientboostingclassifier__max_depth=10, gradientboostingclassifier__n_estimators=100;, score=0.646 total time=   5.3s\n",
      "[CV 2/3] END gradientboostingclassifier__criterion=mse, gradientboostingclassifier__loss=deviance, gradientboostingclassifier__max_depth=3, gradientboostingclassifier__n_estimators=100;, score=0.668 total time=   1.3s\n",
      "[CV 1/3] END gradientboostingclassifier__criterion=mse, gradientboostingclassifier__loss=deviance, gradientboostingclassifier__max_depth=3, gradientboostingclassifier__n_estimators=200;, score=0.668 total time=   2.0s\n",
      "[CV 3/3] END gradientboostingclassifier__criterion=mse, gradientboostingclassifier__loss=deviance, gradientboostingclassifier__max_depth=3, gradientboostingclassifier__n_estimators=200;, score=0.667 total time=   2.3s\n",
      "[CV 3/3] END gradientboostingclassifier__criterion=mse, gradientboostingclassifier__loss=deviance, gradientboostingclassifier__max_depth=3, gradientboostingclassifier__n_estimators=300;, score=0.662 total time=   2.9s\n",
      "[CV 2/3] END gradientboostingclassifier__criterion=mse, gradientboostingclassifier__loss=deviance, gradientboostingclassifier__max_depth=5, gradientboostingclassifier__n_estimators=300;, score=0.654 total time=   4.8s\n",
      "[CV 2/3] END gradientboostingclassifier__criterion=mse, gradientboostingclassifier__loss=deviance, gradientboostingclassifier__max_depth=8, gradientboostingclassifier__n_estimators=200;, score=0.652 total time=   6.4s\n",
      "[CV 2/3] END gradientboostingclassifier__criterion=mse, gradientboostingclassifier__loss=deviance, gradientboostingclassifier__max_depth=10, gradientboostingclassifier__n_estimators=200;, score=0.653 total time=   8.6s\n",
      "[CV 2/3] END gradientboostingclassifier__criterion=mse, gradientboostingclassifier__loss=exponential, gradientboostingclassifier__max_depth=3, gradientboostingclassifier__n_estimators=300;, score=0.665 total time=   2.9s\n",
      "[CV 3/3] END gradientboostingclassifier__criterion=mse, gradientboostingclassifier__loss=exponential, gradientboostingclassifier__max_depth=5, gradientboostingclassifier__n_estimators=200;, score=0.658 total time=   3.1s\n",
      "[CV 3/3] END gradientboostingclassifier__criterion=mse, gradientboostingclassifier__loss=exponential, gradientboostingclassifier__max_depth=8, gradientboostingclassifier__n_estimators=100;, score=0.650 total time=   2.9s\n",
      "[CV 1/3] END gradientboostingclassifier__criterion=mse, gradientboostingclassifier__loss=exponential, gradientboostingclassifier__max_depth=10, gradientboostingclassifier__n_estimators=100;, score=0.666 total time=   4.9s\n",
      "[CV 3/3] END gradientboostingclassifier__criterion=mse, gradientboostingclassifier__loss=exponential, gradientboostingclassifier__max_depth=10, gradientboostingclassifier__n_estimators=100;, score=0.636 total time=   4.7s\n"
     ]
    },
    {
     "name": "stdout",
     "output_type": "stream",
     "text": [
      "[CV 1/3] END gradientboostingclassifier__criterion=mse, gradientboostingclassifier__loss=exponential, gradientboostingclassifier__max_depth=5, gradientboostingclassifier__n_estimators=300;, score=0.659 total time=   4.4s\n",
      "[CV 2/3] END gradientboostingclassifier__criterion=friedman_mse, gradientboostingclassifier__loss=exponential, gradientboostingclassifier__max_depth=8, gradientboostingclassifier__n_estimators=300;, score=0.643 total time=   9.2s\n",
      "[CV 1/3] END gradientboostingclassifier__criterion=mse, gradientboostingclassifier__loss=deviance, gradientboostingclassifier__max_depth=3, gradientboostingclassifier__n_estimators=300;, score=0.663 total time=   2.7s\n",
      "[CV 1/3] END gradientboostingclassifier__criterion=friedman_mse, gradientboostingclassifier__loss=deviance, gradientboostingclassifier__max_depth=5, gradientboostingclassifier__n_estimators=200;, score=0.661 total time=   3.0s\n",
      "[CV 2/3] END gradientboostingclassifier__criterion=mse, gradientboostingclassifier__loss=deviance, gradientboostingclassifier__max_depth=3, gradientboostingclassifier__n_estimators=200;, score=0.672 total time=   1.9s\n",
      "[CV 3/3] END gradientboostingclassifier__criterion=mse, gradientboostingclassifier__loss=deviance, gradientboostingclassifier__max_depth=10, gradientboostingclassifier__n_estimators=300;, score=0.636 total time=  10.1s\n",
      "[CV 1/3] END gradientboostingclassifier__criterion=friedman_mse, gradientboostingclassifier__loss=deviance, gradientboostingclassifier__max_depth=3, gradientboostingclassifier__n_estimators=200;, score=0.668 total time=   1.7s\n",
      "[CV 3/3] END gradientboostingclassifier__criterion=friedman_mse, gradientboostingclassifier__loss=deviance, gradientboostingclassifier__max_depth=5, gradientboostingclassifier__n_estimators=100;, score=0.663 total time=   1.5s\n",
      "[CV 1/3] END gradientboostingclassifier__criterion=friedman_mse, gradientboostingclassifier__loss=deviance, gradientboostingclassifier__max_depth=8, gradientboostingclassifier__n_estimators=100;, score=0.662 total time=   3.0s\n",
      "[CV 3/3] END gradientboostingclassifier__criterion=friedman_mse, gradientboostingclassifier__loss=deviance, gradientboostingclassifier__max_depth=8, gradientboostingclassifier__n_estimators=200;, score=0.648 total time=   6.6s\n",
      "[CV 1/3] END gradientboostingclassifier__criterion=friedman_mse, gradientboostingclassifier__loss=deviance, gradientboostingclassifier__max_depth=10, gradientboostingclassifier__n_estimators=300;, score=0.651 total time=  15.3s\n",
      "[CV 2/3] END gradientboostingclassifier__criterion=friedman_mse, gradientboostingclassifier__loss=exponential, gradientboostingclassifier__max_depth=8, gradientboostingclassifier__n_estimators=100;, score=0.655 total time=   3.2s\n",
      "[CV 2/3] END gradientboostingclassifier__criterion=friedman_mse, gradientboostingclassifier__loss=exponential, gradientboostingclassifier__max_depth=8, gradientboostingclassifier__n_estimators=300;, score=0.643 total time=  11.3s\n",
      "[CV 1/3] END gradientboostingclassifier__criterion=mse, gradientboostingclassifier__loss=deviance, gradientboostingclassifier__max_depth=3, gradientboostingclassifier__n_estimators=100;, score=0.664 total time=   1.2s\n",
      "[CV 3/3] END gradientboostingclassifier__criterion=mse, gradientboostingclassifier__loss=deviance, gradientboostingclassifier__max_depth=3, gradientboostingclassifier__n_estimators=100;, score=0.677 total time=   1.1s\n",
      "[CV 2/3] END gradientboostingclassifier__criterion=mse, gradientboostingclassifier__loss=deviance, gradientboostingclassifier__max_depth=3, gradientboostingclassifier__n_estimators=200;, score=0.672 total time=   2.0s\n",
      "[CV 1/3] END gradientboostingclassifier__criterion=mse, gradientboostingclassifier__loss=deviance, gradientboostingclassifier__max_depth=3, gradientboostingclassifier__n_estimators=300;, score=0.663 total time=   3.4s\n",
      "[CV 3/3] END gradientboostingclassifier__criterion=mse, gradientboostingclassifier__loss=deviance, gradientboostingclassifier__max_depth=5, gradientboostingclassifier__n_estimators=100;, score=0.663 total time=   1.5s\n",
      "[CV 1/3] END gradientboostingclassifier__criterion=mse, gradientboostingclassifier__loss=deviance, gradientboostingclassifier__max_depth=5, gradientboostingclassifier__n_estimators=300;, score=0.657 total time=   4.8s\n",
      "[CV 1/3] END gradientboostingclassifier__criterion=mse, gradientboostingclassifier__loss=deviance, gradientboostingclassifier__max_depth=8, gradientboostingclassifier__n_estimators=200;, score=0.656 total time=   6.3s\n",
      "[CV 3/3] END gradientboostingclassifier__criterion=mse, gradientboostingclassifier__loss=deviance, gradientboostingclassifier__max_depth=10, gradientboostingclassifier__n_estimators=100;, score=0.641 total time=   4.5s\n",
      "[CV 2/3] END gradientboostingclassifier__criterion=mse, gradientboostingclassifier__loss=exponential, gradientboostingclassifier__max_depth=3, gradientboostingclassifier__n_estimators=100;, score=0.667 total time=   0.9s\n",
      "[CV 1/3] END gradientboostingclassifier__criterion=mse, gradientboostingclassifier__loss=exponential, gradientboostingclassifier__max_depth=3, gradientboostingclassifier__n_estimators=200;, score=0.663 total time=   1.8s\n",
      "[CV 3/3] END gradientboostingclassifier__criterion=mse, gradientboostingclassifier__loss=exponential, gradientboostingclassifier__max_depth=3, gradientboostingclassifier__n_estimators=200;, score=0.666 total time=   2.0s\n",
      "[CV 1/3] END gradientboostingclassifier__criterion=mse, gradientboostingclassifier__loss=exponential, gradientboostingclassifier__max_depth=5, gradientboostingclassifier__n_estimators=100;, score=0.662 total time=   1.6s\n",
      "[CV 1/3] END gradientboostingclassifier__criterion=mse, gradientboostingclassifier__loss=exponential, gradientboostingclassifier__max_depth=5, gradientboostingclassifier__n_estimators=200;, score=0.658 total time=   3.2s\n",
      "[CV 3/3] END gradientboostingclassifier__criterion=mse, gradientboostingclassifier__loss=exponential, gradientboostingclassifier__max_depth=5, gradientboostingclassifier__n_estimators=300;, score=0.651 total time=   4.8s\n",
      "[CV 2/3] END gradientboostingclassifier__criterion=mse, gradientboostingclassifier__loss=exponential, gradientboostingclassifier__max_depth=10, gradientboostingclassifier__n_estimators=100;, score=0.660 total time=   4.4s\n",
      "[CV 3/3] END gradientboostingclassifier__criterion=mse, gradientboostingclassifier__loss=exponential, gradientboostingclassifier__max_depth=10, gradientboostingclassifier__n_estimators=200;, score=0.641 total time=   9.2s\n",
      "[CV 2/3] END gradientboostingclassifier__criterion=mse, gradientboostingclassifier__loss=exponential, gradientboostingclassifier__max_depth=5, gradientboostingclassifier__n_estimators=300;, score=0.651 total time=   4.4s\n",
      "[CV 3/3] END gradientboostingclassifier__criterion=mse, gradientboostingclassifier__loss=exponential, gradientboostingclassifier__max_depth=10, gradientboostingclassifier__n_estimators=300;, score=0.645 total time=  14.0s\n",
      "[CV 1/3] END gradientboostingclassifier__criterion=mse, gradientboostingclassifier__loss=deviance, gradientboostingclassifier__max_depth=3, gradientboostingclassifier__n_estimators=200;, score=0.668 total time=   1.8s\n",
      "[CV 2/3] END gradientboostingclassifier__criterion=mse, gradientboostingclassifier__loss=deviance, gradientboostingclassifier__max_depth=10, gradientboostingclassifier__n_estimators=300;, score=0.651 total time=  10.4s\n",
      "[CV 2/3] END gradientboostingclassifier__criterion=friedman_mse, gradientboostingclassifier__loss=deviance, gradientboostingclassifier__max_depth=3, gradientboostingclassifier__n_estimators=100;, score=0.668 total time=   0.9s\n",
      "[CV 1/3] END gradientboostingclassifier__criterion=friedman_mse, gradientboostingclassifier__loss=deviance, gradientboostingclassifier__max_depth=5, gradientboostingclassifier__n_estimators=100;, score=0.655 total time=   1.4s\n",
      "[CV 3/3] END gradientboostingclassifier__criterion=friedman_mse, gradientboostingclassifier__loss=deviance, gradientboostingclassifier__max_depth=5, gradientboostingclassifier__n_estimators=200;, score=0.645 total time=   3.2s\n",
      "[CV 2/3] END gradientboostingclassifier__criterion=friedman_mse, gradientboostingclassifier__loss=deviance, gradientboostingclassifier__max_depth=8, gradientboostingclassifier__n_estimators=200;, score=0.653 total time=   6.6s\n",
      "[CV 1/3] END gradientboostingclassifier__criterion=friedman_mse, gradientboostingclassifier__loss=deviance, gradientboostingclassifier__max_depth=10, gradientboostingclassifier__n_estimators=200;, score=0.660 total time=  10.1s\n",
      "[CV 3/3] END gradientboostingclassifier__criterion=friedman_mse, gradientboostingclassifier__loss=exponential, gradientboostingclassifier__max_depth=3, gradientboostingclassifier__n_estimators=300;, score=0.665 total time=   3.3s\n",
      "[CV 1/3] END gradientboostingclassifier__criterion=friedman_mse, gradientboostingclassifier__loss=exponential, gradientboostingclassifier__max_depth=5, gradientboostingclassifier__n_estimators=300;, score=0.659 total time=   4.9s\n",
      "[CV 1/3] END gradientboostingclassifier__criterion=friedman_mse, gradientboostingclassifier__loss=exponential, gradientboostingclassifier__max_depth=8, gradientboostingclassifier__n_estimators=200;, score=0.655 total time=   8.0s\n",
      "[CV 1/3] END gradientboostingclassifier__criterion=friedman_mse, gradientboostingclassifier__loss=exponential, gradientboostingclassifier__max_depth=10, gradientboostingclassifier__n_estimators=200;, score=0.654 total time=  10.4s\n",
      "[CV 2/3] END gradientboostingclassifier__criterion=mse, gradientboostingclassifier__loss=deviance, gradientboostingclassifier__max_depth=3, gradientboostingclassifier__n_estimators=300;, score=0.668 total time=   3.0s\n",
      "[CV 3/3] END gradientboostingclassifier__criterion=mse, gradientboostingclassifier__loss=deviance, gradientboostingclassifier__max_depth=5, gradientboostingclassifier__n_estimators=200;, score=0.644 total time=   3.1s\n",
      "[CV 3/3] END gradientboostingclassifier__criterion=mse, gradientboostingclassifier__loss=deviance, gradientboostingclassifier__max_depth=8, gradientboostingclassifier__n_estimators=100;, score=0.651 total time=   3.1s\n",
      "[CV 3/3] END gradientboostingclassifier__criterion=mse, gradientboostingclassifier__loss=deviance, gradientboostingclassifier__max_depth=8, gradientboostingclassifier__n_estimators=300;, score=0.643 total time=   9.3s\n",
      "[CV 1/3] END gradientboostingclassifier__criterion=mse, gradientboostingclassifier__loss=exponential, gradientboostingclassifier__max_depth=3, gradientboostingclassifier__n_estimators=100;, score=0.669 total time=   1.0s\n",
      "[CV 3/3] END gradientboostingclassifier__criterion=mse, gradientboostingclassifier__loss=exponential, gradientboostingclassifier__max_depth=3, gradientboostingclassifier__n_estimators=100;, score=0.677 total time=   0.9s\n",
      "[CV 2/3] END gradientboostingclassifier__criterion=mse, gradientboostingclassifier__loss=exponential, gradientboostingclassifier__max_depth=3, gradientboostingclassifier__n_estimators=200;, score=0.667 total time=   1.8s\n",
      "[CV 1/3] END gradientboostingclassifier__criterion=mse, gradientboostingclassifier__loss=exponential, gradientboostingclassifier__max_depth=3, gradientboostingclassifier__n_estimators=300;, score=0.665 total time=   2.9s\n",
      "[CV 3/3] END gradientboostingclassifier__criterion=mse, gradientboostingclassifier__loss=exponential, gradientboostingclassifier__max_depth=5, gradientboostingclassifier__n_estimators=100;, score=0.666 total time=   1.6s\n",
      "[CV 2/3] END gradientboostingclassifier__criterion=mse, gradientboostingclassifier__loss=exponential, gradientboostingclassifier__max_depth=5, gradientboostingclassifier__n_estimators=300;, score=0.651 total time=   4.7s\n",
      "[CV 3/3] END gradientboostingclassifier__criterion=mse, gradientboostingclassifier__loss=exponential, gradientboostingclassifier__max_depth=8, gradientboostingclassifier__n_estimators=200;, score=0.650 total time=   6.2s\n",
      "[CV 1/3] END gradientboostingclassifier__criterion=mse, gradientboostingclassifier__loss=exponential, gradientboostingclassifier__max_depth=10, gradientboostingclassifier__n_estimators=300;, score=0.660 total time=  11.9s\n"
     ]
    },
    {
     "name": "stdout",
     "output_type": "stream",
     "text": [
      "[CV 1/3] END gradientboostingclassifier__criterion=mse, gradientboostingclassifier__loss=exponential, gradientboostingclassifier__max_depth=10, gradientboostingclassifier__n_estimators=300;, score=0.660 total time=  14.0s\n",
      "[CV 2/3] END gradientboostingclassifier__criterion=mse, gradientboostingclassifier__loss=deviance, gradientboostingclassifier__max_depth=8, gradientboostingclassifier__n_estimators=100;, score=0.654 total time=   2.7s\n",
      "[CV 2/3] END gradientboostingclassifier__criterion=friedman_mse, gradientboostingclassifier__loss=deviance, gradientboostingclassifier__max_depth=10, gradientboostingclassifier__n_estimators=300;, score=0.654 total time=  11.5s\n",
      "[CV 1/3] END gradientboostingclassifier__criterion=friedman_mse, gradientboostingclassifier__loss=deviance, gradientboostingclassifier__max_depth=3, gradientboostingclassifier__n_estimators=300;, score=0.663 total time=   2.7s\n",
      "[CV 2/3] END gradientboostingclassifier__criterion=friedman_mse, gradientboostingclassifier__loss=deviance, gradientboostingclassifier__max_depth=5, gradientboostingclassifier__n_estimators=300;, score=0.654 total time=   5.1s\n",
      "[CV 1/3] END gradientboostingclassifier__criterion=friedman_mse, gradientboostingclassifier__loss=deviance, gradientboostingclassifier__max_depth=10, gradientboostingclassifier__n_estimators=100;, score=0.662 total time=   4.9s\n",
      "[CV 3/3] END gradientboostingclassifier__criterion=friedman_mse, gradientboostingclassifier__loss=deviance, gradientboostingclassifier__max_depth=10, gradientboostingclassifier__n_estimators=200;, score=0.629 total time=  10.0s\n",
      "[CV 1/3] END gradientboostingclassifier__criterion=friedman_mse, gradientboostingclassifier__loss=exponential, gradientboostingclassifier__max_depth=5, gradientboostingclassifier__n_estimators=100;, score=0.662 total time=   1.9s\n",
      "[CV 3/3] END gradientboostingclassifier__criterion=friedman_mse, gradientboostingclassifier__loss=exponential, gradientboostingclassifier__max_depth=5, gradientboostingclassifier__n_estimators=100;, score=0.667 total time=   1.6s\n",
      "[CV 2/3] END gradientboostingclassifier__criterion=friedman_mse, gradientboostingclassifier__loss=exponential, gradientboostingclassifier__max_depth=5, gradientboostingclassifier__n_estimators=300;, score=0.651 total time=   5.1s\n",
      "[CV 3/3] END gradientboostingclassifier__criterion=friedman_mse, gradientboostingclassifier__loss=exponential, gradientboostingclassifier__max_depth=8, gradientboostingclassifier__n_estimators=200;, score=0.640 total time=   7.8s\n",
      "[CV 3/3] END gradientboostingclassifier__criterion=friedman_mse, gradientboostingclassifier__loss=exponential, gradientboostingclassifier__max_depth=10, gradientboostingclassifier__n_estimators=200;, score=0.646 total time=  11.0s\n",
      "[CV 2/3] END gradientboostingclassifier__criterion=mse, gradientboostingclassifier__loss=deviance, gradientboostingclassifier__max_depth=5, gradientboostingclassifier__n_estimators=100;, score=0.664 total time=   1.6s\n",
      "[CV 2/3] END gradientboostingclassifier__criterion=mse, gradientboostingclassifier__loss=deviance, gradientboostingclassifier__max_depth=5, gradientboostingclassifier__n_estimators=200;, score=0.661 total time=   3.1s\n",
      "[CV 2/3] END gradientboostingclassifier__criterion=mse, gradientboostingclassifier__loss=deviance, gradientboostingclassifier__max_depth=8, gradientboostingclassifier__n_estimators=100;, score=0.654 total time=   3.1s\n",
      "[CV 1/3] END gradientboostingclassifier__criterion=mse, gradientboostingclassifier__loss=deviance, gradientboostingclassifier__max_depth=8, gradientboostingclassifier__n_estimators=300;, score=0.658 total time=   9.3s\n",
      "[CV 2/3] END gradientboostingclassifier__criterion=mse, gradientboostingclassifier__loss=deviance, gradientboostingclassifier__max_depth=10, gradientboostingclassifier__n_estimators=300;, score=0.651 total time=  13.3s\n",
      "[CV 2/3] END gradientboostingclassifier__criterion=mse, gradientboostingclassifier__loss=exponential, gradientboostingclassifier__max_depth=8, gradientboostingclassifier__n_estimators=300;, score=0.643 total time=   9.5s\n",
      "[CV 3/3] END gradientboostingclassifier__criterion=mse, gradientboostingclassifier__loss=exponential, gradientboostingclassifier__max_depth=10, gradientboostingclassifier__n_estimators=300;, score=0.645 total time=  10.5s\n",
      "[CV 2/3] END gradientboostingclassifier__criterion=mse, gradientboostingclassifier__loss=exponential, gradientboostingclassifier__max_depth=10, gradientboostingclassifier__n_estimators=300;, score=0.660 total time=  13.6s\n",
      "[CV 2/3] END gradientboostingclassifier__criterion=mse, gradientboostingclassifier__loss=deviance, gradientboostingclassifier__max_depth=3, gradientboostingclassifier__n_estimators=300;, score=0.668 total time=   2.7s\n",
      "[CV 2/3] END gradientboostingclassifier__criterion=friedman_mse, gradientboostingclassifier__loss=deviance, gradientboostingclassifier__max_depth=5, gradientboostingclassifier__n_estimators=200;, score=0.662 total time=   3.0s\n",
      "[CV 3/3] END gradientboostingclassifier__criterion=mse, gradientboostingclassifier__loss=deviance, gradientboostingclassifier__max_depth=3, gradientboostingclassifier__n_estimators=200;, score=0.667 total time=   1.9s\n",
      "[CV 1/3] END gradientboostingclassifier__criterion=friedman_mse, gradientboostingclassifier__loss=deviance, gradientboostingclassifier__max_depth=3, gradientboostingclassifier__n_estimators=100;, score=0.664 total time=   0.9s\n",
      "[CV 3/3] END gradientboostingclassifier__criterion=friedman_mse, gradientboostingclassifier__loss=deviance, gradientboostingclassifier__max_depth=3, gradientboostingclassifier__n_estimators=300;, score=0.662 total time=   2.7s\n",
      "[CV 2/3] END gradientboostingclassifier__criterion=friedman_mse, gradientboostingclassifier__loss=deviance, gradientboostingclassifier__max_depth=8, gradientboostingclassifier__n_estimators=100;, score=0.655 total time=   3.1s\n",
      "[CV 1/3] END gradientboostingclassifier__criterion=friedman_mse, gradientboostingclassifier__loss=deviance, gradientboostingclassifier__max_depth=8, gradientboostingclassifier__n_estimators=300;, score=0.660 total time=   9.6s\n",
      "[CV 3/3] END gradientboostingclassifier__criterion=friedman_mse, gradientboostingclassifier__loss=deviance, gradientboostingclassifier__max_depth=10, gradientboostingclassifier__n_estimators=300;, score=0.636 total time=  15.1s\n",
      "[CV 1/3] END gradientboostingclassifier__criterion=friedman_mse, gradientboostingclassifier__loss=exponential, gradientboostingclassifier__max_depth=8, gradientboostingclassifier__n_estimators=300;, score=0.657 total time=  11.2s\n",
      "[CV 3/3] END gradientboostingclassifier__criterion=friedman_mse, gradientboostingclassifier__loss=exponential, gradientboostingclassifier__max_depth=10, gradientboostingclassifier__n_estimators=300;, score=0.650 total time=  15.7s\n",
      "[CV 1/3] END gradientboostingclassifier__criterion=mse, gradientboostingclassifier__loss=deviance, gradientboostingclassifier__max_depth=10, gradientboostingclassifier__n_estimators=100;, score=0.651 total time=   4.9s\n",
      "[CV 1/3] END gradientboostingclassifier__criterion=mse, gradientboostingclassifier__loss=deviance, gradientboostingclassifier__max_depth=10, gradientboostingclassifier__n_estimators=200;, score=0.656 total time=   8.9s\n",
      "[CV 3/3] END gradientboostingclassifier__criterion=mse, gradientboostingclassifier__loss=exponential, gradientboostingclassifier__max_depth=3, gradientboostingclassifier__n_estimators=300;, score=0.665 total time=   2.9s\n",
      "[CV 1/3] END gradientboostingclassifier__criterion=mse, gradientboostingclassifier__loss=exponential, gradientboostingclassifier__max_depth=5, gradientboostingclassifier__n_estimators=300;, score=0.659 total time=   4.7s\n",
      "[CV 1/3] END gradientboostingclassifier__criterion=mse, gradientboostingclassifier__loss=exponential, gradientboostingclassifier__max_depth=8, gradientboostingclassifier__n_estimators=200;, score=0.665 total time=   6.2s\n",
      "[CV 1/3] END gradientboostingclassifier__criterion=mse, gradientboostingclassifier__loss=exponential, gradientboostingclassifier__max_depth=10, gradientboostingclassifier__n_estimators=200;, score=0.664 total time=   9.5s\n",
      "[CV 3/3] END gradientboostingclassifier__criterion=mse, gradientboostingclassifier__loss=exponential, gradientboostingclassifier__max_depth=5, gradientboostingclassifier__n_estimators=300;, score=0.651 total time=   4.4s\n",
      "[CV 1/3] END gradientboostingclassifier__criterion=friedman_mse, gradientboostingclassifier__loss=exponential, gradientboostingclassifier__max_depth=8, gradientboostingclassifier__n_estimators=300;, score=0.657 total time=   9.1s\n",
      "[CV 3/3] END gradientboostingclassifier__criterion=friedman_mse, gradientboostingclassifier__loss=exponential, gradientboostingclassifier__max_depth=8, gradientboostingclassifier__n_estimators=300;, score=0.643 total time=   8.7s\n",
      "[CV 3/3] END gradientboostingclassifier__criterion=friedman_mse, gradientboostingclassifier__loss=deviance, gradientboostingclassifier__max_depth=3, gradientboostingclassifier__n_estimators=100;, score=0.677 total time=   0.9s\n",
      "[CV 2/3] END gradientboostingclassifier__criterion=friedman_mse, gradientboostingclassifier__loss=deviance, gradientboostingclassifier__max_depth=5, gradientboostingclassifier__n_estimators=100;, score=0.664 total time=   1.5s\n",
      "[CV 1/3] END gradientboostingclassifier__criterion=friedman_mse, gradientboostingclassifier__loss=deviance, gradientboostingclassifier__max_depth=5, gradientboostingclassifier__n_estimators=300;, score=0.657 total time=   4.9s\n",
      "[CV 2/3] END gradientboostingclassifier__criterion=friedman_mse, gradientboostingclassifier__loss=deviance, gradientboostingclassifier__max_depth=8, gradientboostingclassifier__n_estimators=300;, score=0.656 total time=   9.6s\n",
      "[CV 1/3] END gradientboostingclassifier__criterion=friedman_mse, gradientboostingclassifier__loss=exponential, gradientboostingclassifier__max_depth=3, gradientboostingclassifier__n_estimators=100;, score=0.669 total time=   1.1s\n",
      "[CV 3/3] END gradientboostingclassifier__criterion=friedman_mse, gradientboostingclassifier__loss=exponential, gradientboostingclassifier__max_depth=3, gradientboostingclassifier__n_estimators=100;, score=0.677 total time=   1.1s\n",
      "[CV 2/3] END gradientboostingclassifier__criterion=friedman_mse, gradientboostingclassifier__loss=exponential, gradientboostingclassifier__max_depth=3, gradientboostingclassifier__n_estimators=200;, score=0.667 total time=   2.3s\n",
      "[CV 1/3] END gradientboostingclassifier__criterion=friedman_mse, gradientboostingclassifier__loss=exponential, gradientboostingclassifier__max_depth=3, gradientboostingclassifier__n_estimators=300;, score=0.665 total time=   3.3s\n",
      "[CV 1/3] END gradientboostingclassifier__criterion=friedman_mse, gradientboostingclassifier__loss=exponential, gradientboostingclassifier__max_depth=5, gradientboostingclassifier__n_estimators=200;, score=0.658 total time=   3.3s\n",
      "[CV 3/3] END gradientboostingclassifier__criterion=friedman_mse, gradientboostingclassifier__loss=exponential, gradientboostingclassifier__max_depth=5, gradientboostingclassifier__n_estimators=300;, score=0.652 total time=   5.8s\n",
      "[CV 2/3] END gradientboostingclassifier__criterion=friedman_mse, gradientboostingclassifier__loss=exponential, gradientboostingclassifier__max_depth=10, gradientboostingclassifier__n_estimators=100;, score=0.654 total time=   5.4s\n",
      "[CV 1/3] END gradientboostingclassifier__criterion=friedman_mse, gradientboostingclassifier__loss=exponential, gradientboostingclassifier__max_depth=10, gradientboostingclassifier__n_estimators=300;, score=0.649 total time=  15.3s\n",
      "[CV 1/3] END gradientboostingclassifier__criterion=mse, gradientboostingclassifier__loss=deviance, gradientboostingclassifier__max_depth=8, gradientboostingclassifier__n_estimators=100;, score=0.665 total time=   3.1s\n",
      "[CV 3/3] END gradientboostingclassifier__criterion=mse, gradientboostingclassifier__loss=deviance, gradientboostingclassifier__max_depth=8, gradientboostingclassifier__n_estimators=200;, score=0.648 total time=   6.4s\n",
      "[CV 1/3] END gradientboostingclassifier__criterion=mse, gradientboostingclassifier__loss=deviance, gradientboostingclassifier__max_depth=10, gradientboostingclassifier__n_estimators=300;, score=0.655 total time=  13.5s\n",
      "[CV 2/3] END gradientboostingclassifier__criterion=mse, gradientboostingclassifier__loss=exponential, gradientboostingclassifier__max_depth=8, gradientboostingclassifier__n_estimators=100;, score=0.655 total time=   2.9s\n",
      "[CV 1/3] END gradientboostingclassifier__criterion=mse, gradientboostingclassifier__loss=exponential, gradientboostingclassifier__max_depth=8, gradientboostingclassifier__n_estimators=300;, score=0.667 total time=   9.4s\n",
      "[CV 2/3] END gradientboostingclassifier__criterion=mse, gradientboostingclassifier__loss=exponential, gradientboostingclassifier__max_depth=10, gradientboostingclassifier__n_estimators=300;, score=0.660 total time=  10.4s\n"
     ]
    },
    {
     "name": "stdout",
     "output_type": "stream",
     "text": [
      "[CV 1/3] END gradientboostingclassifier__criterion=friedman_mse, gradientboostingclassifier__loss=exponential, gradientboostingclassifier__max_depth=10, gradientboostingclassifier__n_estimators=300;, score=0.649 total time=  13.7s\n",
      "[CV 3/3] END gradientboostingclassifier__criterion=mse, gradientboostingclassifier__loss=deviance, gradientboostingclassifier__max_depth=3, gradientboostingclassifier__n_estimators=300;, score=0.662 total time=   2.7s\n",
      "[CV 3/3] END gradientboostingclassifier__criterion=friedman_mse, gradientboostingclassifier__loss=deviance, gradientboostingclassifier__max_depth=5, gradientboostingclassifier__n_estimators=200;, score=0.645 total time=   3.0s\n",
      "[CV 1/3] END gradientboostingclassifier__criterion=mse, gradientboostingclassifier__loss=deviance, gradientboostingclassifier__max_depth=10, gradientboostingclassifier__n_estimators=300;, score=0.655 total time=  10.9s\n",
      "[CV 2/3] END gradientboostingclassifier__criterion=friedman_mse, gradientboostingclassifier__loss=deviance, gradientboostingclassifier__max_depth=3, gradientboostingclassifier__n_estimators=300;, score=0.668 total time=   2.7s\n",
      "[CV 3/3] END gradientboostingclassifier__criterion=friedman_mse, gradientboostingclassifier__loss=deviance, gradientboostingclassifier__max_depth=5, gradientboostingclassifier__n_estimators=300;, score=0.646 total time=   5.0s\n",
      "[CV 3/3] END gradientboostingclassifier__criterion=friedman_mse, gradientboostingclassifier__loss=deviance, gradientboostingclassifier__max_depth=8, gradientboostingclassifier__n_estimators=300;, score=0.648 total time=   9.6s\n",
      "[CV 2/3] END gradientboostingclassifier__criterion=friedman_mse, gradientboostingclassifier__loss=exponential, gradientboostingclassifier__max_depth=3, gradientboostingclassifier__n_estimators=100;, score=0.667 total time=   1.1s\n",
      "[CV 1/3] END gradientboostingclassifier__criterion=friedman_mse, gradientboostingclassifier__loss=exponential, gradientboostingclassifier__max_depth=3, gradientboostingclassifier__n_estimators=200;, score=0.663 total time=   2.2s\n",
      "[CV 3/3] END gradientboostingclassifier__criterion=friedman_mse, gradientboostingclassifier__loss=exponential, gradientboostingclassifier__max_depth=3, gradientboostingclassifier__n_estimators=200;, score=0.666 total time=   2.2s\n",
      "[CV 2/3] END gradientboostingclassifier__criterion=friedman_mse, gradientboostingclassifier__loss=exponential, gradientboostingclassifier__max_depth=5, gradientboostingclassifier__n_estimators=100;, score=0.668 total time=   1.8s\n",
      "[CV 2/3] END gradientboostingclassifier__criterion=friedman_mse, gradientboostingclassifier__loss=exponential, gradientboostingclassifier__max_depth=5, gradientboostingclassifier__n_estimators=200;, score=0.658 total time=   3.3s\n",
      "[CV 1/3] END gradientboostingclassifier__criterion=friedman_mse, gradientboostingclassifier__loss=exponential, gradientboostingclassifier__max_depth=8, gradientboostingclassifier__n_estimators=100;, score=0.669 total time=   3.3s\n",
      "[CV 3/3] END gradientboostingclassifier__criterion=friedman_mse, gradientboostingclassifier__loss=exponential, gradientboostingclassifier__max_depth=8, gradientboostingclassifier__n_estimators=300;, score=0.643 total time=  11.2s\n",
      "[CV 2/3] END gradientboostingclassifier__criterion=friedman_mse, gradientboostingclassifier__loss=exponential, gradientboostingclassifier__max_depth=10, gradientboostingclassifier__n_estimators=300;, score=0.648 total time=  15.4s\n",
      "[CV 2/3] END gradientboostingclassifier__criterion=mse, gradientboostingclassifier__loss=deviance, gradientboostingclassifier__max_depth=8, gradientboostingclassifier__n_estimators=300;, score=0.657 total time=   9.3s\n",
      "[CV 3/3] END gradientboostingclassifier__criterion=mse, gradientboostingclassifier__loss=deviance, gradientboostingclassifier__max_depth=10, gradientboostingclassifier__n_estimators=300;, score=0.636 total time=  13.5s\n",
      "[CV 3/3] END gradientboostingclassifier__criterion=mse, gradientboostingclassifier__loss=exponential, gradientboostingclassifier__max_depth=8, gradientboostingclassifier__n_estimators=300;, score=0.646 total time=   9.6s\n"
     ]
    }
   ],
   "source": [
    "filename = \"gbc_gs.pk1\"\n",
    "pickle.dump(best_model_gs, open(filename, 'wb'))"
   ]
  },
  {
   "cell_type": "code",
   "execution_count": null,
   "id": "9cb3bd1e",
   "metadata": {},
   "outputs": [],
   "source": []
  }
 ],
 "metadata": {
  "kernelspec": {
   "display_name": "Python 3 (ipykernel)",
   "language": "python",
   "name": "python3"
  },
  "language_info": {
   "codemirror_mode": {
    "name": "ipython",
    "version": 3
   },
   "file_extension": ".py",
   "mimetype": "text/x-python",
   "name": "python",
   "nbconvert_exporter": "python",
   "pygments_lexer": "ipython3",
   "version": "3.9.4"
  }
 },
 "nbformat": 4,
 "nbformat_minor": 5
}

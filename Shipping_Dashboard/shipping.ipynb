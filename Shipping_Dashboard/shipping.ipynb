{
 "cells": [
  {
   "cell_type": "markdown",
   "id": "c285f601",
   "metadata": {},
   "source": [
    "Dataset: E-Commerce Shipping Data from Kaggle: https://www.kaggle.com/prachi13/customer-analytics"
   ]
  },
  {
   "cell_type": "code",
   "execution_count": 92,
   "id": "5df398be",
   "metadata": {},
   "outputs": [],
   "source": [
    "import pandas as pd\n",
    "import numpy as np\n",
    "import matplotlib.pyplot as plt\n",
    "from sklearn.model_selection import train_test_split, RandomizedSearchCV, GridSearchCV\n",
    "from category_encoders import OneHotEncoder, OrdinalEncoder\n",
    "from sklearn.preprocessing import StandardScaler\n",
    "from sklearn.pipeline import make_pipeline\n",
    "from sklearn.linear_model import LogisticRegression\n",
    "from sklearn.ensemble import RandomForestClassifier, GradientBoostingClassifier\n",
    "from sklearn.metrics import plot_confusion_matrix\n",
    "from sklearn.inspection import permutation_importance\n",
    "import pickle"
   ]
  },
  {
   "cell_type": "markdown",
   "id": "6bfdfccf",
   "metadata": {},
   "source": [
    "ID: ID Number of Customers.\n",
    "\n",
    "• Warehouse block: The Company has a big Warehouse which is divided into blocks A,B,C,D,E.\n",
    "\n",
    "• Mode of shipment: The Company ships the products in multiple ways such as Ship, Flight and Road.\n",
    "\n",
    "• Customer care calls: The number of calls made from enquiry for enquiry of the shipment.\n",
    "\n",
    "• Customer rating: The company has rated from every customer. 1 is the lowest (Worst), 5 is the highest (Best).\n",
    "\n",
    "• Cost of the product: Cost of the Product in US Dollars.\n",
    "\n",
    "• Prior purchases: The Number of Prior Purchase.\n",
    "\n",
    "• Product importance: The company has categorized the product in the various parameter such as low, medium, high.\n",
    "\n",
    "• Gender: Male and Female.\n",
    "\n",
    "• Discount offered: Discount offered on that specific product.\n",
    "\n",
    "• Weight in gms: It is the weight in grams.\n",
    "\n",
    "• Reached on time: It is the target variable, where 1 Indicates that the product has NOT reached on time and 0 \n",
    "indicates it has reached on time."
   ]
  },
  {
   "cell_type": "markdown",
   "id": "b75971cf",
   "metadata": {},
   "source": [
    "# Wrangle Data"
   ]
  },
  {
   "cell_type": "code",
   "execution_count": 2,
   "id": "78d8d83c",
   "metadata": {},
   "outputs": [],
   "source": [
    "def wrangle(filepath):\n",
    "    \n",
    "    # Load data\n",
    "    df = pd.read_csv(filepath, index_col=\"ID\")\n",
    "    \n",
    "    # Switch binary values in target variable\n",
    "    mask = df[\"Reached.on.Time_Y.N\"] == 1\n",
    "    df.loc[mask, \"Reached_on_time\"] = 0\n",
    "    df.loc[~mask, \"Reached_on_time\"] = 1\n",
    "    \n",
    "    # Drop redundant columns\n",
    "    df.drop(columns=[\"Reached.on.Time_Y.N\"], inplace=True)\n",
    "    \n",
    "    return df"
   ]
  },
  {
   "cell_type": "code",
   "execution_count": 3,
   "id": "f483584a",
   "metadata": {},
   "outputs": [],
   "source": [
    "df = wrangle(\"shipping_data.csv\")"
   ]
  },
  {
   "cell_type": "code",
   "execution_count": 4,
   "id": "16eaaecc",
   "metadata": {},
   "outputs": [
    {
     "data": {
      "text/html": [
       "<div>\n",
       "<style scoped>\n",
       "    .dataframe tbody tr th:only-of-type {\n",
       "        vertical-align: middle;\n",
       "    }\n",
       "\n",
       "    .dataframe tbody tr th {\n",
       "        vertical-align: top;\n",
       "    }\n",
       "\n",
       "    .dataframe thead th {\n",
       "        text-align: right;\n",
       "    }\n",
       "</style>\n",
       "<table border=\"1\" class=\"dataframe\">\n",
       "  <thead>\n",
       "    <tr style=\"text-align: right;\">\n",
       "      <th></th>\n",
       "      <th>Warehouse_block</th>\n",
       "      <th>Mode_of_Shipment</th>\n",
       "      <th>Customer_care_calls</th>\n",
       "      <th>Customer_rating</th>\n",
       "      <th>Cost_of_the_Product</th>\n",
       "      <th>Prior_purchases</th>\n",
       "      <th>Product_importance</th>\n",
       "      <th>Gender</th>\n",
       "      <th>Discount_offered</th>\n",
       "      <th>Weight_in_gms</th>\n",
       "      <th>Reached_on_time</th>\n",
       "    </tr>\n",
       "    <tr>\n",
       "      <th>ID</th>\n",
       "      <th></th>\n",
       "      <th></th>\n",
       "      <th></th>\n",
       "      <th></th>\n",
       "      <th></th>\n",
       "      <th></th>\n",
       "      <th></th>\n",
       "      <th></th>\n",
       "      <th></th>\n",
       "      <th></th>\n",
       "      <th></th>\n",
       "    </tr>\n",
       "  </thead>\n",
       "  <tbody>\n",
       "    <tr>\n",
       "      <th>1</th>\n",
       "      <td>D</td>\n",
       "      <td>Flight</td>\n",
       "      <td>4</td>\n",
       "      <td>2</td>\n",
       "      <td>177</td>\n",
       "      <td>3</td>\n",
       "      <td>low</td>\n",
       "      <td>F</td>\n",
       "      <td>44</td>\n",
       "      <td>1233</td>\n",
       "      <td>0.0</td>\n",
       "    </tr>\n",
       "    <tr>\n",
       "      <th>2</th>\n",
       "      <td>F</td>\n",
       "      <td>Flight</td>\n",
       "      <td>4</td>\n",
       "      <td>5</td>\n",
       "      <td>216</td>\n",
       "      <td>2</td>\n",
       "      <td>low</td>\n",
       "      <td>M</td>\n",
       "      <td>59</td>\n",
       "      <td>3088</td>\n",
       "      <td>0.0</td>\n",
       "    </tr>\n",
       "    <tr>\n",
       "      <th>3</th>\n",
       "      <td>A</td>\n",
       "      <td>Flight</td>\n",
       "      <td>2</td>\n",
       "      <td>2</td>\n",
       "      <td>183</td>\n",
       "      <td>4</td>\n",
       "      <td>low</td>\n",
       "      <td>M</td>\n",
       "      <td>48</td>\n",
       "      <td>3374</td>\n",
       "      <td>0.0</td>\n",
       "    </tr>\n",
       "    <tr>\n",
       "      <th>4</th>\n",
       "      <td>B</td>\n",
       "      <td>Flight</td>\n",
       "      <td>3</td>\n",
       "      <td>3</td>\n",
       "      <td>176</td>\n",
       "      <td>4</td>\n",
       "      <td>medium</td>\n",
       "      <td>M</td>\n",
       "      <td>10</td>\n",
       "      <td>1177</td>\n",
       "      <td>0.0</td>\n",
       "    </tr>\n",
       "    <tr>\n",
       "      <th>5</th>\n",
       "      <td>C</td>\n",
       "      <td>Flight</td>\n",
       "      <td>2</td>\n",
       "      <td>2</td>\n",
       "      <td>184</td>\n",
       "      <td>3</td>\n",
       "      <td>medium</td>\n",
       "      <td>F</td>\n",
       "      <td>46</td>\n",
       "      <td>2484</td>\n",
       "      <td>0.0</td>\n",
       "    </tr>\n",
       "  </tbody>\n",
       "</table>\n",
       "</div>"
      ],
      "text/plain": [
       "   Warehouse_block Mode_of_Shipment  Customer_care_calls  Customer_rating  \\\n",
       "ID                                                                          \n",
       "1                D           Flight                    4                2   \n",
       "2                F           Flight                    4                5   \n",
       "3                A           Flight                    2                2   \n",
       "4                B           Flight                    3                3   \n",
       "5                C           Flight                    2                2   \n",
       "\n",
       "    Cost_of_the_Product  Prior_purchases Product_importance Gender  \\\n",
       "ID                                                                   \n",
       "1                   177                3                low      F   \n",
       "2                   216                2                low      M   \n",
       "3                   183                4                low      M   \n",
       "4                   176                4             medium      M   \n",
       "5                   184                3             medium      F   \n",
       "\n",
       "    Discount_offered  Weight_in_gms  Reached_on_time  \n",
       "ID                                                    \n",
       "1                 44           1233              0.0  \n",
       "2                 59           3088              0.0  \n",
       "3                 48           3374              0.0  \n",
       "4                 10           1177              0.0  \n",
       "5                 46           2484              0.0  "
      ]
     },
     "execution_count": 4,
     "metadata": {},
     "output_type": "execute_result"
    }
   ],
   "source": [
    "df.head()"
   ]
  },
  {
   "cell_type": "code",
   "execution_count": 5,
   "id": "3642fd34",
   "metadata": {},
   "outputs": [
    {
     "data": {
      "text/plain": [
       "(10999, 11)"
      ]
     },
     "execution_count": 5,
     "metadata": {},
     "output_type": "execute_result"
    }
   ],
   "source": [
    "df.shape"
   ]
  },
  {
   "cell_type": "code",
   "execution_count": 6,
   "id": "188245fa",
   "metadata": {},
   "outputs": [],
   "source": [
    "df.to_csv(r\"dash_ready_data.csv\")"
   ]
  },
  {
   "cell_type": "markdown",
   "id": "d6079dc8",
   "metadata": {},
   "source": [
    "# Split Data"
   ]
  },
  {
   "cell_type": "code",
   "execution_count": 7,
   "id": "a571cb83",
   "metadata": {},
   "outputs": [],
   "source": [
    "X = df.drop(columns=\"Reached_on_time\")\n",
    "y = df[\"Reached_on_time\"]"
   ]
  },
  {
   "cell_type": "code",
   "execution_count": 8,
   "id": "836b3238",
   "metadata": {},
   "outputs": [],
   "source": [
    "X_train, X_test, y_train, y_test = train_test_split(X, y, test_size=0.2, random_state=42)"
   ]
  },
  {
   "cell_type": "markdown",
   "id": "480f78ff",
   "metadata": {},
   "source": [
    "# Establish Baseline"
   ]
  },
  {
   "cell_type": "code",
   "execution_count": 9,
   "id": "6d363469",
   "metadata": {},
   "outputs": [
    {
     "data": {
      "text/plain": [
       "0.5966906082371125"
      ]
     },
     "execution_count": 9,
     "metadata": {},
     "output_type": "execute_result"
    }
   ],
   "source": [
    "baseline_accuracy = y.value_counts(normalize=True).max()\n",
    "baseline_accuracy"
   ]
  },
  {
   "cell_type": "code",
   "execution_count": 80,
   "id": "98e0363a",
   "metadata": {},
   "outputs": [
    {
     "data": {
      "text/plain": [
       "Ship      7462\n",
       "Flight    1777\n",
       "Road      1760\n",
       "Name: Mode_of_Shipment, dtype: int64"
      ]
     },
     "execution_count": 80,
     "metadata": {},
     "output_type": "execute_result"
    }
   ],
   "source": [
    "X[\"Mode_of_Shipment\"].value_counts()"
   ]
  },
  {
   "cell_type": "markdown",
   "id": "68c65886",
   "metadata": {},
   "source": [
    "# Build Model"
   ]
  },
  {
   "cell_type": "code",
   "execution_count": 10,
   "id": "fb87e307",
   "metadata": {},
   "outputs": [
    {
     "name": "stderr",
     "output_type": "stream",
     "text": [
      "/Users/andrewlee/.local/share/virtualenvs/Shipping_Dashboard-Ne9HZrax/lib/python3.9/site-packages/category_encoders/utils.py:21: FutureWarning: is_categorical is deprecated and will be removed in a future version.  Use is_categorical_dtype instead\n",
      "  elif pd.api.types.is_categorical(cols):\n"
     ]
    },
    {
     "data": {
      "text/plain": [
       "Pipeline(steps=[('onehotencoder',\n",
       "                 OneHotEncoder(cols=['Warehouse_block', 'Mode_of_Shipment',\n",
       "                                     'Product_importance', 'Gender'],\n",
       "                               use_cat_names=True)),\n",
       "                ('standardscaler', StandardScaler()),\n",
       "                ('logisticregression', LogisticRegression())])"
      ]
     },
     "execution_count": 10,
     "metadata": {},
     "output_type": "execute_result"
    }
   ],
   "source": [
    "# Logistic Regression\n",
    "model_lr = make_pipeline(\n",
    "    OneHotEncoder(use_cat_names=True),\n",
    "    StandardScaler(),\n",
    "    LogisticRegression()\n",
    ")\n",
    "\n",
    "model_lr.fit(X_train, y_train)"
   ]
  },
  {
   "cell_type": "code",
   "execution_count": 11,
   "id": "5039046f",
   "metadata": {},
   "outputs": [
    {
     "data": {
      "text/plain": [
       "Pipeline(steps=[('ordinalencoder',\n",
       "                 OrdinalEncoder(cols=['Warehouse_block', 'Mode_of_Shipment',\n",
       "                                      'Product_importance', 'Gender'],\n",
       "                                mapping=[{'col': 'Warehouse_block',\n",
       "                                          'data_type': dtype('O'),\n",
       "                                          'mapping': F      1\n",
       "A      2\n",
       "D      3\n",
       "C      4\n",
       "B      5\n",
       "NaN   -2\n",
       "dtype: int64},\n",
       "                                         {'col': 'Mode_of_Shipment',\n",
       "                                          'data_type': dtype('O'),\n",
       "                                          'mapping': Ship      1\n",
       "Flight    2\n",
       "Road      3\n",
       "NaN      -2\n",
       "dtype: int64},\n",
       "                                         {'col': 'Product_importance',\n",
       "                                          'data_type': dtype('O'),\n",
       "                                          'mapping': low       1\n",
       "medium    2\n",
       "high      3\n",
       "NaN      -2\n",
       "dtype: int64},\n",
       "                                         {'col': 'Gender',\n",
       "                                          'data_type': dtype('O'),\n",
       "                                          'mapping': F      1\n",
       "M      2\n",
       "NaN   -2\n",
       "dtype: int64}])),\n",
       "                ('standardscaler', StandardScaler()),\n",
       "                ('randomforestclassifier',\n",
       "                 RandomForestClassifier(random_state=42))])"
      ]
     },
     "execution_count": 11,
     "metadata": {},
     "output_type": "execute_result"
    }
   ],
   "source": [
    "# Random Forest Classifier\n",
    "model_rfc = make_pipeline(\n",
    "    OrdinalEncoder(),\n",
    "    StandardScaler(),\n",
    "    RandomForestClassifier(random_state=42)\n",
    ")\n",
    "\n",
    "model_rfc.fit(X_train, y_train)"
   ]
  },
  {
   "cell_type": "code",
   "execution_count": 12,
   "id": "67de64c2",
   "metadata": {},
   "outputs": [
    {
     "data": {
      "text/plain": [
       "Pipeline(steps=[('ordinalencoder',\n",
       "                 OrdinalEncoder(cols=['Warehouse_block', 'Mode_of_Shipment',\n",
       "                                      'Product_importance', 'Gender'],\n",
       "                                mapping=[{'col': 'Warehouse_block',\n",
       "                                          'data_type': dtype('O'),\n",
       "                                          'mapping': F      1\n",
       "A      2\n",
       "D      3\n",
       "C      4\n",
       "B      5\n",
       "NaN   -2\n",
       "dtype: int64},\n",
       "                                         {'col': 'Mode_of_Shipment',\n",
       "                                          'data_type': dtype('O'),\n",
       "                                          'mapping': Ship      1\n",
       "Flight    2\n",
       "Road      3\n",
       "NaN      -2\n",
       "dtype: int64},\n",
       "                                         {'col': 'Product_importance',\n",
       "                                          'data_type': dtype('O'),\n",
       "                                          'mapping': low       1\n",
       "medium    2\n",
       "high      3\n",
       "NaN      -2\n",
       "dtype: int64},\n",
       "                                         {'col': 'Gender',\n",
       "                                          'data_type': dtype('O'),\n",
       "                                          'mapping': F      1\n",
       "M      2\n",
       "NaN   -2\n",
       "dtype: int64}])),\n",
       "                ('standardscaler', StandardScaler()),\n",
       "                ('gradientboostingclassifier',\n",
       "                 GradientBoostingClassifier(random_state=42))])"
      ]
     },
     "execution_count": 12,
     "metadata": {},
     "output_type": "execute_result"
    }
   ],
   "source": [
    "# Gradient Boosting Classifier\n",
    "model_gbc = make_pipeline(\n",
    "    OrdinalEncoder(),\n",
    "    StandardScaler(),\n",
    "    GradientBoostingClassifier(random_state=42)\n",
    ")\n",
    "\n",
    "model_gbc.fit(X_train, y_train)"
   ]
  },
  {
   "cell_type": "markdown",
   "id": "11c37856",
   "metadata": {},
   "source": [
    "# Check Metrics"
   ]
  },
  {
   "cell_type": "code",
   "execution_count": 13,
   "id": "2b0cec25",
   "metadata": {},
   "outputs": [
    {
     "name": "stdout",
     "output_type": "stream",
     "text": [
      "Logistic Regression Accuracy (Train):  0.6407546312080918\n",
      "Logistic Regression Accuracy (Test):  0.644090909090909\n"
     ]
    }
   ],
   "source": [
    "# Out of the box score\n",
    "print(\"Logistic Regression Accuracy (Train): \", model_lr.score(X_train, y_train))\n",
    "print(\"Logistic Regression Accuracy (Test): \", model_lr.score(X_test, y_test))"
   ]
  },
  {
   "cell_type": "code",
   "execution_count": 14,
   "id": "1063c3ee",
   "metadata": {},
   "outputs": [
    {
     "name": "stdout",
     "output_type": "stream",
     "text": [
      "Random Forest Accuracy (Train):  1.0\n",
      "Random Forest Accuracy (Test):  0.6631818181818182\n"
     ]
    }
   ],
   "source": [
    "# Out of the box score\n",
    "print(\"Random Forest Accuracy (Train): \", model_rfc.score(X_train, y_train))\n",
    "print(\"Random Forest Accuracy (Test): \", model_rfc.score(X_test, y_test))"
   ]
  },
  {
   "cell_type": "code",
   "execution_count": 15,
   "id": "8f597451",
   "metadata": {},
   "outputs": [
    {
     "name": "stdout",
     "output_type": "stream",
     "text": [
      "Gradient Boosting Accuracy (Train):  0.7140584157290601\n",
      "Gradient Boosting Accuracy (Test):  0.6836363636363636\n"
     ]
    }
   ],
   "source": [
    "# Out of the box score\n",
    "print(\"Gradient Boosting Accuracy (Train): \", model_gbc.score(X_train, y_train))\n",
    "print(\"Gradient Boosting Accuracy (Test): \", model_gbc.score(X_test, y_test))"
   ]
  },
  {
   "cell_type": "markdown",
   "id": "7ad23a9f",
   "metadata": {},
   "source": [
    "# Tune Parameters"
   ]
  },
  {
   "cell_type": "markdown",
   "id": "909730f1",
   "metadata": {},
   "source": [
    "• permutation importance"
   ]
  },
  {
   "cell_type": "code",
   "execution_count": 16,
   "id": "a886d468",
   "metadata": {},
   "outputs": [],
   "source": [
    "param_grid = {\n",
    "    \"gradientboostingclassifier__loss\": [\"deviance\", \"exponential\"],\n",
    "    \"gradientboostingclassifier__n_estimators\": [100, 200, 300],\n",
    "    \"gradientboostingclassifier__criterion\": [\"friedman_mse\", \"mse\"],\n",
    "    \"gradientboostingclassifier__max_depth\": [3, 5, 8, 10]\n",
    "}"
   ]
  },
  {
   "cell_type": "code",
   "execution_count": 17,
   "id": "e9ce076b",
   "metadata": {},
   "outputs": [
    {
     "name": "stdout",
     "output_type": "stream",
     "text": [
      "Fitting 3 folds for each of 10 candidates, totalling 30 fits\n"
     ]
    },
    {
     "name": "stderr",
     "output_type": "stream",
     "text": [
      "/Users/andrewlee/.local/share/virtualenvs/Shipping_Dashboard-Ne9HZrax/lib/python3.9/site-packages/category_encoders/utils.py:21: FutureWarning: is_categorical is deprecated and will be removed in a future version.  Use is_categorical_dtype instead\n",
      "  elif pd.api.types.is_categorical(cols):\n"
     ]
    },
    {
     "data": {
      "text/plain": [
       "RandomizedSearchCV(cv=3,\n",
       "                   estimator=Pipeline(steps=[('ordinalencoder',\n",
       "                                              OrdinalEncoder(cols=['Warehouse_block',\n",
       "                                                                   'Mode_of_Shipment',\n",
       "                                                                   'Product_importance',\n",
       "                                                                   'Gender'],\n",
       "                                                             mapping=[{'col': 'Warehouse_block',\n",
       "                                                                       'data_type': dtype('O'),\n",
       "                                                                       'mapping': F      1\n",
       "A      2\n",
       "D      3\n",
       "C      4\n",
       "B      5\n",
       "NaN   -2\n",
       "dtype: int64},\n",
       "                                                                      {'col': 'Mode_of_Shipment',\n",
       "                                                                       'data_type': dtype('O'),\n",
       "                                                                       'mapping': Ship      1\n",
       "Flight    2\n",
       "Road      3\n",
       "NaN      -2\n",
       "dtype: int64},\n",
       "                                                                      {'co...\n",
       "                                             ('gradientboostingclassifier',\n",
       "                                              GradientBoostingClassifier(random_state=42))]),\n",
       "                   n_jobs=-1,\n",
       "                   param_distributions={'gradientboostingclassifier__criterion': ['friedman_mse',\n",
       "                                                                                  'mse'],\n",
       "                                        'gradientboostingclassifier__loss': ['deviance',\n",
       "                                                                             'exponential'],\n",
       "                                        'gradientboostingclassifier__max_depth': [3,\n",
       "                                                                                  5,\n",
       "                                                                                  8,\n",
       "                                                                                  10],\n",
       "                                        'gradientboostingclassifier__n_estimators': [100,\n",
       "                                                                                     200,\n",
       "                                                                                     300]},\n",
       "                   verbose=5)"
      ]
     },
     "execution_count": 17,
     "metadata": {},
     "output_type": "execute_result"
    }
   ],
   "source": [
    "# RandomizedSearchCV\n",
    "\n",
    "model_gbc_rs = RandomizedSearchCV(model_gbc,\n",
    "                                  param_distributions=param_grid,\n",
    "                                  n_jobs=-1, \n",
    "                                  cv=3, \n",
    "                                  verbose=5)\n",
    "\n",
    "model_gbc_rs.fit(X_train, y_train)"
   ]
  },
  {
   "cell_type": "code",
   "execution_count": 18,
   "id": "15b403e2",
   "metadata": {},
   "outputs": [
    {
     "data": {
      "text/plain": [
       "{'gradientboostingclassifier__n_estimators': 100,\n",
       " 'gradientboostingclassifier__max_depth': 3,\n",
       " 'gradientboostingclassifier__loss': 'exponential',\n",
       " 'gradientboostingclassifier__criterion': 'friedman_mse'}"
      ]
     },
     "execution_count": 18,
     "metadata": {},
     "output_type": "execute_result"
    }
   ],
   "source": [
    "model_gbc_rs.best_params_"
   ]
  },
  {
   "cell_type": "code",
   "execution_count": 19,
   "id": "1557ec11",
   "metadata": {},
   "outputs": [],
   "source": [
    "best_model_rs = model_gbc_rs.best_estimator_"
   ]
  },
  {
   "cell_type": "code",
   "execution_count": 20,
   "id": "7a68a92a",
   "metadata": {},
   "outputs": [
    {
     "name": "stdout",
     "output_type": "stream",
     "text": [
      "Fitting 3 folds for each of 48 candidates, totalling 144 fits\n"
     ]
    },
    {
     "name": "stderr",
     "output_type": "stream",
     "text": [
      "/Users/andrewlee/.local/share/virtualenvs/Shipping_Dashboard-Ne9HZrax/lib/python3.9/site-packages/category_encoders/utils.py:21: FutureWarning: is_categorical is deprecated and will be removed in a future version.  Use is_categorical_dtype instead\n",
      "  elif pd.api.types.is_categorical(cols):\n"
     ]
    },
    {
     "data": {
      "text/plain": [
       "GridSearchCV(cv=3,\n",
       "             estimator=Pipeline(steps=[('ordinalencoder',\n",
       "                                        OrdinalEncoder(cols=['Warehouse_block',\n",
       "                                                             'Mode_of_Shipment',\n",
       "                                                             'Product_importance',\n",
       "                                                             'Gender'],\n",
       "                                                       mapping=[{'col': 'Warehouse_block',\n",
       "                                                                 'data_type': dtype('O'),\n",
       "                                                                 'mapping': F      1\n",
       "A      2\n",
       "D      3\n",
       "C      4\n",
       "B      5\n",
       "NaN   -2\n",
       "dtype: int64},\n",
       "                                                                {'col': 'Mode_of_Shipment',\n",
       "                                                                 'data_type': dtype('O'),\n",
       "                                                                 'mapping': Ship      1\n",
       "Flight    2\n",
       "Road      3\n",
       "NaN      -2\n",
       "dtype: int64},\n",
       "                                                                {'col': 'Pr...\n",
       "                                       ('standardscaler', StandardScaler()),\n",
       "                                       ('gradientboostingclassifier',\n",
       "                                        GradientBoostingClassifier(random_state=42))]),\n",
       "             n_jobs=-1,\n",
       "             param_grid={'gradientboostingclassifier__criterion': ['friedman_mse',\n",
       "                                                                   'mse'],\n",
       "                         'gradientboostingclassifier__loss': ['deviance',\n",
       "                                                              'exponential'],\n",
       "                         'gradientboostingclassifier__max_depth': [3, 5, 8, 10],\n",
       "                         'gradientboostingclassifier__n_estimators': [100, 200,\n",
       "                                                                      300]},\n",
       "             verbose=5)"
      ]
     },
     "execution_count": 20,
     "metadata": {},
     "output_type": "execute_result"
    }
   ],
   "source": [
    "# GridSearchCV\n",
    "\n",
    "model_gbc_gs = GridSearchCV(model_gbc,\n",
    "                            param_grid=param_grid,\n",
    "                            n_jobs=-1,\n",
    "                            cv=3,\n",
    "                            verbose=5)\n",
    "\n",
    "model_gbc_gs.fit(X_train, y_train)"
   ]
  },
  {
   "cell_type": "code",
   "execution_count": 21,
   "id": "b1b9da3d",
   "metadata": {},
   "outputs": [
    {
     "data": {
      "text/plain": [
       "{'gradientboostingclassifier__criterion': 'friedman_mse',\n",
       " 'gradientboostingclassifier__loss': 'exponential',\n",
       " 'gradientboostingclassifier__max_depth': 3,\n",
       " 'gradientboostingclassifier__n_estimators': 100}"
      ]
     },
     "execution_count": 21,
     "metadata": {},
     "output_type": "execute_result"
    }
   ],
   "source": [
    "model_gbc_gs.best_params_"
   ]
  },
  {
   "cell_type": "code",
   "execution_count": 22,
   "id": "55346aea",
   "metadata": {},
   "outputs": [],
   "source": [
    "best_model_gs = model_gbc_gs.best_estimator_"
   ]
  },
  {
   "cell_type": "code",
   "execution_count": 23,
   "id": "b2018e74",
   "metadata": {},
   "outputs": [
    {
     "name": "stdout",
     "output_type": "stream",
     "text": [
      "Gradient Boosting Accuracy (Train):  0.7140584157290601\n",
      "Gradient Boosting Accuracy (Test):  0.6836363636363636\n"
     ]
    }
   ],
   "source": [
    "# Scores before Tuning\n",
    "print(\"Gradient Boosting Accuracy (Train): \", model_gbc.score(X_train, y_train))\n",
    "print(\"Gradient Boosting Accuracy (Test): \", model_gbc.score(X_test, y_test))"
   ]
  },
  {
   "cell_type": "code",
   "execution_count": 24,
   "id": "20c5b48f",
   "metadata": {},
   "outputs": [
    {
     "name": "stdout",
     "output_type": "stream",
     "text": [
      "Gradient Boosting Accuracy (Train):  0.7136038186157518\n",
      "Gradient Boosting Accuracy (Test):  0.6859090909090909\n"
     ]
    }
   ],
   "source": [
    "# Scores after RandomizedSearchCV\n",
    "print(\"Gradient Boosting Accuracy (Train): \", best_model_rs.score(X_train, y_train))\n",
    "print(\"Gradient Boosting Accuracy (Test): \", best_model_rs.score(X_test, y_test))"
   ]
  },
  {
   "cell_type": "code",
   "execution_count": 25,
   "id": "49210ea0",
   "metadata": {},
   "outputs": [
    {
     "name": "stdout",
     "output_type": "stream",
     "text": [
      "Gradient Boosting Accuracy (Train):  0.7136038186157518\n",
      "Gradient Boosting Accuracy (Test):  0.6859090909090909\n"
     ]
    }
   ],
   "source": [
    "# Scores after GridSearchCV\n",
    "print(\"Gradient Boosting Accuracy (Train): \", best_model_gs.score(X_train, y_train))\n",
    "print(\"Gradient Boosting Accuracy (Test): \", best_model_gs.score(X_test, y_test))"
   ]
  },
  {
   "cell_type": "code",
   "execution_count": 103,
   "id": "c4deb7ec",
   "metadata": {},
   "outputs": [
    {
     "data": {
      "text/plain": [
       "Warehouse_block             D\n",
       "Mode_of_Shipment       Flight\n",
       "Customer_care_calls         4\n",
       "Customer_rating             2\n",
       "Cost_of_the_Product       177\n",
       "Prior_purchases             3\n",
       "Product_importance        low\n",
       "Gender                      F\n",
       "Discount_offered           44\n",
       "Weight_in_gms            1233\n",
       "Name: 1, dtype: object"
      ]
     },
     "execution_count": 103,
     "metadata": {},
     "output_type": "execute_result"
    }
   ],
   "source": [
    "X.iloc[0]"
   ]
  },
  {
   "cell_type": "code",
   "execution_count": 93,
   "id": "fe14b318",
   "metadata": {},
   "outputs": [
    {
     "data": {
      "text/plain": [
       "array([['D', 'Flight', '4', '2', '177', '3', 'low', 'F', '44', '1233']],\n",
       "      dtype='<U21')"
      ]
     },
     "execution_count": 93,
     "metadata": {},
     "output_type": "execute_result"
    }
   ],
   "source": [
    "input_arr = np.array([[\"D\", \"Flight\", 4, 2, 177, 3, \"low\", \"F\", 44, 1233]])\n",
    "input_arr"
   ]
  },
  {
   "cell_type": "code",
   "execution_count": 102,
   "id": "97a864d9",
   "metadata": {},
   "outputs": [
    {
     "ename": "ValueError",
     "evalue": "Shape of passed values is (10, 1), indices imply (10, 10)",
     "output_type": "error",
     "traceback": [
      "\u001b[0;31m---------------------------------------------------------------------------\u001b[0m",
      "\u001b[0;31mValueError\u001b[0m                                Traceback (most recent call last)",
      "\u001b[0;32m~/.local/share/virtualenvs/Shipping_Dashboard-Ne9HZrax/lib/python3.9/site-packages/pandas/core/internals/managers.py\u001b[0m in \u001b[0;36mcreate_block_manager_from_blocks\u001b[0;34m(blocks, axes)\u001b[0m\n\u001b[1;32m   1674\u001b[0m                 blocks = [\n\u001b[0;32m-> 1675\u001b[0;31m                     make_block(\n\u001b[0m\u001b[1;32m   1676\u001b[0m                         \u001b[0mvalues\u001b[0m\u001b[0;34m=\u001b[0m\u001b[0mblocks\u001b[0m\u001b[0;34m[\u001b[0m\u001b[0;36m0\u001b[0m\u001b[0;34m]\u001b[0m\u001b[0;34m,\u001b[0m \u001b[0mplacement\u001b[0m\u001b[0;34m=\u001b[0m\u001b[0mslice\u001b[0m\u001b[0;34m(\u001b[0m\u001b[0;36m0\u001b[0m\u001b[0;34m,\u001b[0m \u001b[0mlen\u001b[0m\u001b[0;34m(\u001b[0m\u001b[0maxes\u001b[0m\u001b[0;34m[\u001b[0m\u001b[0;36m0\u001b[0m\u001b[0;34m]\u001b[0m\u001b[0;34m)\u001b[0m\u001b[0;34m)\u001b[0m\u001b[0;34m,\u001b[0m \u001b[0mndim\u001b[0m\u001b[0;34m=\u001b[0m\u001b[0;36m2\u001b[0m\u001b[0;34m\u001b[0m\u001b[0;34m\u001b[0m\u001b[0m\n",
      "\u001b[0;32m~/.local/share/virtualenvs/Shipping_Dashboard-Ne9HZrax/lib/python3.9/site-packages/pandas/core/internals/blocks.py\u001b[0m in \u001b[0;36mmake_block\u001b[0;34m(values, placement, klass, ndim, dtype)\u001b[0m\n\u001b[1;32m   2750\u001b[0m \u001b[0;34m\u001b[0m\u001b[0m\n\u001b[0;32m-> 2751\u001b[0;31m     \u001b[0;32mreturn\u001b[0m \u001b[0mklass\u001b[0m\u001b[0;34m(\u001b[0m\u001b[0mvalues\u001b[0m\u001b[0;34m,\u001b[0m \u001b[0mndim\u001b[0m\u001b[0;34m=\u001b[0m\u001b[0mndim\u001b[0m\u001b[0;34m,\u001b[0m \u001b[0mplacement\u001b[0m\u001b[0;34m=\u001b[0m\u001b[0mplacement\u001b[0m\u001b[0;34m)\u001b[0m\u001b[0;34m\u001b[0m\u001b[0;34m\u001b[0m\u001b[0m\n\u001b[0m\u001b[1;32m   2752\u001b[0m \u001b[0;34m\u001b[0m\u001b[0m\n",
      "\u001b[0;32m~/.local/share/virtualenvs/Shipping_Dashboard-Ne9HZrax/lib/python3.9/site-packages/pandas/core/internals/blocks.py\u001b[0m in \u001b[0;36m__init__\u001b[0;34m(self, values, placement, ndim)\u001b[0m\n\u001b[1;32m    141\u001b[0m         \u001b[0;32mif\u001b[0m \u001b[0mself\u001b[0m\u001b[0;34m.\u001b[0m\u001b[0m_validate_ndim\u001b[0m \u001b[0;32mand\u001b[0m \u001b[0mself\u001b[0m\u001b[0;34m.\u001b[0m\u001b[0mndim\u001b[0m \u001b[0;32mand\u001b[0m \u001b[0mlen\u001b[0m\u001b[0;34m(\u001b[0m\u001b[0mself\u001b[0m\u001b[0;34m.\u001b[0m\u001b[0mmgr_locs\u001b[0m\u001b[0;34m)\u001b[0m \u001b[0;34m!=\u001b[0m \u001b[0mlen\u001b[0m\u001b[0;34m(\u001b[0m\u001b[0mself\u001b[0m\u001b[0;34m.\u001b[0m\u001b[0mvalues\u001b[0m\u001b[0;34m)\u001b[0m\u001b[0;34m:\u001b[0m\u001b[0;34m\u001b[0m\u001b[0;34m\u001b[0m\u001b[0m\n\u001b[0;32m--> 142\u001b[0;31m             raise ValueError(\n\u001b[0m\u001b[1;32m    143\u001b[0m                 \u001b[0;34mf\"Wrong number of items passed {len(self.values)}, \"\u001b[0m\u001b[0;34m\u001b[0m\u001b[0;34m\u001b[0m\u001b[0m\n",
      "\u001b[0;31mValueError\u001b[0m: Wrong number of items passed 1, placement implies 10",
      "\nDuring handling of the above exception, another exception occurred:\n",
      "\u001b[0;31mValueError\u001b[0m                                Traceback (most recent call last)",
      "\u001b[0;32m<ipython-input-102-3fb5b2a2af15>\u001b[0m in \u001b[0;36m<module>\u001b[0;34m\u001b[0m\n\u001b[0;32m----> 1\u001b[0;31m \u001b[0minp_df\u001b[0m \u001b[0;34m=\u001b[0m \u001b[0mpd\u001b[0m\u001b[0;34m.\u001b[0m\u001b[0mDataFrame\u001b[0m\u001b[0;34m(\u001b[0m\u001b[0mdata\u001b[0m\u001b[0;34m=\u001b[0m\u001b[0mlist_\u001b[0m\u001b[0;34m,\u001b[0m \u001b[0mcolumns\u001b[0m\u001b[0;34m=\u001b[0m\u001b[0mX\u001b[0m\u001b[0;34m.\u001b[0m\u001b[0mcolumns\u001b[0m\u001b[0;34m)\u001b[0m\u001b[0;34m\u001b[0m\u001b[0;34m\u001b[0m\u001b[0m\n\u001b[0m\u001b[1;32m      2\u001b[0m \u001b[0minp_df\u001b[0m\u001b[0;34m\u001b[0m\u001b[0;34m\u001b[0m\u001b[0m\n",
      "\u001b[0;32m~/.local/share/virtualenvs/Shipping_Dashboard-Ne9HZrax/lib/python3.9/site-packages/pandas/core/frame.py\u001b[0m in \u001b[0;36m__init__\u001b[0;34m(self, data, index, columns, dtype, copy)\u001b[0m\n\u001b[1;32m    582\u001b[0m                     \u001b[0mmgr\u001b[0m \u001b[0;34m=\u001b[0m \u001b[0marrays_to_mgr\u001b[0m\u001b[0;34m(\u001b[0m\u001b[0marrays\u001b[0m\u001b[0;34m,\u001b[0m \u001b[0mcolumns\u001b[0m\u001b[0;34m,\u001b[0m \u001b[0mindex\u001b[0m\u001b[0;34m,\u001b[0m \u001b[0mcolumns\u001b[0m\u001b[0;34m,\u001b[0m \u001b[0mdtype\u001b[0m\u001b[0;34m=\u001b[0m\u001b[0mdtype\u001b[0m\u001b[0;34m)\u001b[0m\u001b[0;34m\u001b[0m\u001b[0;34m\u001b[0m\u001b[0m\n\u001b[1;32m    583\u001b[0m                 \u001b[0;32melse\u001b[0m\u001b[0;34m:\u001b[0m\u001b[0;34m\u001b[0m\u001b[0;34m\u001b[0m\u001b[0m\n\u001b[0;32m--> 584\u001b[0;31m                     \u001b[0mmgr\u001b[0m \u001b[0;34m=\u001b[0m \u001b[0minit_ndarray\u001b[0m\u001b[0;34m(\u001b[0m\u001b[0mdata\u001b[0m\u001b[0;34m,\u001b[0m \u001b[0mindex\u001b[0m\u001b[0;34m,\u001b[0m \u001b[0mcolumns\u001b[0m\u001b[0;34m,\u001b[0m \u001b[0mdtype\u001b[0m\u001b[0;34m=\u001b[0m\u001b[0mdtype\u001b[0m\u001b[0;34m,\u001b[0m \u001b[0mcopy\u001b[0m\u001b[0;34m=\u001b[0m\u001b[0mcopy\u001b[0m\u001b[0;34m)\u001b[0m\u001b[0;34m\u001b[0m\u001b[0;34m\u001b[0m\u001b[0m\n\u001b[0m\u001b[1;32m    585\u001b[0m             \u001b[0;32melse\u001b[0m\u001b[0;34m:\u001b[0m\u001b[0;34m\u001b[0m\u001b[0;34m\u001b[0m\u001b[0m\n\u001b[1;32m    586\u001b[0m                 \u001b[0mmgr\u001b[0m \u001b[0;34m=\u001b[0m \u001b[0minit_dict\u001b[0m\u001b[0;34m(\u001b[0m\u001b[0;34m{\u001b[0m\u001b[0;34m}\u001b[0m\u001b[0;34m,\u001b[0m \u001b[0mindex\u001b[0m\u001b[0;34m,\u001b[0m \u001b[0mcolumns\u001b[0m\u001b[0;34m,\u001b[0m \u001b[0mdtype\u001b[0m\u001b[0;34m=\u001b[0m\u001b[0mdtype\u001b[0m\u001b[0;34m)\u001b[0m\u001b[0;34m\u001b[0m\u001b[0;34m\u001b[0m\u001b[0m\n",
      "\u001b[0;32m~/.local/share/virtualenvs/Shipping_Dashboard-Ne9HZrax/lib/python3.9/site-packages/pandas/core/internals/construction.py\u001b[0m in \u001b[0;36minit_ndarray\u001b[0;34m(values, index, columns, dtype, copy)\u001b[0m\n\u001b[1;32m    236\u001b[0m         \u001b[0mblock_values\u001b[0m \u001b[0;34m=\u001b[0m \u001b[0;34m[\u001b[0m\u001b[0mvalues\u001b[0m\u001b[0;34m]\u001b[0m\u001b[0;34m\u001b[0m\u001b[0;34m\u001b[0m\u001b[0m\n\u001b[1;32m    237\u001b[0m \u001b[0;34m\u001b[0m\u001b[0m\n\u001b[0;32m--> 238\u001b[0;31m     \u001b[0;32mreturn\u001b[0m \u001b[0mcreate_block_manager_from_blocks\u001b[0m\u001b[0;34m(\u001b[0m\u001b[0mblock_values\u001b[0m\u001b[0;34m,\u001b[0m \u001b[0;34m[\u001b[0m\u001b[0mcolumns\u001b[0m\u001b[0;34m,\u001b[0m \u001b[0mindex\u001b[0m\u001b[0;34m]\u001b[0m\u001b[0;34m)\u001b[0m\u001b[0;34m\u001b[0m\u001b[0;34m\u001b[0m\u001b[0m\n\u001b[0m\u001b[1;32m    239\u001b[0m \u001b[0;34m\u001b[0m\u001b[0m\n\u001b[1;32m    240\u001b[0m \u001b[0;34m\u001b[0m\u001b[0m\n",
      "\u001b[0;32m~/.local/share/virtualenvs/Shipping_Dashboard-Ne9HZrax/lib/python3.9/site-packages/pandas/core/internals/managers.py\u001b[0m in \u001b[0;36mcreate_block_manager_from_blocks\u001b[0;34m(blocks, axes)\u001b[0m\n\u001b[1;32m   1685\u001b[0m         \u001b[0mblocks\u001b[0m \u001b[0;34m=\u001b[0m \u001b[0;34m[\u001b[0m\u001b[0mgetattr\u001b[0m\u001b[0;34m(\u001b[0m\u001b[0mb\u001b[0m\u001b[0;34m,\u001b[0m \u001b[0;34m\"values\"\u001b[0m\u001b[0;34m,\u001b[0m \u001b[0mb\u001b[0m\u001b[0;34m)\u001b[0m \u001b[0;32mfor\u001b[0m \u001b[0mb\u001b[0m \u001b[0;32min\u001b[0m \u001b[0mblocks\u001b[0m\u001b[0;34m]\u001b[0m\u001b[0;34m\u001b[0m\u001b[0;34m\u001b[0m\u001b[0m\n\u001b[1;32m   1686\u001b[0m         \u001b[0mtot_items\u001b[0m \u001b[0;34m=\u001b[0m \u001b[0msum\u001b[0m\u001b[0;34m(\u001b[0m\u001b[0mb\u001b[0m\u001b[0;34m.\u001b[0m\u001b[0mshape\u001b[0m\u001b[0;34m[\u001b[0m\u001b[0;36m0\u001b[0m\u001b[0;34m]\u001b[0m \u001b[0;32mfor\u001b[0m \u001b[0mb\u001b[0m \u001b[0;32min\u001b[0m \u001b[0mblocks\u001b[0m\u001b[0;34m)\u001b[0m\u001b[0;34m\u001b[0m\u001b[0;34m\u001b[0m\u001b[0m\n\u001b[0;32m-> 1687\u001b[0;31m         \u001b[0;32mraise\u001b[0m \u001b[0mconstruction_error\u001b[0m\u001b[0;34m(\u001b[0m\u001b[0mtot_items\u001b[0m\u001b[0;34m,\u001b[0m \u001b[0mblocks\u001b[0m\u001b[0;34m[\u001b[0m\u001b[0;36m0\u001b[0m\u001b[0;34m]\u001b[0m\u001b[0;34m.\u001b[0m\u001b[0mshape\u001b[0m\u001b[0;34m[\u001b[0m\u001b[0;36m1\u001b[0m\u001b[0;34m:\u001b[0m\u001b[0;34m]\u001b[0m\u001b[0;34m,\u001b[0m \u001b[0maxes\u001b[0m\u001b[0;34m,\u001b[0m \u001b[0me\u001b[0m\u001b[0;34m)\u001b[0m\u001b[0;34m\u001b[0m\u001b[0;34m\u001b[0m\u001b[0m\n\u001b[0m\u001b[1;32m   1688\u001b[0m \u001b[0;34m\u001b[0m\u001b[0m\n\u001b[1;32m   1689\u001b[0m \u001b[0;34m\u001b[0m\u001b[0m\n",
      "\u001b[0;31mValueError\u001b[0m: Shape of passed values is (10, 1), indices imply (10, 10)"
     ]
    }
   ],
   "source": [
    "inp_df = pd.DataFrame(data=input_arr, columns=X.columns)\n",
    "inp_df"
   ]
  },
  {
   "cell_type": "code",
   "execution_count": 97,
   "id": "e83c7825",
   "metadata": {},
   "outputs": [
    {
     "data": {
      "text/plain": [
       "array([0.])"
      ]
     },
     "execution_count": 97,
     "metadata": {},
     "output_type": "execute_result"
    }
   ],
   "source": [
    "best_model_gs.predict(inp_df)"
   ]
  },
  {
   "cell_type": "code",
   "execution_count": 98,
   "id": "cf74938a",
   "metadata": {},
   "outputs": [
    {
     "data": {
      "text/plain": [
       "array([[9.99700404e-01, 2.99595613e-04]])"
      ]
     },
     "execution_count": 98,
     "metadata": {},
     "output_type": "execute_result"
    }
   ],
   "source": [
    "best_model_gs.predict_proba(inp_df)"
   ]
  },
  {
   "cell_type": "code",
   "execution_count": 26,
   "id": "c31be04e",
   "metadata": {},
   "outputs": [
    {
     "data": {
      "text/plain": [
       "array([0., 1., 1., ..., 1., 0., 1.])"
      ]
     },
     "execution_count": 26,
     "metadata": {},
     "output_type": "execute_result"
    }
   ],
   "source": [
    "best_model_gs.predict(X_test)"
   ]
  },
  {
   "cell_type": "code",
   "execution_count": 53,
   "id": "a219af49",
   "metadata": {},
   "outputs": [
    {
     "data": {
      "text/plain": [
       "[2053,\n",
       " 5572,\n",
       " 4042,\n",
       " 4672,\n",
       " 2419,\n",
       " 4208,\n",
       " 3545,\n",
       " 1597,\n",
       " 5716,\n",
       " 5950,\n",
       " 4458,\n",
       " 5826,\n",
       " 1048,\n",
       " 1156,\n",
       " 1107,\n",
       " 2919,\n",
       " 3958,\n",
       " 1752,\n",
       " 1978,\n",
       " 1668,\n",
       " 2990,\n",
       " 4499,\n",
       " 5352,\n",
       " 4729,\n",
       " 5221,\n",
       " 1981,\n",
       " 4407,\n",
       " 5724,\n",
       " 1210,\n",
       " 4854,\n",
       " 4829,\n",
       " 5002,\n",
       " 1762,\n",
       " 5502,\n",
       " 1479,\n",
       " 1016,\n",
       " 5070,\n",
       " 1392,\n",
       " 4214,\n",
       " 5486,\n",
       " 1350,\n",
       " 2897,\n",
       " 5884,\n",
       " 1522,\n",
       " 1282,\n",
       " 5638,\n",
       " 3791,\n",
       " 5588,\n",
       " 1262,\n",
       " 5881,\n",
       " 3676,\n",
       " 4041,\n",
       " 5252,\n",
       " 4188,\n",
       " 4392,\n",
       " 1235,\n",
       " 5440,\n",
       " 2424,\n",
       " 5759,\n",
       " 5149,\n",
       " 4366,\n",
       " 1694,\n",
       " 1847,\n",
       " 3833,\n",
       " 3261,\n",
       " 5561,\n",
       " 2414,\n",
       " 5383,\n",
       " 5524,\n",
       " 5332,\n",
       " 4363,\n",
       " 5125,\n",
       " 6102,\n",
       " 4684,\n",
       " 4171,\n",
       " 4557,\n",
       " 4535,\n",
       " 1429,\n",
       " 1834,\n",
       " 3837,\n",
       " 4339,\n",
       " 4204,\n",
       " 4640,\n",
       " 2597,\n",
       " 2529,\n",
       " 1872,\n",
       " 5659,\n",
       " 1261,\n",
       " 5516,\n",
       " 1541,\n",
       " 4754,\n",
       " 4312,\n",
       " 5113,\n",
       " 5825,\n",
       " 1194,\n",
       " 5150,\n",
       " 1601,\n",
       " 5711,\n",
       " 1005,\n",
       " 5173,\n",
       " 5139,\n",
       " 3189,\n",
       " 3100,\n",
       " 4012,\n",
       " 5802,\n",
       " 1504,\n",
       " 4522,\n",
       " 5004,\n",
       " 1304,\n",
       " 4129,\n",
       " 4432,\n",
       " 1417,\n",
       " 5691,\n",
       " 1694,\n",
       " 5275,\n",
       " 3443,\n",
       " 4682,\n",
       " 2792,\n",
       " 3506,\n",
       " 4504,\n",
       " 1946,\n",
       " 2195,\n",
       " 5660,\n",
       " 4690,\n",
       " 3755,\n",
       " 1419,\n",
       " 2048,\n",
       " 4491,\n",
       " 4433,\n",
       " 2300,\n",
       " 2551,\n",
       " 5433,\n",
       " 5505,\n",
       " 1620,\n",
       " 5299,\n",
       " 5671,\n",
       " 5734,\n",
       " 3473,\n",
       " 5740,\n",
       " 5496,\n",
       " 3840,\n",
       " 4380,\n",
       " 4785,\n",
       " 1812,\n",
       " 5325,\n",
       " 4005,\n",
       " 2980,\n",
       " 2018,\n",
       " 5531,\n",
       " 5136,\n",
       " 1178,\n",
       " 4011,\n",
       " 4833,\n",
       " 1523,\n",
       " 4385,\n",
       " 5490,\n",
       " 4191,\n",
       " 3494,\n",
       " 1785,\n",
       " 3373,\n",
       " 2774,\n",
       " 1682,\n",
       " 1994,\n",
       " 5994,\n",
       " 3459,\n",
       " 3690,\n",
       " 5214,\n",
       " 1441,\n",
       " 1248,\n",
       " 5827,\n",
       " 5837,\n",
       " 5545,\n",
       " 4977,\n",
       " 3531,\n",
       " 4307,\n",
       " 4196,\n",
       " 3676,\n",
       " 1290,\n",
       " 4104,\n",
       " 5274,\n",
       " 5161,\n",
       " 5919,\n",
       " 5026,\n",
       " 4034,\n",
       " 2777,\n",
       " 5709,\n",
       " 2493,\n",
       " 5867,\n",
       " 3444,\n",
       " 1811,\n",
       " 1924,\n",
       " 2943,\n",
       " 5895,\n",
       " 5062,\n",
       " 5987,\n",
       " 5036,\n",
       " 1645,\n",
       " 4762,\n",
       " 1248,\n",
       " 4750,\n",
       " 4765,\n",
       " 4883,\n",
       " 3339,\n",
       " 4768,\n",
       " 1387,\n",
       " 3622,\n",
       " 2034,\n",
       " 1304,\n",
       " 3239,\n",
       " 5901,\n",
       " 5839,\n",
       " 4394,\n",
       " 4027,\n",
       " 5565,\n",
       " 4563,\n",
       " 1644,\n",
       " 3686,\n",
       " 4423,\n",
       " 4530,\n",
       " 4584,\n",
       " 1824,\n",
       " 3813,\n",
       " 4557,\n",
       " 5521,\n",
       " 4269,\n",
       " 1657,\n",
       " 5793,\n",
       " 4402,\n",
       " 1219,\n",
       " 1259,\n",
       " 5680,\n",
       " 5473,\n",
       " 4422,\n",
       " 1752,\n",
       " 4537,\n",
       " 5174,\n",
       " 4575,\n",
       " 3370,\n",
       " 3809,\n",
       " 2624,\n",
       " 1713,\n",
       " 1436,\n",
       " 1003,\n",
       " 5054,\n",
       " 4088,\n",
       " 3482,\n",
       " 5313,\n",
       " 4545,\n",
       " 5603,\n",
       " 5570,\n",
       " 4490,\n",
       " 3770,\n",
       " 5214,\n",
       " 4412,\n",
       " 4892,\n",
       " 1383,\n",
       " 5817,\n",
       " 4834,\n",
       " 2957,\n",
       " 4343,\n",
       " 1140,\n",
       " 4668,\n",
       " 5736,\n",
       " 2625,\n",
       " 1166,\n",
       " 1560,\n",
       " 1332,\n",
       " 5616,\n",
       " 4610,\n",
       " 1693,\n",
       " 5342,\n",
       " 1579,\n",
       " 4940,\n",
       " 1565,\n",
       " 4484,\n",
       " 1690,\n",
       " 4859,\n",
       " 4800,\n",
       " 5235,\n",
       " 5447,\n",
       " 1453,\n",
       " 4710,\n",
       " 4665,\n",
       " 5413,\n",
       " 1591,\n",
       " 3183,\n",
       " 1837,\n",
       " 4125,\n",
       " 4577,\n",
       " 4377,\n",
       " 4352,\n",
       " 3236,\n",
       " 1692,\n",
       " 3024,\n",
       " 1150,\n",
       " 1587,\n",
       " 5865,\n",
       " 4520,\n",
       " 4107,\n",
       " 5854,\n",
       " 5382,\n",
       " 4057,\n",
       " 1960,\n",
       " 4678,\n",
       " 1081,\n",
       " 4556,\n",
       " 5357,\n",
       " 4423,\n",
       " 1646,\n",
       " 1144,\n",
       " 1070,\n",
       " 3510,\n",
       " 5898,\n",
       " 1004,\n",
       " 1920,\n",
       " 1570,\n",
       " 5743,\n",
       " 5989,\n",
       " 4184,\n",
       " 1015,\n",
       " 4042,\n",
       " 1511,\n",
       " 4314,\n",
       " 4361,\n",
       " 1365,\n",
       " 1826,\n",
       " 4485,\n",
       " 3371,\n",
       " 5066,\n",
       " 5394,\n",
       " 1712,\n",
       " 4962,\n",
       " 5424,\n",
       " 5851,\n",
       " 5642,\n",
       " 4921,\n",
       " 5208,\n",
       " 5438,\n",
       " 5341,\n",
       " 4566,\n",
       " 3278,\n",
       " 4691,\n",
       " 5653,\n",
       " 4820,\n",
       " 1507,\n",
       " 3131,\n",
       " 5079,\n",
       " 5029,\n",
       " 5849,\n",
       " 4527,\n",
       " 1867,\n",
       " 5678,\n",
       " 1562,\n",
       " 5364,\n",
       " 5787,\n",
       " 3370,\n",
       " 2684,\n",
       " 1005,\n",
       " 1704,\n",
       " 5720,\n",
       " 1061,\n",
       " 5862,\n",
       " 5132,\n",
       " 2424,\n",
       " 1898,\n",
       " 4950,\n",
       " 5413,\n",
       " 1260,\n",
       " 4117,\n",
       " 5308,\n",
       " 2791,\n",
       " 5943,\n",
       " 3202,\n",
       " 4660,\n",
       " 1244,\n",
       " 1599,\n",
       " 1228,\n",
       " 1021,\n",
       " 3372,\n",
       " 2752,\n",
       " 1226,\n",
       " 1928,\n",
       " 4225,\n",
       " 1528,\n",
       " 3562,\n",
       " 5400,\n",
       " 5113,\n",
       " 1762,\n",
       " 5489,\n",
       " 1613,\n",
       " 3409,\n",
       " 1112,\n",
       " 4998,\n",
       " 1519,\n",
       " 2719,\n",
       " 3773,\n",
       " 3849,\n",
       " 3893,\n",
       " 5912,\n",
       " 1269,\n",
       " 5822,\n",
       " 5476,\n",
       " 3836,\n",
       " 1235,\n",
       " 4025,\n",
       " 4263,\n",
       " 3145,\n",
       " 4314,\n",
       " 5016,\n",
       " 1304,\n",
       " 5447,\n",
       " 4744,\n",
       " 4623,\n",
       " 5435,\n",
       " 5325,\n",
       " 1153,\n",
       " 5095,\n",
       " 4380,\n",
       " 5061,\n",
       " 5522,\n",
       " 4741,\n",
       " 4386,\n",
       " 1840,\n",
       " 1341,\n",
       " 3672,\n",
       " 1638,\n",
       " 1544,\n",
       " 1389,\n",
       " 5508,\n",
       " 2751,\n",
       " 2176,\n",
       " 5577,\n",
       " 5409,\n",
       " 4743,\n",
       " 1117,\n",
       " 5464,\n",
       " 4142,\n",
       " 1297,\n",
       " 5566,\n",
       " 2339,\n",
       " 4352,\n",
       " 5977,\n",
       " 4714,\n",
       " 2719,\n",
       " 5085,\n",
       " 2897,\n",
       " 1323,\n",
       " 3155,\n",
       " 4643,\n",
       " 5607,\n",
       " 5804,\n",
       " 1750,\n",
       " 2070,\n",
       " 4883,\n",
       " 4682,\n",
       " 1732,\n",
       " 4819,\n",
       " 4844,\n",
       " 2627,\n",
       " 5761,\n",
       " 1367,\n",
       " 4081,\n",
       " 4512,\n",
       " 1349,\n",
       " 5744,\n",
       " 5083,\n",
       " 1121,\n",
       " 1624,\n",
       " 5666,\n",
       " 3593,\n",
       " 4732,\n",
       " 5488,\n",
       " 4653,\n",
       " 1207,\n",
       " 4512,\n",
       " 1178,\n",
       " 4277,\n",
       " 4602,\n",
       " 4646,\n",
       " 1512,\n",
       " 5675,\n",
       " 1576,\n",
       " 1524,\n",
       " 2383,\n",
       " 1707,\n",
       " 4999,\n",
       " 1043,\n",
       " 1922,\n",
       " 5510,\n",
       " 4741,\n",
       " 1322,\n",
       " 3356,\n",
       " 1516,\n",
       " 1148,\n",
       " 2643,\n",
       " 1673,\n",
       " 1519,\n",
       " 2344,\n",
       " 3743,\n",
       " 1626,\n",
       " 4084,\n",
       " 5263,\n",
       " 1305,\n",
       " 3049,\n",
       " 1924,\n",
       " 1277,\n",
       " 1838,\n",
       " 1236,\n",
       " 1420,\n",
       " 1832,\n",
       " 3818,\n",
       " 1918,\n",
       " 5062,\n",
       " 5487,\n",
       " 5605,\n",
       " 5316,\n",
       " 5204,\n",
       " 5363,\n",
       " 1283,\n",
       " 1366,\n",
       " 2900,\n",
       " 5884,\n",
       " 1443,\n",
       " 1872,\n",
       " 1741,\n",
       " 1277,\n",
       " 4492,\n",
       " 5771,\n",
       " 1460,\n",
       " 4462,\n",
       " 3807,\n",
       " 4016,\n",
       " 1711,\n",
       " 5104,\n",
       " 5839,\n",
       " 3860,\n",
       " 4885,\n",
       " 5414,\n",
       " 5066,\n",
       " 3427,\n",
       " 1711,\n",
       " 4071,\n",
       " 4285,\n",
       " 1009,\n",
       " 1123,\n",
       " 4025,\n",
       " 5600,\n",
       " 1811,\n",
       " 4083,\n",
       " 4651,\n",
       " 4075,\n",
       " 5295,\n",
       " 4736,\n",
       " 1690,\n",
       " 5112,\n",
       " 5841,\n",
       " 4200,\n",
       " 1945,\n",
       " 1629,\n",
       " 3631,\n",
       " 1200,\n",
       " 5745,\n",
       " 1366,\n",
       " 5244,\n",
       " 5849,\n",
       " 1856,\n",
       " 1210,\n",
       " 1347,\n",
       " 4974,\n",
       " 4078,\n",
       " 5674,\n",
       " 4004,\n",
       " 2947,\n",
       " 3642,\n",
       " 1712,\n",
       " 1289,\n",
       " 5412,\n",
       " 1446,\n",
       " 5721,\n",
       " 5211,\n",
       " 4938,\n",
       " 1891,\n",
       " 4381,\n",
       " 2042,\n",
       " 1954,\n",
       " 1929,\n",
       " 5040,\n",
       " 2779,\n",
       " 5488,\n",
       " 4569,\n",
       " 1434,\n",
       " 4368,\n",
       " 5472,\n",
       " 1304,\n",
       " 4845,\n",
       " 1145,\n",
       " 3878,\n",
       " 1204,\n",
       " 1995,\n",
       " 5230,\n",
       " 1752,\n",
       " 1548,\n",
       " 5494,\n",
       " 4930,\n",
       " 2072,\n",
       " 2266,\n",
       " 2431,\n",
       " 4698,\n",
       " 4820,\n",
       " 5055,\n",
       " 4166,\n",
       " 1093,\n",
       " 2641,\n",
       " 5049,\n",
       " 4222,\n",
       " 4831,\n",
       " 4554,\n",
       " 3543,\n",
       " 3206,\n",
       " 5434,\n",
       " 4695,\n",
       " 4270,\n",
       " 4734,\n",
       " 5479,\n",
       " 1866,\n",
       " 4329,\n",
       " 4456,\n",
       " 2605,\n",
       " 1074,\n",
       " 4540,\n",
       " 3813,\n",
       " 1141,\n",
       " 5939,\n",
       " 1817,\n",
       " 5580,\n",
       " 5714,\n",
       " 4356,\n",
       " 4046,\n",
       " 5552,\n",
       " 4687,\n",
       " 5456,\n",
       " 1116,\n",
       " 4663,\n",
       " 1889,\n",
       " 3671,\n",
       " 5298,\n",
       " 1317,\n",
       " 1750,\n",
       " 5676,\n",
       " 1634,\n",
       " 2476,\n",
       " 4081,\n",
       " 4631,\n",
       " 5807,\n",
       " 5709,\n",
       " 5831,\n",
       " 2090,\n",
       " 1787,\n",
       " 5352,\n",
       " 5707,\n",
       " 4674,\n",
       " 2411,\n",
       " 2211,\n",
       " 4450,\n",
       " 3499,\n",
       " 4355,\n",
       " 4439,\n",
       " 1808,\n",
       " 5337,\n",
       " 5830,\n",
       " 4649,\n",
       " 1819,\n",
       " 5683,\n",
       " 5761,\n",
       " 1534,\n",
       " 4727,\n",
       " 1067,\n",
       " 4690,\n",
       " 1603,\n",
       " 5559,\n",
       " 5308,\n",
       " 5555,\n",
       " 3290,\n",
       " 2003,\n",
       " 2962,\n",
       " 5417,\n",
       " 1917,\n",
       " 1922,\n",
       " 1779,\n",
       " 4927,\n",
       " 1313,\n",
       " 5559,\n",
       " 1754,\n",
       " 5800,\n",
       " 2791,\n",
       " 1177,\n",
       " 1874,\n",
       " 4341,\n",
       " 1771,\n",
       " 5585,\n",
       " 5624,\n",
       " 1228,\n",
       " 1269,\n",
       " 1083,\n",
       " 1756,\n",
       " 3903,\n",
       " 2059,\n",
       " 5898,\n",
       " 5642,\n",
       " 1537,\n",
       " 1458,\n",
       " 2339,\n",
       " 4015,\n",
       " 1691,\n",
       " 1983,\n",
       " 2582,\n",
       " 2064,\n",
       " 5513,\n",
       " 4323,\n",
       " 4458,\n",
       " 2171,\n",
       " 5393,\n",
       " 2944,\n",
       " 5876,\n",
       " 5543,\n",
       " 4409,\n",
       " 1020,\n",
       " 4604,\n",
       " 5872,\n",
       " 4151,\n",
       " 4723,\n",
       " 5724,\n",
       " 4811,\n",
       " 5734,\n",
       " 5107,\n",
       " 4724,\n",
       " 1527,\n",
       " 3897,\n",
       " 4090,\n",
       " 2267,\n",
       " 3985,\n",
       " 2047,\n",
       " 1485,\n",
       " 5168,\n",
       " 5303,\n",
       " 5382,\n",
       " 1358,\n",
       " 5702,\n",
       " 1411,\n",
       " 1258,\n",
       " 4560,\n",
       " 5260,\n",
       " 5062,\n",
       " 1789,\n",
       " 5464,\n",
       " 3715,\n",
       " 1182,\n",
       " 4137,\n",
       " 1943,\n",
       " 1134,\n",
       " 5219,\n",
       " 4977,\n",
       " 3111,\n",
       " 2758,\n",
       " 4252,\n",
       " 4424,\n",
       " 5299,\n",
       " 5578,\n",
       " 4230,\n",
       " 4430,\n",
       " 1631,\n",
       " 4278,\n",
       " 1204,\n",
       " 4495,\n",
       " 2709,\n",
       " 1865,\n",
       " 3978,\n",
       " 3098,\n",
       " 3280,\n",
       " 4320,\n",
       " 1225,\n",
       " 1875,\n",
       " 5991,\n",
       " 1136,\n",
       " 4379,\n",
       " 3125,\n",
       " 1488,\n",
       " 2536,\n",
       " 5116,\n",
       " 3459,\n",
       " 5084,\n",
       " 4994,\n",
       " 4369,\n",
       " 5864,\n",
       " 1387,\n",
       " 4135,\n",
       " 5536,\n",
       " 2563,\n",
       " 5682,\n",
       " 5624,\n",
       " 1092,\n",
       " 1075,\n",
       " 5375,\n",
       " 4650,\n",
       " 1080,\n",
       " 5140,\n",
       " 5857,\n",
       " 5379,\n",
       " 1789,\n",
       " 3648,\n",
       " 2052,\n",
       " 5359,\n",
       " 2164,\n",
       " 1367,\n",
       " 4413,\n",
       " 4299,\n",
       " 5598,\n",
       " 2741,\n",
       " 4837,\n",
       " 1033,\n",
       " 4524,\n",
       " 4129,\n",
       " 4358,\n",
       " 1347,\n",
       " 4643,\n",
       " 1119,\n",
       " 1460,\n",
       " 1275,\n",
       " 2717,\n",
       " 1258,\n",
       " 3179,\n",
       " 4875,\n",
       " 5689,\n",
       " 3710,\n",
       " 5692,\n",
       " 1441,\n",
       " 4129,\n",
       " 5398,\n",
       " 5967,\n",
       " 4494,\n",
       " 3709,\n",
       " 2782,\n",
       " 3135,\n",
       " 4042,\n",
       " 1099,\n",
       " 5182,\n",
       " 4375,\n",
       " 1090,\n",
       " 5174,\n",
       " 5757,\n",
       " 1078,\n",
       " 5717,\n",
       " 1082,\n",
       " 1639,\n",
       " 5828,\n",
       " 2905,\n",
       " 5028,\n",
       " 4324,\n",
       " 4254,\n",
       " 5279,\n",
       " 1636,\n",
       " 4705,\n",
       " 5266,\n",
       " 4423,\n",
       " 1211,\n",
       " 1185,\n",
       " 1483,\n",
       " 5749,\n",
       " 5868,\n",
       " 5759,\n",
       " 1831,\n",
       " 5776,\n",
       " 4235,\n",
       " 5198,\n",
       " 5298,\n",
       " 3517,\n",
       " 1113,\n",
       " 2371,\n",
       " 5832,\n",
       " 1065,\n",
       " 5863,\n",
       " 4133,\n",
       " 4261,\n",
       " 5940,\n",
       " 2021,\n",
       " 1568,\n",
       " 5967,\n",
       " 5072,\n",
       " 5920,\n",
       " 2268,\n",
       " 4892,\n",
       " 4363,\n",
       " 4450,\n",
       " 4485,\n",
       " 4111,\n",
       " 5652,\n",
       " 1920,\n",
       " 1499,\n",
       " 2042,\n",
       " 4978,\n",
       " 1265,\n",
       " 4753,\n",
       " 1644,\n",
       " 5383,\n",
       " 1890,\n",
       " 1184,\n",
       " 4163,\n",
       " 4314,\n",
       " 5282,\n",
       " 3578,\n",
       " 4440,\n",
       " 4944,\n",
       " 4130,\n",
       " 4076,\n",
       " 3764,\n",
       " 5783,\n",
       " 1116,\n",
       " 5042,\n",
       " 4919,\n",
       " 3169,\n",
       " 4266,\n",
       " 4934,\n",
       " 1798,\n",
       " 4788,\n",
       " 1327,\n",
       " 1427,\n",
       " 4374,\n",
       " 4242,\n",
       " 5700,\n",
       " 5029,\n",
       " 4352,\n",
       " 5154,\n",
       " 1515,\n",
       " 1292,\n",
       " 1059,\n",
       " 4056,\n",
       " 4255,\n",
       " 1348,\n",
       " 4056,\n",
       " 1150,\n",
       " 3925,\n",
       " 3624,\n",
       " 4546,\n",
       " 3401,\n",
       " 2666,\n",
       " 3393,\n",
       " 5987,\n",
       " 1483,\n",
       " 4767,\n",
       " 2111,\n",
       " 4944,\n",
       " 1321,\n",
       " 4014,\n",
       " 1366,\n",
       " 1588,\n",
       " 5833,\n",
       " 1435,\n",
       " 2495,\n",
       " 5976,\n",
       " 4061,\n",
       " 1051,\n",
       " 2620,\n",
       " 5514,\n",
       " 5509,\n",
       " 1648,\n",
       " 4488,\n",
       " 3641,\n",
       " 4470,\n",
       " 4506,\n",
       " 1104,\n",
       " 1322,\n",
       " 1240,\n",
       " 4615,\n",
       " 3578,\n",
       " 4393,\n",
       " 4327,\n",
       " 5724,\n",
       " 5088,\n",
       " 1900,\n",
       " 1451,\n",
       " 5726,\n",
       " 4212,\n",
       " 1864,\n",
       " 4066,\n",
       " 1809,\n",
       " 5872,\n",
       " 4583,\n",
       " 4200,\n",
       " 5278,\n",
       " 4586,\n",
       " 5254,\n",
       " 4426,\n",
       " 5929,\n",
       " 3644,\n",
       " 4430,\n",
       " 4953,\n",
       " 1946,\n",
       " 1927,\n",
       " 1842,\n",
       " 1382,\n",
       " ...]"
      ]
     },
     "execution_count": 53,
     "metadata": {},
     "output_type": "execute_result"
    }
   ],
   "source": [
    "weight_list = X_test[\"Weight_in_gms\"].values.tolist()\n",
    "weight_list"
   ]
  },
  {
   "cell_type": "code",
   "execution_count": 41,
   "id": "52507b3b",
   "metadata": {},
   "outputs": [
    {
     "data": {
      "text/plain": [
       "array([[9.99900713e-01, 9.92866700e-05],\n",
       "       [4.20135696e-01, 5.79864304e-01],\n",
       "       [4.22807483e-01, 5.77192517e-01],\n",
       "       ...,\n",
       "       [4.38687666e-01, 5.61312334e-01],\n",
       "       [7.33194229e-01, 2.66805771e-01],\n",
       "       [4.17885959e-01, 5.82114041e-01]])"
      ]
     },
     "execution_count": 41,
     "metadata": {},
     "output_type": "execute_result"
    }
   ],
   "source": [
    "proba = best_model_gs.predict_proba(X_test)\n",
    "proba"
   ]
  },
  {
   "cell_type": "code",
   "execution_count": null,
   "id": "5ea6ff19",
   "metadata": {},
   "outputs": [],
   "source": [
    "X_test"
   ]
  },
  {
   "cell_type": "code",
   "execution_count": 66,
   "id": "f1137338",
   "metadata": {
    "scrolled": false
   },
   "outputs": [],
   "source": [
    "proba_data = proba[:,:1]\n",
    "proba_data\n",
    "proba_list = [proba_data[i][0] for i in range(len(proba_data))]\n",
    "proba_list;"
   ]
  },
  {
   "cell_type": "code",
   "execution_count": 71,
   "id": "c7890266",
   "metadata": {
    "scrolled": true
   },
   "outputs": [
    {
     "data": {
      "text/html": [
       "<div>\n",
       "<style scoped>\n",
       "    .dataframe tbody tr th:only-of-type {\n",
       "        vertical-align: middle;\n",
       "    }\n",
       "\n",
       "    .dataframe tbody tr th {\n",
       "        vertical-align: top;\n",
       "    }\n",
       "\n",
       "    .dataframe thead th {\n",
       "        text-align: right;\n",
       "    }\n",
       "</style>\n",
       "<table border=\"1\" class=\"dataframe\">\n",
       "  <thead>\n",
       "    <tr style=\"text-align: right;\">\n",
       "      <th></th>\n",
       "      <th>Weight_in_gms</th>\n",
       "      <th>proba_late</th>\n",
       "    </tr>\n",
       "  </thead>\n",
       "  <tbody>\n",
       "    <tr>\n",
       "      <th>0</th>\n",
       "      <td>2053</td>\n",
       "      <td>0.999901</td>\n",
       "    </tr>\n",
       "    <tr>\n",
       "      <th>1</th>\n",
       "      <td>5572</td>\n",
       "      <td>0.420136</td>\n",
       "    </tr>\n",
       "    <tr>\n",
       "      <th>2</th>\n",
       "      <td>4042</td>\n",
       "      <td>0.422807</td>\n",
       "    </tr>\n",
       "    <tr>\n",
       "      <th>3</th>\n",
       "      <td>4672</td>\n",
       "      <td>0.396059</td>\n",
       "    </tr>\n",
       "    <tr>\n",
       "      <th>4</th>\n",
       "      <td>2419</td>\n",
       "      <td>0.999888</td>\n",
       "    </tr>\n",
       "  </tbody>\n",
       "</table>\n",
       "</div>"
      ],
      "text/plain": [
       "   Weight_in_gms  proba_late\n",
       "0           2053    0.999901\n",
       "1           5572    0.420136\n",
       "2           4042    0.422807\n",
       "3           4672    0.396059\n",
       "4           2419    0.999888"
      ]
     },
     "execution_count": 71,
     "metadata": {},
     "output_type": "execute_result"
    }
   ],
   "source": [
    "data = {\"Weight_in_gms\": weight_list, \"proba_late\": proba_list}\n",
    "df_proba = pd.DataFrame(data=data)\n",
    "df_proba.head()"
   ]
  },
  {
   "cell_type": "code",
   "execution_count": 76,
   "id": "55cf2e9c",
   "metadata": {},
   "outputs": [
    {
     "ename": "TypeError",
     "evalue": "'str' object is not callable",
     "output_type": "error",
     "traceback": [
      "\u001b[0;31m---------------------------------------------------------------------------\u001b[0m",
      "\u001b[0;31mTypeError\u001b[0m                                 Traceback (most recent call last)",
      "\u001b[0;32m<ipython-input-76-24c895e35e99>\u001b[0m in \u001b[0;36m<module>\u001b[0;34m\u001b[0m\n\u001b[1;32m      1\u001b[0m \u001b[0mplt\u001b[0m\u001b[0;34m.\u001b[0m\u001b[0mscatter\u001b[0m\u001b[0;34m(\u001b[0m\u001b[0mx\u001b[0m\u001b[0;34m=\u001b[0m\u001b[0mdf_proba\u001b[0m\u001b[0;34m[\u001b[0m\u001b[0;34m\"Weight_in_gms\"\u001b[0m\u001b[0;34m]\u001b[0m\u001b[0;34m,\u001b[0m \u001b[0my\u001b[0m\u001b[0;34m=\u001b[0m\u001b[0mdf_proba\u001b[0m\u001b[0;34m[\u001b[0m\u001b[0;34m\"proba_late\"\u001b[0m\u001b[0;34m]\u001b[0m\u001b[0;34m)\u001b[0m\u001b[0;34m\u001b[0m\u001b[0;34m\u001b[0m\u001b[0m\n\u001b[0;32m----> 2\u001b[0;31m \u001b[0mplt\u001b[0m\u001b[0;34m.\u001b[0m\u001b[0mxlabel\u001b[0m\u001b[0;34m(\u001b[0m\u001b[0;34m\"Weight_in_gms\"\u001b[0m\u001b[0;34m)\u001b[0m\u001b[0;34m\u001b[0m\u001b[0;34m\u001b[0m\u001b[0m\n\u001b[0m\u001b[1;32m      3\u001b[0m \u001b[0mplt\u001b[0m\u001b[0;34m.\u001b[0m\u001b[0mylabel\u001b[0m\u001b[0;34m(\u001b[0m\u001b[0;34m\"proba_late\"\u001b[0m\u001b[0;34m)\u001b[0m\u001b[0;34m\u001b[0m\u001b[0;34m\u001b[0m\u001b[0m\n\u001b[1;32m      4\u001b[0m \u001b[0mplt\u001b[0m\u001b[0;34m.\u001b[0m\u001b[0mshow\u001b[0m\u001b[0;34m(\u001b[0m\u001b[0;34m)\u001b[0m\u001b[0;34m\u001b[0m\u001b[0;34m\u001b[0m\u001b[0m\n",
      "\u001b[0;31mTypeError\u001b[0m: 'str' object is not callable"
     ]
    },
    {
     "data": {
      "image/png": "[encoded data removed]",
      "text/plain": [
       "<Figure size 432x288 with 1 Axes>"
      ]
     },
     "metadata": {
      "needs_background": "light"
     },
     "output_type": "display_data"
    }
   ],
   "source": [
    "plt.scatter(x=df_proba[\"Weight_in_gms\"], y=df_proba[\"proba_late\"])\n",
    "plt.xlabel(\"Weight_in_gms\")\n",
    "plt.ylabel(\"proba_late\")\n",
    "plt.show()"
   ]
  },
  {
   "cell_type": "code",
   "execution_count": 88,
   "id": "f8567534",
   "metadata": {},
   "outputs": [
    {
     "data": {
      "text/plain": [
       "4883    12\n",
       "1145    10\n",
       "4741    10\n",
       "5783    10\n",
       "4314    10\n",
       "        ..\n",
       "2597     1\n",
       "4630     1\n",
       "2573     1\n",
       "2557     1\n",
       "2047     1\n",
       "Name: Weight_in_gms, Length: 4034, dtype: int64"
      ]
     },
     "execution_count": 88,
     "metadata": {},
     "output_type": "execute_result"
    }
   ],
   "source": [
    "df[\"Weight_in_gms\"].value_counts()"
   ]
  },
  {
   "cell_type": "code",
   "execution_count": null,
   "id": "a23599d0",
   "metadata": {},
   "outputs": [],
   "source": []
  },
  {
   "cell_type": "code",
   "execution_count": null,
   "id": "7d6dc956",
   "metadata": {},
   "outputs": [],
   "source": []
  },
  {
   "cell_type": "markdown",
   "id": "8535da08",
   "metadata": {},
   "source": [
    "# Communicate Results"
   ]
  },
  {
   "cell_type": "code",
   "execution_count": 27,
   "id": "356726ac",
   "metadata": {},
   "outputs": [
    {
     "data": {
      "text/plain": [
       "<sklearn.metrics._plot.confusion_matrix.ConfusionMatrixDisplay at 0x7fc6baf09c40>"
      ]
     },
     "execution_count": 27,
     "metadata": {},
     "output_type": "execute_result"
    },
    {
     "data": {
      "image/png": "[encoded data removed]",
      "text/plain": [
       "<Figure size 432x288 with 2 Axes>"
      ]
     },
     "metadata": {
      "needs_background": "light"
     },
     "output_type": "display_data"
    }
   ],
   "source": [
    "# CONFUSION MATRIX\n",
    "plot_confusion_matrix(best_model_gs, X_test, y_test, values_format=\".0f\",\n",
    "                      display_labels=[\"Shipment Late\", \"Shipment On Time\"])"
   ]
  },
  {
   "cell_type": "code",
   "execution_count": 28,
   "id": "a1becae8",
   "metadata": {},
   "outputs": [
    {
     "data": {
      "text/plain": [
       "<AxesSubplot:>"
      ]
     },
     "execution_count": 28,
     "metadata": {},
     "output_type": "execute_result"
    },
    {
     "data": {
      "image/png": "[encoded data removed]",
      "text/plain": [
       "<Figure size 432x288 with 1 Axes>"
      ]
     },
     "metadata": {
      "needs_background": "light"
     },
     "output_type": "display_data"
    }
   ],
   "source": [
    "# PERMUTATION IMPORTANCE\n",
    "perm_imp = permutation_importance(best_model_gs, X_test, y_test, n_repeats=10,\n",
    "                                  n_jobs=-1, random_state=42)\n",
    "\n",
    "data = {\"imp_mean\": perm_imp[\"importances_mean\"],\n",
    "        \"imp_std\": perm_imp[\"importances_std\"]}\n",
    "\n",
    "df_perm = pd.DataFrame(data, index=X_test.columns).sort_values(\"imp_mean\")\n",
    "\n",
    "df_perm[\"imp_mean\"].tail(10).plot(kind=\"barh\")"
   ]
  },
  {
   "cell_type": "code",
   "execution_count": 29,
   "id": "462a1556",
   "metadata": {},
   "outputs": [
    {
     "data": {
      "text/plain": [
       "array([0.00104545, 0.00063636, 0.00640909, 0.00077273, 0.00527273,\n",
       "       0.01063636, 0.00040909, 0.00013636, 0.02140909, 0.06531818])"
      ]
     },
     "execution_count": 29,
     "metadata": {},
     "output_type": "execute_result"
    }
   ],
   "source": [
    "perm_imp[\"importances_mean\"]"
   ]
  },
  {
   "cell_type": "code",
   "execution_count": 30,
   "id": "57dbec9a",
   "metadata": {},
   "outputs": [
    {
     "data": {
      "text/html": [
       "<div>\n",
       "<style scoped>\n",
       "    .dataframe tbody tr th:only-of-type {\n",
       "        vertical-align: middle;\n",
       "    }\n",
       "\n",
       "    .dataframe tbody tr th {\n",
       "        vertical-align: top;\n",
       "    }\n",
       "\n",
       "    .dataframe thead th {\n",
       "        text-align: right;\n",
       "    }\n",
       "</style>\n",
       "<table border=\"1\" class=\"dataframe\">\n",
       "  <thead>\n",
       "    <tr style=\"text-align: right;\">\n",
       "      <th></th>\n",
       "      <th>imp_mean</th>\n",
       "      <th>imp_std</th>\n",
       "    </tr>\n",
       "  </thead>\n",
       "  <tbody>\n",
       "    <tr>\n",
       "      <th>Gender</th>\n",
       "      <td>0.000136</td>\n",
       "      <td>0.000355</td>\n",
       "    </tr>\n",
       "    <tr>\n",
       "      <th>Product_importance</th>\n",
       "      <td>0.000409</td>\n",
       "      <td>0.001415</td>\n",
       "    </tr>\n",
       "    <tr>\n",
       "      <th>Mode_of_Shipment</th>\n",
       "      <td>0.000636</td>\n",
       "      <td>0.000506</td>\n",
       "    </tr>\n",
       "    <tr>\n",
       "      <th>Customer_rating</th>\n",
       "      <td>0.000773</td>\n",
       "      <td>0.002995</td>\n",
       "    </tr>\n",
       "    <tr>\n",
       "      <th>Warehouse_block</th>\n",
       "      <td>0.001045</td>\n",
       "      <td>0.001186</td>\n",
       "    </tr>\n",
       "    <tr>\n",
       "      <th>Cost_of_the_Product</th>\n",
       "      <td>0.005273</td>\n",
       "      <td>0.004636</td>\n",
       "    </tr>\n",
       "    <tr>\n",
       "      <th>Customer_care_calls</th>\n",
       "      <td>0.006409</td>\n",
       "      <td>0.002452</td>\n",
       "    </tr>\n",
       "    <tr>\n",
       "      <th>Prior_purchases</th>\n",
       "      <td>0.010636</td>\n",
       "      <td>0.003874</td>\n",
       "    </tr>\n",
       "    <tr>\n",
       "      <th>Discount_offered</th>\n",
       "      <td>0.021409</td>\n",
       "      <td>0.005776</td>\n",
       "    </tr>\n",
       "    <tr>\n",
       "      <th>Weight_in_gms</th>\n",
       "      <td>0.065318</td>\n",
       "      <td>0.005860</td>\n",
       "    </tr>\n",
       "  </tbody>\n",
       "</table>\n",
       "</div>"
      ],
      "text/plain": [
       "                     imp_mean   imp_std\n",
       "Gender               0.000136  0.000355\n",
       "Product_importance   0.000409  0.001415\n",
       "Mode_of_Shipment     0.000636  0.000506\n",
       "Customer_rating      0.000773  0.002995\n",
       "Warehouse_block      0.001045  0.001186\n",
       "Cost_of_the_Product  0.005273  0.004636\n",
       "Customer_care_calls  0.006409  0.002452\n",
       "Prior_purchases      0.010636  0.003874\n",
       "Discount_offered     0.021409  0.005776\n",
       "Weight_in_gms        0.065318  0.005860"
      ]
     },
     "execution_count": 30,
     "metadata": {},
     "output_type": "execute_result"
    }
   ],
   "source": [
    "df_perm"
   ]
  },
  {
   "cell_type": "markdown",
   "id": "392f7495",
   "metadata": {},
   "source": [
    "## Pickle Model"
   ]
  },
  {
   "cell_type": "code",
   "execution_count": 31,
   "id": "8b57943d",
   "metadata": {},
   "outputs": [],
   "source": [
    "filename = \"gbc_gs.pk1\"\n",
    "pickle.dump(best_model_gs, open(filename, 'wb'))"
   ]
  },
  {
   "cell_type": "code",
   "execution_count": null,
   "id": "11dd9b77",
   "metadata": {},
   "outputs": [],
   "source": []
  },
  {
   "cell_type": "code",
   "execution_count": null,
   "id": "3d380345",
   "metadata": {},
   "outputs": [],
   "source": []
  },
  {
   "cell_type": "code",
   "execution_count": null,
   "id": "849082d5",
   "metadata": {},
   "outputs": [],
   "source": []
  }
 ],
 "metadata": {
  "kernelspec": {
   "display_name": "Python 3",
   "language": "python",
   "name": "python3"
  },
  "language_info": {
   "codemirror_mode": {
    "name": "ipython",
    "version": 3
   },
   "file_extension": ".py",
   "mimetype": "text/x-python",
   "name": "python",
   "nbconvert_exporter": "python",
   "pygments_lexer": "ipython3",
   "version": "3.9.4"
  }
 },
 "nbformat": 4,
 "nbformat_minor": 5
}

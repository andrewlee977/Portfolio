{
 "cells": [
  {
   "cell_type": "markdown",
   "id": "c285f601",
   "metadata": {},
   "source": [
    "Dataset: E-Commerce Shipping Data from Kaggle: https://www.kaggle.com/prachi13/customer-analytics"
   ]
  },
  {
   "cell_type": "markdown",
   "id": "dc79062c",
   "metadata": {},
   "source": [
    "## The goal of this EDA notebook is to\n",
    "\n",
    "1. Fit a classification model to the shipping data to predict late shipments\n",
    "\n",
    "2. Pickle this model for use in a Plotly-Dash application\n",
    "\n",
    "3. Get initial intuitions about which features are most important in predicting late shipments"
   ]
  },
  {
   "cell_type": "code",
   "execution_count": 1,
   "id": "5df398be",
   "metadata": {},
   "outputs": [],
   "source": [
    "import pandas as pd\n",
    "import numpy as np\n",
    "import matplotlib.pyplot as plt\n",
    "import statsmodels.api as sm\n",
    "\n",
    "from sklearn.model_selection import train_test_split, RandomizedSearchCV, GridSearchCV\n",
    "from category_encoders import OneHotEncoder, OrdinalEncoder\n",
    "from sklearn.preprocessing import StandardScaler\n",
    "from sklearn.pipeline import make_pipeline\n",
    "from sklearn.linear_model import LogisticRegression\n",
    "from sklearn.ensemble import RandomForestClassifier, GradientBoostingClassifier\n",
    "from sklearn.metrics import plot_confusion_matrix, f1_score, classification_report\n",
    "from sklearn.inspection import permutation_importance\n",
    "\n",
    "import pickle"
   ]
  },
  {
   "cell_type": "markdown",
   "id": "6bfdfccf",
   "metadata": {},
   "source": [
    "ID: ID Number of Customers.\n",
    "\n",
    "• Warehouse block: The Company has a big Warehouse which is divided into blocks A,B,C,D,E.\n",
    "\n",
    "• Mode of shipment: The Company ships the products in multiple ways such as Ship, Flight and Road.\n",
    "\n",
    "• Customer care calls: The number of calls made from enquiry for enquiry of the shipment.\n",
    "\n",
    "• Customer rating: The company has rated from every customer. 1 is the lowest (Worst), 5 is the highest (Best).\n",
    "\n",
    "• Cost of the product: Cost of the Product in US Dollars.\n",
    "\n",
    "• Prior purchases: The Number of Prior Purchase.\n",
    "\n",
    "• Product importance: The company has categorized the product in the various parameter such as low, medium, high.\n",
    "\n",
    "• Gender: Male and Female.\n",
    "\n",
    "• Discount offered: Discount offered on that specific product.\n",
    "\n",
    "• Weight in gms: It is the weight in grams.\n",
    "\n",
    "• Reached on time: It is the target variable, where 1 Indicates that the product has NOT reached on time and 0 \n",
    "indicates it has reached on time."
   ]
  },
  {
   "cell_type": "markdown",
   "id": "b75971cf",
   "metadata": {},
   "source": [
    "# Wrangle Data"
   ]
  },
  {
   "cell_type": "code",
   "execution_count": 2,
   "id": "78d8d83c",
   "metadata": {},
   "outputs": [],
   "source": [
    "def wrangle(filepath):\n",
    "    \n",
    "    # Load data\n",
    "    df = pd.read_csv(filepath, index_col=\"ID\")\n",
    "    \n",
    "    # Switch binary values in target variable (1 - Yes, 0 - No)\n",
    "    mask = df[\"Reached.on.Time_Y.N\"] == 1\n",
    "    df.loc[mask, \"Reached_on_time\"] = 0\n",
    "    df.loc[~mask, \"Reached_on_time\"] = 1\n",
    "    \n",
    "    # Drop redundant columns\n",
    "    df.drop(columns=[\"Reached.on.Time_Y.N\"], inplace=True)\n",
    "    \n",
    "    return df"
   ]
  },
  {
   "cell_type": "code",
   "execution_count": 3,
   "id": "f483584a",
   "metadata": {},
   "outputs": [],
   "source": [
    "df = wrangle(\"../data/shipping_data.csv\")"
   ]
  },
  {
   "cell_type": "code",
   "execution_count": 4,
   "id": "16eaaecc",
   "metadata": {},
   "outputs": [
    {
     "data": {
      "text/html": [
       "<div>\n",
       "<style scoped>\n",
       "    .dataframe tbody tr th:only-of-type {\n",
       "        vertical-align: middle;\n",
       "    }\n",
       "\n",
       "    .dataframe tbody tr th {\n",
       "        vertical-align: top;\n",
       "    }\n",
       "\n",
       "    .dataframe thead th {\n",
       "        text-align: right;\n",
       "    }\n",
       "</style>\n",
       "<table border=\"1\" class=\"dataframe\">\n",
       "  <thead>\n",
       "    <tr style=\"text-align: right;\">\n",
       "      <th></th>\n",
       "      <th>Warehouse_block</th>\n",
       "      <th>Mode_of_Shipment</th>\n",
       "      <th>Customer_care_calls</th>\n",
       "      <th>Customer_rating</th>\n",
       "      <th>Cost_of_the_Product</th>\n",
       "      <th>Prior_purchases</th>\n",
       "      <th>Product_importance</th>\n",
       "      <th>Gender</th>\n",
       "      <th>Discount_offered</th>\n",
       "      <th>Weight_in_gms</th>\n",
       "      <th>Reached_on_time</th>\n",
       "    </tr>\n",
       "    <tr>\n",
       "      <th>ID</th>\n",
       "      <th></th>\n",
       "      <th></th>\n",
       "      <th></th>\n",
       "      <th></th>\n",
       "      <th></th>\n",
       "      <th></th>\n",
       "      <th></th>\n",
       "      <th></th>\n",
       "      <th></th>\n",
       "      <th></th>\n",
       "      <th></th>\n",
       "    </tr>\n",
       "  </thead>\n",
       "  <tbody>\n",
       "    <tr>\n",
       "      <th>1</th>\n",
       "      <td>D</td>\n",
       "      <td>Flight</td>\n",
       "      <td>4</td>\n",
       "      <td>2</td>\n",
       "      <td>177</td>\n",
       "      <td>3</td>\n",
       "      <td>low</td>\n",
       "      <td>F</td>\n",
       "      <td>44</td>\n",
       "      <td>1233</td>\n",
       "      <td>0.0</td>\n",
       "    </tr>\n",
       "    <tr>\n",
       "      <th>2</th>\n",
       "      <td>F</td>\n",
       "      <td>Flight</td>\n",
       "      <td>4</td>\n",
       "      <td>5</td>\n",
       "      <td>216</td>\n",
       "      <td>2</td>\n",
       "      <td>low</td>\n",
       "      <td>M</td>\n",
       "      <td>59</td>\n",
       "      <td>3088</td>\n",
       "      <td>0.0</td>\n",
       "    </tr>\n",
       "    <tr>\n",
       "      <th>3</th>\n",
       "      <td>A</td>\n",
       "      <td>Flight</td>\n",
       "      <td>2</td>\n",
       "      <td>2</td>\n",
       "      <td>183</td>\n",
       "      <td>4</td>\n",
       "      <td>low</td>\n",
       "      <td>M</td>\n",
       "      <td>48</td>\n",
       "      <td>3374</td>\n",
       "      <td>0.0</td>\n",
       "    </tr>\n",
       "    <tr>\n",
       "      <th>4</th>\n",
       "      <td>B</td>\n",
       "      <td>Flight</td>\n",
       "      <td>3</td>\n",
       "      <td>3</td>\n",
       "      <td>176</td>\n",
       "      <td>4</td>\n",
       "      <td>medium</td>\n",
       "      <td>M</td>\n",
       "      <td>10</td>\n",
       "      <td>1177</td>\n",
       "      <td>0.0</td>\n",
       "    </tr>\n",
       "    <tr>\n",
       "      <th>5</th>\n",
       "      <td>C</td>\n",
       "      <td>Flight</td>\n",
       "      <td>2</td>\n",
       "      <td>2</td>\n",
       "      <td>184</td>\n",
       "      <td>3</td>\n",
       "      <td>medium</td>\n",
       "      <td>F</td>\n",
       "      <td>46</td>\n",
       "      <td>2484</td>\n",
       "      <td>0.0</td>\n",
       "    </tr>\n",
       "  </tbody>\n",
       "</table>\n",
       "</div>"
      ],
      "text/plain": [
       "   Warehouse_block Mode_of_Shipment  Customer_care_calls  Customer_rating  \\\n",
       "ID                                                                          \n",
       "1                D           Flight                    4                2   \n",
       "2                F           Flight                    4                5   \n",
       "3                A           Flight                    2                2   \n",
       "4                B           Flight                    3                3   \n",
       "5                C           Flight                    2                2   \n",
       "\n",
       "    Cost_of_the_Product  Prior_purchases Product_importance Gender  \\\n",
       "ID                                                                   \n",
       "1                   177                3                low      F   \n",
       "2                   216                2                low      M   \n",
       "3                   183                4                low      M   \n",
       "4                   176                4             medium      M   \n",
       "5                   184                3             medium      F   \n",
       "\n",
       "    Discount_offered  Weight_in_gms  Reached_on_time  \n",
       "ID                                                    \n",
       "1                 44           1233              0.0  \n",
       "2                 59           3088              0.0  \n",
       "3                 48           3374              0.0  \n",
       "4                 10           1177              0.0  \n",
       "5                 46           2484              0.0  "
      ]
     },
     "execution_count": 4,
     "metadata": {},
     "output_type": "execute_result"
    }
   ],
   "source": [
    "df.head()"
   ]
  },
  {
   "cell_type": "code",
   "execution_count": 5,
   "id": "3642fd34",
   "metadata": {},
   "outputs": [
    {
     "data": {
      "text/plain": [
       "(10999, 11)"
      ]
     },
     "execution_count": 5,
     "metadata": {},
     "output_type": "execute_result"
    }
   ],
   "source": [
    "df.shape"
   ]
  },
  {
   "cell_type": "code",
   "execution_count": 6,
   "id": "cfdd2103",
   "metadata": {},
   "outputs": [
    {
     "name": "stdout",
     "output_type": "stream",
     "text": [
      "<class 'pandas.core.frame.DataFrame'>\n",
      "Int64Index: 10999 entries, 1 to 10999\n",
      "Data columns (total 11 columns):\n",
      " #   Column               Non-Null Count  Dtype  \n",
      "---  ------               --------------  -----  \n",
      " 0   Warehouse_block      10999 non-null  object \n",
      " 1   Mode_of_Shipment     10999 non-null  object \n",
      " 2   Customer_care_calls  10999 non-null  int64  \n",
      " 3   Customer_rating      10999 non-null  int64  \n",
      " 4   Cost_of_the_Product  10999 non-null  int64  \n",
      " 5   Prior_purchases      10999 non-null  int64  \n",
      " 6   Product_importance   10999 non-null  object \n",
      " 7   Gender               10999 non-null  object \n",
      " 8   Discount_offered     10999 non-null  int64  \n",
      " 9   Weight_in_gms        10999 non-null  int64  \n",
      " 10  Reached_on_time      10999 non-null  float64\n",
      "dtypes: float64(1), int64(6), object(4)\n",
      "memory usage: 1.0+ MB\n"
     ]
    }
   ],
   "source": [
    "# Check for null values\n",
    "df.info()"
   ]
  },
  {
   "cell_type": "code",
   "execution_count": 7,
   "id": "17c9cde4",
   "metadata": {},
   "outputs": [],
   "source": [
    "# Load cleaned data into CSV for Tableau usage\n",
    "df.to_csv(r\"../data/cleaned_data.csv\")"
   ]
  },
  {
   "cell_type": "markdown",
   "id": "d6079dc8",
   "metadata": {},
   "source": [
    "# Split Data"
   ]
  },
  {
   "cell_type": "code",
   "execution_count": 8,
   "id": "a571cb83",
   "metadata": {},
   "outputs": [],
   "source": [
    "X = df.drop(columns=\"Reached_on_time\")\n",
    "y = df[\"Reached_on_time\"]"
   ]
  },
  {
   "cell_type": "code",
   "execution_count": 9,
   "id": "9265b244",
   "metadata": {},
   "outputs": [],
   "source": [
    "# Split X & y into training and testing data\n",
    "# X_train, X_test, y_train, y_test = train_test_split(X, y, test_size=0.2, random_state=42)"
   ]
  },
  {
   "cell_type": "markdown",
   "id": "480f78ff",
   "metadata": {},
   "source": [
    "# Establish Baseline"
   ]
  },
  {
   "cell_type": "code",
   "execution_count": 10,
   "id": "6d363469",
   "metadata": {},
   "outputs": [
    {
     "data": {
      "text/plain": [
       "0.5966906082371125"
      ]
     },
     "execution_count": 10,
     "metadata": {},
     "output_type": "execute_result"
    }
   ],
   "source": [
    "# (59.67% of shipments do not reach their destination on time)\n",
    "baseline_accuracy = y.value_counts(normalize=True).max()\n",
    "baseline_accuracy"
   ]
  },
  {
   "cell_type": "markdown",
   "id": "a1f69cf8",
   "metadata": {},
   "source": [
    "# Statistical Modeling"
   ]
  },
  {
   "cell_type": "code",
   "execution_count": 11,
   "id": "d0596ee0",
   "metadata": {},
   "outputs": [],
   "source": [
    "# Fit OLS model to test statistical significance of features"
   ]
  },
  {
   "cell_type": "code",
   "execution_count": 12,
   "id": "0b739d46",
   "metadata": {},
   "outputs": [],
   "source": [
    "X_cols = list(X.columns)\n",
    "\n",
    "def fit_ols():\n",
    "    # Encode categorical features with 0s and 1s (get_dummies)\n",
    "    X_ols = pd.get_dummies(X[X_cols])\n",
    "    \n",
    "    # Ensure a model returns centered R^2\n",
    "    X_ols = sm.add_constant(X_ols)\n",
    "    \n",
    "    # Instantiate OLS model and fit to data\n",
    "    model = sm.OLS(y, X_ols).fit()\n",
    "    \n",
    "    print(model.summary())"
   ]
  },
  {
   "cell_type": "code",
   "execution_count": 13,
   "id": "c2b3fde2",
   "metadata": {},
   "outputs": [
    {
     "name": "stdout",
     "output_type": "stream",
     "text": [
      "                            OLS Regression Results                            \n",
      "==============================================================================\n",
      "Dep. Variable:        Reached_on_time   R-squared:                       0.183\n",
      "Model:                            OLS   Adj. R-squared:                  0.182\n",
      "Method:                 Least Squares   F-statistic:                     164.1\n",
      "Date:                Sat, 18 Sep 2021   Prob (F-statistic):               0.00\n",
      "Time:                        14:55:59   Log-Likelihood:                -6661.2\n",
      "No. Observations:               10999   AIC:                         1.335e+04\n",
      "Df Residuals:                   10983   BIC:                         1.347e+04\n",
      "Df Model:                          15                                         \n",
      "Covariance Type:            nonrobust                                         \n",
      "=============================================================================================\n",
      "                                coef    std err          t      P>|t|      [0.025      0.975]\n",
      "---------------------------------------------------------------------------------------------\n",
      "const                         0.0491      0.014      3.495      0.000       0.022       0.077\n",
      "Customer_care_calls           0.0245      0.004      5.875      0.000       0.016       0.033\n",
      "Customer_rating              -0.0053      0.003     -1.763      0.078      -0.011       0.001\n",
      "Cost_of_the_Product           0.0003   9.42e-05      3.159      0.002       0.000       0.000\n",
      "Prior_purchases               0.0152      0.003      5.263      0.000       0.010       0.021\n",
      "Discount_offered             -0.0095      0.000    -31.809      0.000      -0.010      -0.009\n",
      "Weight_in_gms              5.439e-05   3.06e-06     17.777      0.000    4.84e-05    6.04e-05\n",
      "Warehouse_block_A             0.0204      0.010      2.137      0.033       0.002       0.039\n",
      "Warehouse_block_B             0.0023      0.010      0.239      0.811      -0.017       0.021\n",
      "Warehouse_block_C             0.0097      0.010      1.004      0.315      -0.009       0.029\n",
      "Warehouse_block_D             0.0063      0.010      0.658      0.510      -0.013       0.025\n",
      "Warehouse_block_F             0.0105      0.008      1.371      0.171      -0.005       0.025\n",
      "Mode_of_Shipment_Flight       0.0099      0.009      1.049      0.294      -0.009       0.028\n",
      "Mode_of_Shipment_Road         0.0217      0.009      2.284      0.022       0.003       0.040\n",
      "Mode_of_Shipment_Ship         0.0176      0.007      2.415      0.016       0.003       0.032\n",
      "Product_importance_high      -0.0245      0.012     -2.090      0.037      -0.047      -0.002\n",
      "Product_importance_low        0.0383      0.008      4.994      0.000       0.023       0.053\n",
      "Product_importance_medium     0.0353      0.008      4.454      0.000       0.020       0.051\n",
      "Gender_F                      0.0290      0.008      3.536      0.000       0.013       0.045\n",
      "Gender_M                      0.0202      0.008      2.455      0.014       0.004       0.036\n",
      "==============================================================================\n",
      "Omnibus:                    50294.623   Durbin-Watson:                   1.935\n",
      "Prob(Omnibus):                  0.000   Jarque-Bera (JB):             1257.758\n",
      "Skew:                           0.011   Prob(JB):                    7.61e-274\n",
      "Kurtosis:                       1.344   Cond. No.                     3.93e+19\n",
      "==============================================================================\n",
      "\n",
      "Notes:\n",
      "[1] Standard Errors assume that the covariance matrix of the errors is correctly specified.\n",
      "[2] The smallest eigenvalue is 1.13e-28. This might indicate that there are\n",
      "strong multicollinearity problems or that the design matrix is singular.\n"
     ]
    }
   ],
   "source": [
    "fit_ols()"
   ]
  },
  {
   "cell_type": "markdown",
   "id": "796d7fe3",
   "metadata": {},
   "source": [
    "We see that after the first fit of the OLS model, there is only one feature that is not statistically significant (If we consider our signifcance level to be 95%), which is `Customer_rating`"
   ]
  },
  {
   "cell_type": "markdown",
   "id": "4c8944fa",
   "metadata": {},
   "source": [
    "### Stepwise Regression"
   ]
  },
  {
   "cell_type": "code",
   "execution_count": 14,
   "id": "24790d41",
   "metadata": {},
   "outputs": [
    {
     "name": "stdout",
     "output_type": "stream",
     "text": [
      "                            OLS Regression Results                            \n",
      "==============================================================================\n",
      "Dep. Variable:        Reached_on_time   R-squared:                       0.183\n",
      "Model:                            OLS   Adj. R-squared:                  0.182\n",
      "Method:                 Least Squares   F-statistic:                     175.6\n",
      "Date:                Sat, 18 Sep 2021   Prob (F-statistic):               0.00\n",
      "Time:                        14:55:59   Log-Likelihood:                -6662.7\n",
      "No. Observations:               10999   AIC:                         1.336e+04\n",
      "Df Residuals:                   10984   BIC:                         1.347e+04\n",
      "Df Model:                          14                                         \n",
      "Covariance Type:            nonrobust                                         \n",
      "=============================================================================================\n",
      "                                coef    std err          t      P>|t|      [0.025      0.975]\n",
      "---------------------------------------------------------------------------------------------\n",
      "const                         0.0428      0.014      3.147      0.002       0.016       0.069\n",
      "Customer_care_calls           0.0244      0.004      5.860      0.000       0.016       0.033\n",
      "Cost_of_the_Product           0.0003   9.42e-05      3.150      0.002       0.000       0.000\n",
      "Prior_purchases               0.0151      0.003      5.244      0.000       0.009       0.021\n",
      "Discount_offered             -0.0095      0.000    -31.808      0.000      -0.010      -0.009\n",
      "Weight_in_gms              5.438e-05   3.06e-06     17.771      0.000    4.84e-05    6.04e-05\n",
      "Warehouse_block_A             0.0193      0.010      2.025      0.043       0.001       0.038\n",
      "Warehouse_block_B             0.0011      0.010      0.112      0.911      -0.018       0.020\n",
      "Warehouse_block_C             0.0084      0.010      0.871      0.384      -0.010       0.027\n",
      "Warehouse_block_D             0.0049      0.010      0.512      0.609      -0.014       0.024\n",
      "Warehouse_block_F             0.0092      0.008      1.204      0.229      -0.006       0.024\n",
      "Mode_of_Shipment_Flight       0.0078      0.009      0.835      0.404      -0.011       0.026\n",
      "Mode_of_Shipment_Road         0.0195      0.009      2.074      0.038       0.001       0.038\n",
      "Mode_of_Shipment_Ship         0.0155      0.007      2.151      0.031       0.001       0.030\n",
      "Product_importance_high      -0.0266      0.012     -2.285      0.022      -0.049      -0.004\n",
      "Product_importance_low        0.0363      0.008      4.780      0.000       0.021       0.051\n",
      "Product_importance_medium     0.0331      0.008      4.233      0.000       0.018       0.048\n",
      "Gender_F                      0.0258      0.008      3.228      0.001       0.010       0.041\n",
      "Gender_M                      0.0170      0.008      2.117      0.034       0.001       0.033\n",
      "==============================================================================\n",
      "Omnibus:                    50217.310   Durbin-Watson:                   1.935\n",
      "Prob(Omnibus):                  0.000   Jarque-Bera (JB):             1259.577\n",
      "Skew:                           0.011   Prob(JB):                    3.06e-274\n",
      "Kurtosis:                       1.342   Cond. No.                     4.74e+19\n",
      "==============================================================================\n",
      "\n",
      "Notes:\n",
      "[1] Standard Errors assume that the covariance matrix of the errors is correctly specified.\n",
      "[2] The smallest eigenvalue is 7.8e-29. This might indicate that there are\n",
      "strong multicollinearity problems or that the design matrix is singular.\n"
     ]
    }
   ],
   "source": [
    "# We want to drop features that aren't statistically significant and fit the OLS model again\n",
    "X_cols.remove('Customer_rating')\n",
    "fit_ols()"
   ]
  },
  {
   "cell_type": "markdown",
   "id": "e473e3b2",
   "metadata": {},
   "source": [
    "## Few Takeaways: \n",
    "\n",
    "• `Customer_rating` is the only feature that does not have a statistically significant linear relationship to `Reached_on_time`. Other note: wouldn't it be interesting to predict `Customer_rating` instead? Shouldn't `Customer_rating` come after the order has been delivered if we're thinking chronologically?\n",
    "\n",
    "• `Warehouse_block_A` has a statistically significant linear relationship to `Reached_on_time`, but the rest of the warehouse blocks do not\n",
    "\n",
    "• `Mode_of_Shipment_Flight` is not statistically significant, whereas `Mode_of_Shipment_Road` and `Mode_of_Shipment_Ship` are statistically significant"
   ]
  },
  {
   "cell_type": "markdown",
   "id": "818bcd98",
   "metadata": {},
   "source": [
    "# Randomized Split"
   ]
  },
  {
   "cell_type": "code",
   "execution_count": 15,
   "id": "736e0ffc",
   "metadata": {},
   "outputs": [],
   "source": [
    "# Based on OLS modeling, we'll drop `Customer_rating` as a feature\n",
    "X_drop_rating = df.drop(columns=[\"Reached_on_time\", \"Customer_rating\"])"
   ]
  },
  {
   "cell_type": "code",
   "execution_count": 16,
   "id": "836b3238",
   "metadata": {},
   "outputs": [],
   "source": [
    "# Split X & y into training and testing data\n",
    "X_train, X_test, y_train, y_test = train_test_split(X_drop_rating, y, test_size=0.2, random_state=42)"
   ]
  },
  {
   "cell_type": "markdown",
   "id": "68c65886",
   "metadata": {},
   "source": [
    "# Build Model"
   ]
  },
  {
   "cell_type": "code",
   "execution_count": 17,
   "id": "fb87e307",
   "metadata": {
    "scrolled": true
   },
   "outputs": [
    {
     "name": "stderr",
     "output_type": "stream",
     "text": [
      "/Users/andrewlee/.local/share/virtualenvs/shipping-dashboard-0qStpExL/lib/python3.9/site-packages/category_encoders/utils.py:21: FutureWarning: is_categorical is deprecated and will be removed in a future version.  Use is_categorical_dtype instead\n",
      "  elif pd.api.types.is_categorical(cols):\n"
     ]
    },
    {
     "data": {
      "text/plain": [
       "Pipeline(steps=[('onehotencoder',\n",
       "                 OneHotEncoder(cols=['Warehouse_block', 'Mode_of_Shipment',\n",
       "                                     'Product_importance', 'Gender'],\n",
       "                               use_cat_names=True)),\n",
       "                ('standardscaler', StandardScaler()),\n",
       "                ('logisticregression', LogisticRegression())])"
      ]
     },
     "execution_count": 17,
     "metadata": {},
     "output_type": "execute_result"
    }
   ],
   "source": [
    "# Logistic Regression\n",
    "model_lr = make_pipeline(\n",
    "    OneHotEncoder(use_cat_names=True),\n",
    "    StandardScaler(),\n",
    "    LogisticRegression()\n",
    ")\n",
    "\n",
    "model_lr.fit(X_train, y_train)"
   ]
  },
  {
   "cell_type": "code",
   "execution_count": 18,
   "id": "5039046f",
   "metadata": {
    "scrolled": true
   },
   "outputs": [
    {
     "data": {
      "text/plain": [
       "Pipeline(steps=[('ordinalencoder',\n",
       "                 OrdinalEncoder(cols=['Warehouse_block', 'Mode_of_Shipment',\n",
       "                                      'Product_importance', 'Gender'],\n",
       "                                mapping=[{'col': 'Warehouse_block',\n",
       "                                          'data_type': dtype('O'),\n",
       "                                          'mapping': F      1\n",
       "A      2\n",
       "D      3\n",
       "C      4\n",
       "B      5\n",
       "NaN   -2\n",
       "dtype: int64},\n",
       "                                         {'col': 'Mode_of_Shipment',\n",
       "                                          'data_type': dtype('O'),\n",
       "                                          'mapping': Ship      1\n",
       "Flight    2\n",
       "Road      3\n",
       "NaN      -2\n",
       "dtype: int64},\n",
       "                                         {'col': 'Product_importance',\n",
       "                                          'data_type': dtype('O'),\n",
       "                                          'mapping': low       1\n",
       "medium    2\n",
       "high      3\n",
       "NaN      -2\n",
       "dtype: int64},\n",
       "                                         {'col': 'Gender',\n",
       "                                          'data_type': dtype('O'),\n",
       "                                          'mapping': F      1\n",
       "M      2\n",
       "NaN   -2\n",
       "dtype: int64}])),\n",
       "                ('standardscaler', StandardScaler()),\n",
       "                ('randomforestclassifier',\n",
       "                 RandomForestClassifier(random_state=42))])"
      ]
     },
     "execution_count": 18,
     "metadata": {},
     "output_type": "execute_result"
    }
   ],
   "source": [
    "# Random Forest Classifier\n",
    "model_rfc = make_pipeline(\n",
    "    OrdinalEncoder(),\n",
    "    StandardScaler(),\n",
    "    RandomForestClassifier(random_state=42)\n",
    ")\n",
    "\n",
    "model_rfc.fit(X_train, y_train)"
   ]
  },
  {
   "cell_type": "code",
   "execution_count": 19,
   "id": "67de64c2",
   "metadata": {
    "scrolled": true
   },
   "outputs": [
    {
     "data": {
      "text/plain": [
       "Pipeline(steps=[('ordinalencoder',\n",
       "                 OrdinalEncoder(cols=['Warehouse_block', 'Mode_of_Shipment',\n",
       "                                      'Product_importance', 'Gender'],\n",
       "                                mapping=[{'col': 'Warehouse_block',\n",
       "                                          'data_type': dtype('O'),\n",
       "                                          'mapping': F      1\n",
       "A      2\n",
       "D      3\n",
       "C      4\n",
       "B      5\n",
       "NaN   -2\n",
       "dtype: int64},\n",
       "                                         {'col': 'Mode_of_Shipment',\n",
       "                                          'data_type': dtype('O'),\n",
       "                                          'mapping': Ship      1\n",
       "Flight    2\n",
       "Road      3\n",
       "NaN      -2\n",
       "dtype: int64},\n",
       "                                         {'col': 'Product_importance',\n",
       "                                          'data_type': dtype('O'),\n",
       "                                          'mapping': low       1\n",
       "medium    2\n",
       "high      3\n",
       "NaN      -2\n",
       "dtype: int64},\n",
       "                                         {'col': 'Gender',\n",
       "                                          'data_type': dtype('O'),\n",
       "                                          'mapping': F      1\n",
       "M      2\n",
       "NaN   -2\n",
       "dtype: int64}])),\n",
       "                ('standardscaler', StandardScaler()),\n",
       "                ('gradientboostingclassifier',\n",
       "                 GradientBoostingClassifier(random_state=42))])"
      ]
     },
     "execution_count": 19,
     "metadata": {},
     "output_type": "execute_result"
    }
   ],
   "source": [
    "# Gradient Boosting Classifier\n",
    "model_gbc = make_pipeline(\n",
    "    OrdinalEncoder(),\n",
    "    StandardScaler(),\n",
    "    GradientBoostingClassifier(random_state=42)\n",
    ")\n",
    "\n",
    "model_gbc.fit(X_train, y_train)"
   ]
  },
  {
   "cell_type": "markdown",
   "id": "11c37856",
   "metadata": {},
   "source": [
    "# Check Metrics"
   ]
  },
  {
   "cell_type": "code",
   "execution_count": 20,
   "id": "2b0cec25",
   "metadata": {},
   "outputs": [
    {
     "name": "stdout",
     "output_type": "stream",
     "text": [
      "Logistic Regression Accuracy (Train):  0.6397317877031481\n",
      "Logistic Regression Accuracy (Test):  0.6427272727272727\n"
     ]
    }
   ],
   "source": [
    "# Out of the box score\n",
    "print(\"Logistic Regression Accuracy (Train): \", model_lr.score(X_train, y_train))\n",
    "print(\"Logistic Regression Accuracy (Test): \", model_lr.score(X_test, y_test))"
   ]
  },
  {
   "cell_type": "code",
   "execution_count": 21,
   "id": "1063c3ee",
   "metadata": {},
   "outputs": [
    {
     "name": "stdout",
     "output_type": "stream",
     "text": [
      "Random Forest Accuracy (Train):  1.0\n",
      "Random Forest Accuracy (Test):  0.6595454545454545\n"
     ]
    }
   ],
   "source": [
    "# Out of the box score\n",
    "print(\"Random Forest Accuracy (Train): \", model_rfc.score(X_train, y_train))\n",
    "print(\"Random Forest Accuracy (Test): \", model_rfc.score(X_test, y_test))"
   ]
  },
  {
   "cell_type": "code",
   "execution_count": 22,
   "id": "8f597451",
   "metadata": {},
   "outputs": [
    {
     "name": "stdout",
     "output_type": "stream",
     "text": [
      "Gradient Boosting Accuracy (Train):  0.7132628707807706\n",
      "Gradient Boosting Accuracy (Test):  0.6854545454545454\n"
     ]
    }
   ],
   "source": [
    "# Out of the box score\n",
    "print(\"Gradient Boosting Accuracy (Train): \", model_gbc.score(X_train, y_train))\n",
    "print(\"Gradient Boosting Accuracy (Test): \", model_gbc.score(X_test, y_test))"
   ]
  },
  {
   "cell_type": "markdown",
   "id": "7ad23a9f",
   "metadata": {},
   "source": [
    "# Tune Parameters"
   ]
  },
  {
   "cell_type": "code",
   "execution_count": 23,
   "id": "a886d468",
   "metadata": {},
   "outputs": [],
   "source": [
    "# List of hyperparameters to tune\n",
    "param_grid = {\n",
    "    \"gradientboostingclassifier__loss\": [\"deviance\", \"exponential\"],\n",
    "    \"gradientboostingclassifier__n_estimators\": [100, 200, 300],\n",
    "    \"gradientboostingclassifier__criterion\": [\"friedman_mse\", \"mse\"],\n",
    "    \"gradientboostingclassifier__max_depth\": [3, 5, 8, 10]\n",
    "}"
   ]
  },
  {
   "cell_type": "markdown",
   "id": "0fe6d936",
   "metadata": {},
   "source": [
    "### GridSearchCV"
   ]
  },
  {
   "cell_type": "code",
   "execution_count": 24,
   "id": "7a68a92a",
   "metadata": {
    "scrolled": true
   },
   "outputs": [
    {
     "name": "stdout",
     "output_type": "stream",
     "text": [
      "Fitting 3 folds for each of 48 candidates, totalling 144 fits\n"
     ]
    },
    {
     "name": "stderr",
     "output_type": "stream",
     "text": [
      "/Users/andrewlee/.local/share/virtualenvs/shipping-dashboard-0qStpExL/lib/python3.9/site-packages/category_encoders/utils.py:21: FutureWarning: is_categorical is deprecated and will be removed in a future version.  Use is_categorical_dtype instead\n",
      "  elif pd.api.types.is_categorical(cols):\n",
      "/Users/andrewlee/.local/share/virtualenvs/shipping-dashboard-0qStpExL/lib/python3.9/site-packages/category_encoders/utils.py:21: FutureWarning: is_categorical is deprecated and will be removed in a future version.  Use is_categorical_dtype instead\n",
      "  elif pd.api.types.is_categorical(cols):\n",
      "/Users/andrewlee/.local/share/virtualenvs/shipping-dashboard-0qStpExL/lib/python3.9/site-packages/category_encoders/utils.py:21: FutureWarning: is_categorical is deprecated and will be removed in a future version.  Use is_categorical_dtype instead\n",
      "  elif pd.api.types.is_categorical(cols):\n",
      "/Users/andrewlee/.local/share/virtualenvs/shipping-dashboard-0qStpExL/lib/python3.9/site-packages/category_encoders/utils.py:21: FutureWarning: is_categorical is deprecated and will be removed in a future version.  Use is_categorical_dtype instead\n",
      "  elif pd.api.types.is_categorical(cols):\n",
      "/Users/andrewlee/.local/share/virtualenvs/shipping-dashboard-0qStpExL/lib/python3.9/site-packages/category_encoders/utils.py:21: FutureWarning: is_categorical is deprecated and will be removed in a future version.  Use is_categorical_dtype instead\n",
      "  elif pd.api.types.is_categorical(cols):\n",
      "/Users/andrewlee/.local/share/virtualenvs/shipping-dashboard-0qStpExL/lib/python3.9/site-packages/category_encoders/utils.py:21: FutureWarning: is_categorical is deprecated and will be removed in a future version.  Use is_categorical_dtype instead\n",
      "  elif pd.api.types.is_categorical(cols):\n",
      "/Users/andrewlee/.local/share/virtualenvs/shipping-dashboard-0qStpExL/lib/python3.9/site-packages/category_encoders/utils.py:21: FutureWarning: is_categorical is deprecated and will be removed in a future version.  Use is_categorical_dtype instead\n",
      "  elif pd.api.types.is_categorical(cols):\n",
      "/Users/andrewlee/.local/share/virtualenvs/shipping-dashboard-0qStpExL/lib/python3.9/site-packages/category_encoders/utils.py:21: FutureWarning: is_categorical is deprecated and will be removed in a future version.  Use is_categorical_dtype instead\n",
      "  elif pd.api.types.is_categorical(cols):\n",
      "/Users/andrewlee/.local/share/virtualenvs/shipping-dashboard-0qStpExL/lib/python3.9/site-packages/category_encoders/utils.py:21: FutureWarning: is_categorical is deprecated and will be removed in a future version.  Use is_categorical_dtype instead\n",
      "  elif pd.api.types.is_categorical(cols):\n",
      "/Users/andrewlee/.local/share/virtualenvs/shipping-dashboard-0qStpExL/lib/python3.9/site-packages/category_encoders/utils.py:21: FutureWarning: is_categorical is deprecated and will be removed in a future version.  Use is_categorical_dtype instead\n",
      "  elif pd.api.types.is_categorical(cols):\n",
      "/Users/andrewlee/.local/share/virtualenvs/shipping-dashboard-0qStpExL/lib/python3.9/site-packages/category_encoders/utils.py:21: FutureWarning: is_categorical is deprecated and will be removed in a future version.  Use is_categorical_dtype instead\n",
      "  elif pd.api.types.is_categorical(cols):\n",
      "/Users/andrewlee/.local/share/virtualenvs/shipping-dashboard-0qStpExL/lib/python3.9/site-packages/category_encoders/utils.py:21: FutureWarning: is_categorical is deprecated and will be removed in a future version.  Use is_categorical_dtype instead\n",
      "  elif pd.api.types.is_categorical(cols):\n",
      "/Users/andrewlee/.local/share/virtualenvs/shipping-dashboard-0qStpExL/lib/python3.9/site-packages/category_encoders/utils.py:21: FutureWarning: is_categorical is deprecated and will be removed in a future version.  Use is_categorical_dtype instead\n",
      "  elif pd.api.types.is_categorical(cols):\n",
      "/Users/andrewlee/.local/share/virtualenvs/shipping-dashboard-0qStpExL/lib/python3.9/site-packages/category_encoders/utils.py:21: FutureWarning: is_categorical is deprecated and will be removed in a future version.  Use is_categorical_dtype instead\n",
      "  elif pd.api.types.is_categorical(cols):\n",
      "/Users/andrewlee/.local/share/virtualenvs/shipping-dashboard-0qStpExL/lib/python3.9/site-packages/category_encoders/utils.py:21: FutureWarning: is_categorical is deprecated and will be removed in a future version.  Use is_categorical_dtype instead\n",
      "  elif pd.api.types.is_categorical(cols):\n",
      "/Users/andrewlee/.local/share/virtualenvs/shipping-dashboard-0qStpExL/lib/python3.9/site-packages/category_encoders/utils.py:21: FutureWarning: is_categorical is deprecated and will be removed in a future version.  Use is_categorical_dtype instead\n",
      "  elif pd.api.types.is_categorical(cols):\n",
      "/Users/andrewlee/.local/share/virtualenvs/shipping-dashboard-0qStpExL/lib/python3.9/site-packages/category_encoders/utils.py:21: FutureWarning: is_categorical is deprecated and will be removed in a future version.  Use is_categorical_dtype instead\n",
      "  elif pd.api.types.is_categorical(cols):\n",
      "/Users/andrewlee/.local/share/virtualenvs/shipping-dashboard-0qStpExL/lib/python3.9/site-packages/category_encoders/utils.py:21: FutureWarning: is_categorical is deprecated and will be removed in a future version.  Use is_categorical_dtype instead\n",
      "  elif pd.api.types.is_categorical(cols):\n",
      "/Users/andrewlee/.local/share/virtualenvs/shipping-dashboard-0qStpExL/lib/python3.9/site-packages/category_encoders/utils.py:21: FutureWarning: is_categorical is deprecated and will be removed in a future version.  Use is_categorical_dtype instead\n",
      "  elif pd.api.types.is_categorical(cols):\n",
      "/Users/andrewlee/.local/share/virtualenvs/shipping-dashboard-0qStpExL/lib/python3.9/site-packages/category_encoders/utils.py:21: FutureWarning: is_categorical is deprecated and will be removed in a future version.  Use is_categorical_dtype instead\n",
      "  elif pd.api.types.is_categorical(cols):\n",
      "/Users/andrewlee/.local/share/virtualenvs/shipping-dashboard-0qStpExL/lib/python3.9/site-packages/category_encoders/utils.py:21: FutureWarning: is_categorical is deprecated and will be removed in a future version.  Use is_categorical_dtype instead\n",
      "  elif pd.api.types.is_categorical(cols):\n",
      "/Users/andrewlee/.local/share/virtualenvs/shipping-dashboard-0qStpExL/lib/python3.9/site-packages/category_encoders/utils.py:21: FutureWarning: is_categorical is deprecated and will be removed in a future version.  Use is_categorical_dtype instead\n",
      "  elif pd.api.types.is_categorical(cols):\n",
      "/Users/andrewlee/.local/share/virtualenvs/shipping-dashboard-0qStpExL/lib/python3.9/site-packages/category_encoders/utils.py:21: FutureWarning: is_categorical is deprecated and will be removed in a future version.  Use is_categorical_dtype instead\n",
      "  elif pd.api.types.is_categorical(cols):\n",
      "/Users/andrewlee/.local/share/virtualenvs/shipping-dashboard-0qStpExL/lib/python3.9/site-packages/category_encoders/utils.py:21: FutureWarning: is_categorical is deprecated and will be removed in a future version.  Use is_categorical_dtype instead\n",
      "  elif pd.api.types.is_categorical(cols):\n",
      "/Users/andrewlee/.local/share/virtualenvs/shipping-dashboard-0qStpExL/lib/python3.9/site-packages/category_encoders/utils.py:21: FutureWarning: is_categorical is deprecated and will be removed in a future version.  Use is_categorical_dtype instead\n",
      "  elif pd.api.types.is_categorical(cols):\n",
      "/Users/andrewlee/.local/share/virtualenvs/shipping-dashboard-0qStpExL/lib/python3.9/site-packages/category_encoders/utils.py:21: FutureWarning: is_categorical is deprecated and will be removed in a future version.  Use is_categorical_dtype instead\n",
      "  elif pd.api.types.is_categorical(cols):\n",
      "/Users/andrewlee/.local/share/virtualenvs/shipping-dashboard-0qStpExL/lib/python3.9/site-packages/category_encoders/utils.py:21: FutureWarning: is_categorical is deprecated and will be removed in a future version.  Use is_categorical_dtype instead\n",
      "  elif pd.api.types.is_categorical(cols):\n",
      "/Users/andrewlee/.local/share/virtualenvs/shipping-dashboard-0qStpExL/lib/python3.9/site-packages/category_encoders/utils.py:21: FutureWarning: is_categorical is deprecated and will be removed in a future version.  Use is_categorical_dtype instead\n",
      "  elif pd.api.types.is_categorical(cols):\n",
      "/Users/andrewlee/.local/share/virtualenvs/shipping-dashboard-0qStpExL/lib/python3.9/site-packages/category_encoders/utils.py:21: FutureWarning: is_categorical is deprecated and will be removed in a future version.  Use is_categorical_dtype instead\n",
      "  elif pd.api.types.is_categorical(cols):\n"
     ]
    },
    {
     "name": "stderr",
     "output_type": "stream",
     "text": [
      "/Users/andrewlee/.local/share/virtualenvs/shipping-dashboard-0qStpExL/lib/python3.9/site-packages/category_encoders/utils.py:21: FutureWarning: is_categorical is deprecated and will be removed in a future version.  Use is_categorical_dtype instead\n",
      "  elif pd.api.types.is_categorical(cols):\n",
      "/Users/andrewlee/.local/share/virtualenvs/shipping-dashboard-0qStpExL/lib/python3.9/site-packages/category_encoders/utils.py:21: FutureWarning: is_categorical is deprecated and will be removed in a future version.  Use is_categorical_dtype instead\n",
      "  elif pd.api.types.is_categorical(cols):\n",
      "/Users/andrewlee/.local/share/virtualenvs/shipping-dashboard-0qStpExL/lib/python3.9/site-packages/category_encoders/utils.py:21: FutureWarning: is_categorical is deprecated and will be removed in a future version.  Use is_categorical_dtype instead\n",
      "  elif pd.api.types.is_categorical(cols):\n",
      "/Users/andrewlee/.local/share/virtualenvs/shipping-dashboard-0qStpExL/lib/python3.9/site-packages/category_encoders/utils.py:21: FutureWarning: is_categorical is deprecated and will be removed in a future version.  Use is_categorical_dtype instead\n",
      "  elif pd.api.types.is_categorical(cols):\n",
      "/Users/andrewlee/.local/share/virtualenvs/shipping-dashboard-0qStpExL/lib/python3.9/site-packages/category_encoders/utils.py:21: FutureWarning: is_categorical is deprecated and will be removed in a future version.  Use is_categorical_dtype instead\n",
      "  elif pd.api.types.is_categorical(cols):\n",
      "/Users/andrewlee/.local/share/virtualenvs/shipping-dashboard-0qStpExL/lib/python3.9/site-packages/category_encoders/utils.py:21: FutureWarning: is_categorical is deprecated and will be removed in a future version.  Use is_categorical_dtype instead\n",
      "  elif pd.api.types.is_categorical(cols):\n",
      "/Users/andrewlee/.local/share/virtualenvs/shipping-dashboard-0qStpExL/lib/python3.9/site-packages/category_encoders/utils.py:21: FutureWarning: is_categorical is deprecated and will be removed in a future version.  Use is_categorical_dtype instead\n",
      "  elif pd.api.types.is_categorical(cols):\n",
      "/Users/andrewlee/.local/share/virtualenvs/shipping-dashboard-0qStpExL/lib/python3.9/site-packages/category_encoders/utils.py:21: FutureWarning: is_categorical is deprecated and will be removed in a future version.  Use is_categorical_dtype instead\n",
      "  elif pd.api.types.is_categorical(cols):\n",
      "/Users/andrewlee/.local/share/virtualenvs/shipping-dashboard-0qStpExL/lib/python3.9/site-packages/category_encoders/utils.py:21: FutureWarning: is_categorical is deprecated and will be removed in a future version.  Use is_categorical_dtype instead\n",
      "  elif pd.api.types.is_categorical(cols):\n",
      "/Users/andrewlee/.local/share/virtualenvs/shipping-dashboard-0qStpExL/lib/python3.9/site-packages/category_encoders/utils.py:21: FutureWarning: is_categorical is deprecated and will be removed in a future version.  Use is_categorical_dtype instead\n",
      "  elif pd.api.types.is_categorical(cols):\n",
      "/Users/andrewlee/.local/share/virtualenvs/shipping-dashboard-0qStpExL/lib/python3.9/site-packages/category_encoders/utils.py:21: FutureWarning: is_categorical is deprecated and will be removed in a future version.  Use is_categorical_dtype instead\n",
      "  elif pd.api.types.is_categorical(cols):\n",
      "/Users/andrewlee/.local/share/virtualenvs/shipping-dashboard-0qStpExL/lib/python3.9/site-packages/category_encoders/utils.py:21: FutureWarning: is_categorical is deprecated and will be removed in a future version.  Use is_categorical_dtype instead\n",
      "  elif pd.api.types.is_categorical(cols):\n",
      "/Users/andrewlee/.local/share/virtualenvs/shipping-dashboard-0qStpExL/lib/python3.9/site-packages/category_encoders/utils.py:21: FutureWarning: is_categorical is deprecated and will be removed in a future version.  Use is_categorical_dtype instead\n",
      "  elif pd.api.types.is_categorical(cols):\n",
      "/Users/andrewlee/.local/share/virtualenvs/shipping-dashboard-0qStpExL/lib/python3.9/site-packages/category_encoders/utils.py:21: FutureWarning: is_categorical is deprecated and will be removed in a future version.  Use is_categorical_dtype instead\n",
      "  elif pd.api.types.is_categorical(cols):\n",
      "/Users/andrewlee/.local/share/virtualenvs/shipping-dashboard-0qStpExL/lib/python3.9/site-packages/category_encoders/utils.py:21: FutureWarning: is_categorical is deprecated and will be removed in a future version.  Use is_categorical_dtype instead\n",
      "  elif pd.api.types.is_categorical(cols):\n",
      "/Users/andrewlee/.local/share/virtualenvs/shipping-dashboard-0qStpExL/lib/python3.9/site-packages/category_encoders/utils.py:21: FutureWarning: is_categorical is deprecated and will be removed in a future version.  Use is_categorical_dtype instead\n",
      "  elif pd.api.types.is_categorical(cols):\n",
      "/Users/andrewlee/.local/share/virtualenvs/shipping-dashboard-0qStpExL/lib/python3.9/site-packages/category_encoders/utils.py:21: FutureWarning: is_categorical is deprecated and will be removed in a future version.  Use is_categorical_dtype instead\n",
      "  elif pd.api.types.is_categorical(cols):\n",
      "/Users/andrewlee/.local/share/virtualenvs/shipping-dashboard-0qStpExL/lib/python3.9/site-packages/category_encoders/utils.py:21: FutureWarning: is_categorical is deprecated and will be removed in a future version.  Use is_categorical_dtype instead\n",
      "  elif pd.api.types.is_categorical(cols):\n",
      "/Users/andrewlee/.local/share/virtualenvs/shipping-dashboard-0qStpExL/lib/python3.9/site-packages/category_encoders/utils.py:21: FutureWarning: is_categorical is deprecated and will be removed in a future version.  Use is_categorical_dtype instead\n",
      "  elif pd.api.types.is_categorical(cols):\n",
      "/Users/andrewlee/.local/share/virtualenvs/shipping-dashboard-0qStpExL/lib/python3.9/site-packages/category_encoders/utils.py:21: FutureWarning: is_categorical is deprecated and will be removed in a future version.  Use is_categorical_dtype instead\n",
      "  elif pd.api.types.is_categorical(cols):\n",
      "/Users/andrewlee/.local/share/virtualenvs/shipping-dashboard-0qStpExL/lib/python3.9/site-packages/category_encoders/utils.py:21: FutureWarning: is_categorical is deprecated and will be removed in a future version.  Use is_categorical_dtype instead\n",
      "  elif pd.api.types.is_categorical(cols):\n",
      "/Users/andrewlee/.local/share/virtualenvs/shipping-dashboard-0qStpExL/lib/python3.9/site-packages/category_encoders/utils.py:21: FutureWarning: is_categorical is deprecated and will be removed in a future version.  Use is_categorical_dtype instead\n",
      "  elif pd.api.types.is_categorical(cols):\n",
      "/Users/andrewlee/.local/share/virtualenvs/shipping-dashboard-0qStpExL/lib/python3.9/site-packages/category_encoders/utils.py:21: FutureWarning: is_categorical is deprecated and will be removed in a future version.  Use is_categorical_dtype instead\n",
      "  elif pd.api.types.is_categorical(cols):\n",
      "/Users/andrewlee/.local/share/virtualenvs/shipping-dashboard-0qStpExL/lib/python3.9/site-packages/category_encoders/utils.py:21: FutureWarning: is_categorical is deprecated and will be removed in a future version.  Use is_categorical_dtype instead\n",
      "  elif pd.api.types.is_categorical(cols):\n",
      "/Users/andrewlee/.local/share/virtualenvs/shipping-dashboard-0qStpExL/lib/python3.9/site-packages/category_encoders/utils.py:21: FutureWarning: is_categorical is deprecated and will be removed in a future version.  Use is_categorical_dtype instead\n",
      "  elif pd.api.types.is_categorical(cols):\n",
      "/Users/andrewlee/.local/share/virtualenvs/shipping-dashboard-0qStpExL/lib/python3.9/site-packages/category_encoders/utils.py:21: FutureWarning: is_categorical is deprecated and will be removed in a future version.  Use is_categorical_dtype instead\n",
      "  elif pd.api.types.is_categorical(cols):\n",
      "/Users/andrewlee/.local/share/virtualenvs/shipping-dashboard-0qStpExL/lib/python3.9/site-packages/category_encoders/utils.py:21: FutureWarning: is_categorical is deprecated and will be removed in a future version.  Use is_categorical_dtype instead\n",
      "  elif pd.api.types.is_categorical(cols):\n",
      "/Users/andrewlee/.local/share/virtualenvs/shipping-dashboard-0qStpExL/lib/python3.9/site-packages/category_encoders/utils.py:21: FutureWarning: is_categorical is deprecated and will be removed in a future version.  Use is_categorical_dtype instead\n",
      "  elif pd.api.types.is_categorical(cols):\n",
      "/Users/andrewlee/.local/share/virtualenvs/shipping-dashboard-0qStpExL/lib/python3.9/site-packages/category_encoders/utils.py:21: FutureWarning: is_categorical is deprecated and will be removed in a future version.  Use is_categorical_dtype instead\n",
      "  elif pd.api.types.is_categorical(cols):\n",
      "/Users/andrewlee/.local/share/virtualenvs/shipping-dashboard-0qStpExL/lib/python3.9/site-packages/category_encoders/utils.py:21: FutureWarning: is_categorical is deprecated and will be removed in a future version.  Use is_categorical_dtype instead\n",
      "  elif pd.api.types.is_categorical(cols):\n"
     ]
    },
    {
     "name": "stderr",
     "output_type": "stream",
     "text": [
      "/Users/andrewlee/.local/share/virtualenvs/shipping-dashboard-0qStpExL/lib/python3.9/site-packages/category_encoders/utils.py:21: FutureWarning: is_categorical is deprecated and will be removed in a future version.  Use is_categorical_dtype instead\n",
      "  elif pd.api.types.is_categorical(cols):\n",
      "/Users/andrewlee/.local/share/virtualenvs/shipping-dashboard-0qStpExL/lib/python3.9/site-packages/category_encoders/utils.py:21: FutureWarning: is_categorical is deprecated and will be removed in a future version.  Use is_categorical_dtype instead\n",
      "  elif pd.api.types.is_categorical(cols):\n",
      "/Users/andrewlee/.local/share/virtualenvs/shipping-dashboard-0qStpExL/lib/python3.9/site-packages/category_encoders/utils.py:21: FutureWarning: is_categorical is deprecated and will be removed in a future version.  Use is_categorical_dtype instead\n",
      "  elif pd.api.types.is_categorical(cols):\n",
      "/Users/andrewlee/.local/share/virtualenvs/shipping-dashboard-0qStpExL/lib/python3.9/site-packages/category_encoders/utils.py:21: FutureWarning: is_categorical is deprecated and will be removed in a future version.  Use is_categorical_dtype instead\n",
      "  elif pd.api.types.is_categorical(cols):\n",
      "/Users/andrewlee/.local/share/virtualenvs/shipping-dashboard-0qStpExL/lib/python3.9/site-packages/category_encoders/utils.py:21: FutureWarning: is_categorical is deprecated and will be removed in a future version.  Use is_categorical_dtype instead\n",
      "  elif pd.api.types.is_categorical(cols):\n",
      "/Users/andrewlee/.local/share/virtualenvs/shipping-dashboard-0qStpExL/lib/python3.9/site-packages/category_encoders/utils.py:21: FutureWarning: is_categorical is deprecated and will be removed in a future version.  Use is_categorical_dtype instead\n",
      "  elif pd.api.types.is_categorical(cols):\n",
      "/Users/andrewlee/.local/share/virtualenvs/shipping-dashboard-0qStpExL/lib/python3.9/site-packages/category_encoders/utils.py:21: FutureWarning: is_categorical is deprecated and will be removed in a future version.  Use is_categorical_dtype instead\n",
      "  elif pd.api.types.is_categorical(cols):\n",
      "/Users/andrewlee/.local/share/virtualenvs/shipping-dashboard-0qStpExL/lib/python3.9/site-packages/category_encoders/utils.py:21: FutureWarning: is_categorical is deprecated and will be removed in a future version.  Use is_categorical_dtype instead\n",
      "  elif pd.api.types.is_categorical(cols):\n",
      "/Users/andrewlee/.local/share/virtualenvs/shipping-dashboard-0qStpExL/lib/python3.9/site-packages/category_encoders/utils.py:21: FutureWarning: is_categorical is deprecated and will be removed in a future version.  Use is_categorical_dtype instead\n",
      "  elif pd.api.types.is_categorical(cols):\n",
      "/Users/andrewlee/.local/share/virtualenvs/shipping-dashboard-0qStpExL/lib/python3.9/site-packages/category_encoders/utils.py:21: FutureWarning: is_categorical is deprecated and will be removed in a future version.  Use is_categorical_dtype instead\n",
      "  elif pd.api.types.is_categorical(cols):\n",
      "/Users/andrewlee/.local/share/virtualenvs/shipping-dashboard-0qStpExL/lib/python3.9/site-packages/category_encoders/utils.py:21: FutureWarning: is_categorical is deprecated and will be removed in a future version.  Use is_categorical_dtype instead\n",
      "  elif pd.api.types.is_categorical(cols):\n",
      "/Users/andrewlee/.local/share/virtualenvs/shipping-dashboard-0qStpExL/lib/python3.9/site-packages/category_encoders/utils.py:21: FutureWarning: is_categorical is deprecated and will be removed in a future version.  Use is_categorical_dtype instead\n",
      "  elif pd.api.types.is_categorical(cols):\n",
      "/Users/andrewlee/.local/share/virtualenvs/shipping-dashboard-0qStpExL/lib/python3.9/site-packages/category_encoders/utils.py:21: FutureWarning: is_categorical is deprecated and will be removed in a future version.  Use is_categorical_dtype instead\n",
      "  elif pd.api.types.is_categorical(cols):\n",
      "/Users/andrewlee/.local/share/virtualenvs/shipping-dashboard-0qStpExL/lib/python3.9/site-packages/category_encoders/utils.py:21: FutureWarning: is_categorical is deprecated and will be removed in a future version.  Use is_categorical_dtype instead\n",
      "  elif pd.api.types.is_categorical(cols):\n",
      "/Users/andrewlee/.local/share/virtualenvs/shipping-dashboard-0qStpExL/lib/python3.9/site-packages/category_encoders/utils.py:21: FutureWarning: is_categorical is deprecated and will be removed in a future version.  Use is_categorical_dtype instead\n",
      "  elif pd.api.types.is_categorical(cols):\n",
      "/Users/andrewlee/.local/share/virtualenvs/shipping-dashboard-0qStpExL/lib/python3.9/site-packages/category_encoders/utils.py:21: FutureWarning: is_categorical is deprecated and will be removed in a future version.  Use is_categorical_dtype instead\n",
      "  elif pd.api.types.is_categorical(cols):\n",
      "/Users/andrewlee/.local/share/virtualenvs/shipping-dashboard-0qStpExL/lib/python3.9/site-packages/category_encoders/utils.py:21: FutureWarning: is_categorical is deprecated and will be removed in a future version.  Use is_categorical_dtype instead\n",
      "  elif pd.api.types.is_categorical(cols):\n",
      "/Users/andrewlee/.local/share/virtualenvs/shipping-dashboard-0qStpExL/lib/python3.9/site-packages/category_encoders/utils.py:21: FutureWarning: is_categorical is deprecated and will be removed in a future version.  Use is_categorical_dtype instead\n",
      "  elif pd.api.types.is_categorical(cols):\n",
      "/Users/andrewlee/.local/share/virtualenvs/shipping-dashboard-0qStpExL/lib/python3.9/site-packages/category_encoders/utils.py:21: FutureWarning: is_categorical is deprecated and will be removed in a future version.  Use is_categorical_dtype instead\n",
      "  elif pd.api.types.is_categorical(cols):\n",
      "/Users/andrewlee/.local/share/virtualenvs/shipping-dashboard-0qStpExL/lib/python3.9/site-packages/category_encoders/utils.py:21: FutureWarning: is_categorical is deprecated and will be removed in a future version.  Use is_categorical_dtype instead\n",
      "  elif pd.api.types.is_categorical(cols):\n",
      "/Users/andrewlee/.local/share/virtualenvs/shipping-dashboard-0qStpExL/lib/python3.9/site-packages/category_encoders/utils.py:21: FutureWarning: is_categorical is deprecated and will be removed in a future version.  Use is_categorical_dtype instead\n",
      "  elif pd.api.types.is_categorical(cols):\n",
      "/Users/andrewlee/.local/share/virtualenvs/shipping-dashboard-0qStpExL/lib/python3.9/site-packages/category_encoders/utils.py:21: FutureWarning: is_categorical is deprecated and will be removed in a future version.  Use is_categorical_dtype instead\n",
      "  elif pd.api.types.is_categorical(cols):\n",
      "/Users/andrewlee/.local/share/virtualenvs/shipping-dashboard-0qStpExL/lib/python3.9/site-packages/category_encoders/utils.py:21: FutureWarning: is_categorical is deprecated and will be removed in a future version.  Use is_categorical_dtype instead\n",
      "  elif pd.api.types.is_categorical(cols):\n",
      "/Users/andrewlee/.local/share/virtualenvs/shipping-dashboard-0qStpExL/lib/python3.9/site-packages/category_encoders/utils.py:21: FutureWarning: is_categorical is deprecated and will be removed in a future version.  Use is_categorical_dtype instead\n",
      "  elif pd.api.types.is_categorical(cols):\n",
      "/Users/andrewlee/.local/share/virtualenvs/shipping-dashboard-0qStpExL/lib/python3.9/site-packages/category_encoders/utils.py:21: FutureWarning: is_categorical is deprecated and will be removed in a future version.  Use is_categorical_dtype instead\n",
      "  elif pd.api.types.is_categorical(cols):\n",
      "/Users/andrewlee/.local/share/virtualenvs/shipping-dashboard-0qStpExL/lib/python3.9/site-packages/category_encoders/utils.py:21: FutureWarning: is_categorical is deprecated and will be removed in a future version.  Use is_categorical_dtype instead\n",
      "  elif pd.api.types.is_categorical(cols):\n",
      "/Users/andrewlee/.local/share/virtualenvs/shipping-dashboard-0qStpExL/lib/python3.9/site-packages/category_encoders/utils.py:21: FutureWarning: is_categorical is deprecated and will be removed in a future version.  Use is_categorical_dtype instead\n",
      "  elif pd.api.types.is_categorical(cols):\n",
      "/Users/andrewlee/.local/share/virtualenvs/shipping-dashboard-0qStpExL/lib/python3.9/site-packages/category_encoders/utils.py:21: FutureWarning: is_categorical is deprecated and will be removed in a future version.  Use is_categorical_dtype instead\n",
      "  elif pd.api.types.is_categorical(cols):\n",
      "/Users/andrewlee/.local/share/virtualenvs/shipping-dashboard-0qStpExL/lib/python3.9/site-packages/category_encoders/utils.py:21: FutureWarning: is_categorical is deprecated and will be removed in a future version.  Use is_categorical_dtype instead\n",
      "  elif pd.api.types.is_categorical(cols):\n"
     ]
    },
    {
     "name": "stderr",
     "output_type": "stream",
     "text": [
      "/Users/andrewlee/.local/share/virtualenvs/shipping-dashboard-0qStpExL/lib/python3.9/site-packages/category_encoders/utils.py:21: FutureWarning: is_categorical is deprecated and will be removed in a future version.  Use is_categorical_dtype instead\n",
      "  elif pd.api.types.is_categorical(cols):\n",
      "/Users/andrewlee/.local/share/virtualenvs/shipping-dashboard-0qStpExL/lib/python3.9/site-packages/category_encoders/utils.py:21: FutureWarning: is_categorical is deprecated and will be removed in a future version.  Use is_categorical_dtype instead\n",
      "  elif pd.api.types.is_categorical(cols):\n",
      "/Users/andrewlee/.local/share/virtualenvs/shipping-dashboard-0qStpExL/lib/python3.9/site-packages/category_encoders/utils.py:21: FutureWarning: is_categorical is deprecated and will be removed in a future version.  Use is_categorical_dtype instead\n",
      "  elif pd.api.types.is_categorical(cols):\n",
      "/Users/andrewlee/.local/share/virtualenvs/shipping-dashboard-0qStpExL/lib/python3.9/site-packages/category_encoders/utils.py:21: FutureWarning: is_categorical is deprecated and will be removed in a future version.  Use is_categorical_dtype instead\n",
      "  elif pd.api.types.is_categorical(cols):\n",
      "/Users/andrewlee/.local/share/virtualenvs/shipping-dashboard-0qStpExL/lib/python3.9/site-packages/category_encoders/utils.py:21: FutureWarning: is_categorical is deprecated and will be removed in a future version.  Use is_categorical_dtype instead\n",
      "  elif pd.api.types.is_categorical(cols):\n",
      "/Users/andrewlee/.local/share/virtualenvs/shipping-dashboard-0qStpExL/lib/python3.9/site-packages/category_encoders/utils.py:21: FutureWarning: is_categorical is deprecated and will be removed in a future version.  Use is_categorical_dtype instead\n",
      "  elif pd.api.types.is_categorical(cols):\n",
      "/Users/andrewlee/.local/share/virtualenvs/shipping-dashboard-0qStpExL/lib/python3.9/site-packages/category_encoders/utils.py:21: FutureWarning: is_categorical is deprecated and will be removed in a future version.  Use is_categorical_dtype instead\n",
      "  elif pd.api.types.is_categorical(cols):\n",
      "/Users/andrewlee/.local/share/virtualenvs/shipping-dashboard-0qStpExL/lib/python3.9/site-packages/category_encoders/utils.py:21: FutureWarning: is_categorical is deprecated and will be removed in a future version.  Use is_categorical_dtype instead\n",
      "  elif pd.api.types.is_categorical(cols):\n",
      "/Users/andrewlee/.local/share/virtualenvs/shipping-dashboard-0qStpExL/lib/python3.9/site-packages/category_encoders/utils.py:21: FutureWarning: is_categorical is deprecated and will be removed in a future version.  Use is_categorical_dtype instead\n",
      "  elif pd.api.types.is_categorical(cols):\n",
      "/Users/andrewlee/.local/share/virtualenvs/shipping-dashboard-0qStpExL/lib/python3.9/site-packages/category_encoders/utils.py:21: FutureWarning: is_categorical is deprecated and will be removed in a future version.  Use is_categorical_dtype instead\n",
      "  elif pd.api.types.is_categorical(cols):\n",
      "/Users/andrewlee/.local/share/virtualenvs/shipping-dashboard-0qStpExL/lib/python3.9/site-packages/category_encoders/utils.py:21: FutureWarning: is_categorical is deprecated and will be removed in a future version.  Use is_categorical_dtype instead\n",
      "  elif pd.api.types.is_categorical(cols):\n",
      "/Users/andrewlee/.local/share/virtualenvs/shipping-dashboard-0qStpExL/lib/python3.9/site-packages/category_encoders/utils.py:21: FutureWarning: is_categorical is deprecated and will be removed in a future version.  Use is_categorical_dtype instead\n",
      "  elif pd.api.types.is_categorical(cols):\n",
      "/Users/andrewlee/.local/share/virtualenvs/shipping-dashboard-0qStpExL/lib/python3.9/site-packages/category_encoders/utils.py:21: FutureWarning: is_categorical is deprecated and will be removed in a future version.  Use is_categorical_dtype instead\n",
      "  elif pd.api.types.is_categorical(cols):\n",
      "/Users/andrewlee/.local/share/virtualenvs/shipping-dashboard-0qStpExL/lib/python3.9/site-packages/category_encoders/utils.py:21: FutureWarning: is_categorical is deprecated and will be removed in a future version.  Use is_categorical_dtype instead\n",
      "  elif pd.api.types.is_categorical(cols):\n",
      "/Users/andrewlee/.local/share/virtualenvs/shipping-dashboard-0qStpExL/lib/python3.9/site-packages/category_encoders/utils.py:21: FutureWarning: is_categorical is deprecated and will be removed in a future version.  Use is_categorical_dtype instead\n",
      "  elif pd.api.types.is_categorical(cols):\n",
      "/Users/andrewlee/.local/share/virtualenvs/shipping-dashboard-0qStpExL/lib/python3.9/site-packages/category_encoders/utils.py:21: FutureWarning: is_categorical is deprecated and will be removed in a future version.  Use is_categorical_dtype instead\n",
      "  elif pd.api.types.is_categorical(cols):\n",
      "/Users/andrewlee/.local/share/virtualenvs/shipping-dashboard-0qStpExL/lib/python3.9/site-packages/category_encoders/utils.py:21: FutureWarning: is_categorical is deprecated and will be removed in a future version.  Use is_categorical_dtype instead\n",
      "  elif pd.api.types.is_categorical(cols):\n",
      "/Users/andrewlee/.local/share/virtualenvs/shipping-dashboard-0qStpExL/lib/python3.9/site-packages/category_encoders/utils.py:21: FutureWarning: is_categorical is deprecated and will be removed in a future version.  Use is_categorical_dtype instead\n",
      "  elif pd.api.types.is_categorical(cols):\n",
      "/Users/andrewlee/.local/share/virtualenvs/shipping-dashboard-0qStpExL/lib/python3.9/site-packages/category_encoders/utils.py:21: FutureWarning: is_categorical is deprecated and will be removed in a future version.  Use is_categorical_dtype instead\n",
      "  elif pd.api.types.is_categorical(cols):\n",
      "/Users/andrewlee/.local/share/virtualenvs/shipping-dashboard-0qStpExL/lib/python3.9/site-packages/category_encoders/utils.py:21: FutureWarning: is_categorical is deprecated and will be removed in a future version.  Use is_categorical_dtype instead\n",
      "  elif pd.api.types.is_categorical(cols):\n",
      "/Users/andrewlee/.local/share/virtualenvs/shipping-dashboard-0qStpExL/lib/python3.9/site-packages/category_encoders/utils.py:21: FutureWarning: is_categorical is deprecated and will be removed in a future version.  Use is_categorical_dtype instead\n",
      "  elif pd.api.types.is_categorical(cols):\n",
      "/Users/andrewlee/.local/share/virtualenvs/shipping-dashboard-0qStpExL/lib/python3.9/site-packages/category_encoders/utils.py:21: FutureWarning: is_categorical is deprecated and will be removed in a future version.  Use is_categorical_dtype instead\n",
      "  elif pd.api.types.is_categorical(cols):\n",
      "/Users/andrewlee/.local/share/virtualenvs/shipping-dashboard-0qStpExL/lib/python3.9/site-packages/category_encoders/utils.py:21: FutureWarning: is_categorical is deprecated and will be removed in a future version.  Use is_categorical_dtype instead\n",
      "  elif pd.api.types.is_categorical(cols):\n",
      "/Users/andrewlee/.local/share/virtualenvs/shipping-dashboard-0qStpExL/lib/python3.9/site-packages/category_encoders/utils.py:21: FutureWarning: is_categorical is deprecated and will be removed in a future version.  Use is_categorical_dtype instead\n",
      "  elif pd.api.types.is_categorical(cols):\n",
      "/Users/andrewlee/.local/share/virtualenvs/shipping-dashboard-0qStpExL/lib/python3.9/site-packages/category_encoders/utils.py:21: FutureWarning: is_categorical is deprecated and will be removed in a future version.  Use is_categorical_dtype instead\n",
      "  elif pd.api.types.is_categorical(cols):\n",
      "/Users/andrewlee/.local/share/virtualenvs/shipping-dashboard-0qStpExL/lib/python3.9/site-packages/category_encoders/utils.py:21: FutureWarning: is_categorical is deprecated and will be removed in a future version.  Use is_categorical_dtype instead\n",
      "  elif pd.api.types.is_categorical(cols):\n",
      "/Users/andrewlee/.local/share/virtualenvs/shipping-dashboard-0qStpExL/lib/python3.9/site-packages/category_encoders/utils.py:21: FutureWarning: is_categorical is deprecated and will be removed in a future version.  Use is_categorical_dtype instead\n",
      "  elif pd.api.types.is_categorical(cols):\n",
      "/Users/andrewlee/.local/share/virtualenvs/shipping-dashboard-0qStpExL/lib/python3.9/site-packages/category_encoders/utils.py:21: FutureWarning: is_categorical is deprecated and will be removed in a future version.  Use is_categorical_dtype instead\n",
      "  elif pd.api.types.is_categorical(cols):\n",
      "/Users/andrewlee/.local/share/virtualenvs/shipping-dashboard-0qStpExL/lib/python3.9/site-packages/category_encoders/utils.py:21: FutureWarning: is_categorical is deprecated and will be removed in a future version.  Use is_categorical_dtype instead\n",
      "  elif pd.api.types.is_categorical(cols):\n"
     ]
    },
    {
     "name": "stderr",
     "output_type": "stream",
     "text": [
      "/Users/andrewlee/.local/share/virtualenvs/shipping-dashboard-0qStpExL/lib/python3.9/site-packages/category_encoders/utils.py:21: FutureWarning: is_categorical is deprecated and will be removed in a future version.  Use is_categorical_dtype instead\n",
      "  elif pd.api.types.is_categorical(cols):\n",
      "/Users/andrewlee/.local/share/virtualenvs/shipping-dashboard-0qStpExL/lib/python3.9/site-packages/category_encoders/utils.py:21: FutureWarning: is_categorical is deprecated and will be removed in a future version.  Use is_categorical_dtype instead\n",
      "  elif pd.api.types.is_categorical(cols):\n",
      "/Users/andrewlee/.local/share/virtualenvs/shipping-dashboard-0qStpExL/lib/python3.9/site-packages/category_encoders/utils.py:21: FutureWarning: is_categorical is deprecated and will be removed in a future version.  Use is_categorical_dtype instead\n",
      "  elif pd.api.types.is_categorical(cols):\n",
      "/Users/andrewlee/.local/share/virtualenvs/shipping-dashboard-0qStpExL/lib/python3.9/site-packages/category_encoders/utils.py:21: FutureWarning: is_categorical is deprecated and will be removed in a future version.  Use is_categorical_dtype instead\n",
      "  elif pd.api.types.is_categorical(cols):\n",
      "/Users/andrewlee/.local/share/virtualenvs/shipping-dashboard-0qStpExL/lib/python3.9/site-packages/category_encoders/utils.py:21: FutureWarning: is_categorical is deprecated and will be removed in a future version.  Use is_categorical_dtype instead\n",
      "  elif pd.api.types.is_categorical(cols):\n",
      "/Users/andrewlee/.local/share/virtualenvs/shipping-dashboard-0qStpExL/lib/python3.9/site-packages/category_encoders/utils.py:21: FutureWarning: is_categorical is deprecated and will be removed in a future version.  Use is_categorical_dtype instead\n",
      "  elif pd.api.types.is_categorical(cols):\n",
      "/Users/andrewlee/.local/share/virtualenvs/shipping-dashboard-0qStpExL/lib/python3.9/site-packages/category_encoders/utils.py:21: FutureWarning: is_categorical is deprecated and will be removed in a future version.  Use is_categorical_dtype instead\n",
      "  elif pd.api.types.is_categorical(cols):\n",
      "/Users/andrewlee/.local/share/virtualenvs/shipping-dashboard-0qStpExL/lib/python3.9/site-packages/category_encoders/utils.py:21: FutureWarning: is_categorical is deprecated and will be removed in a future version.  Use is_categorical_dtype instead\n",
      "  elif pd.api.types.is_categorical(cols):\n",
      "/Users/andrewlee/.local/share/virtualenvs/shipping-dashboard-0qStpExL/lib/python3.9/site-packages/category_encoders/utils.py:21: FutureWarning: is_categorical is deprecated and will be removed in a future version.  Use is_categorical_dtype instead\n",
      "  elif pd.api.types.is_categorical(cols):\n",
      "/Users/andrewlee/.local/share/virtualenvs/shipping-dashboard-0qStpExL/lib/python3.9/site-packages/category_encoders/utils.py:21: FutureWarning: is_categorical is deprecated and will be removed in a future version.  Use is_categorical_dtype instead\n",
      "  elif pd.api.types.is_categorical(cols):\n",
      "/Users/andrewlee/.local/share/virtualenvs/shipping-dashboard-0qStpExL/lib/python3.9/site-packages/category_encoders/utils.py:21: FutureWarning: is_categorical is deprecated and will be removed in a future version.  Use is_categorical_dtype instead\n",
      "  elif pd.api.types.is_categorical(cols):\n",
      "/Users/andrewlee/.local/share/virtualenvs/shipping-dashboard-0qStpExL/lib/python3.9/site-packages/category_encoders/utils.py:21: FutureWarning: is_categorical is deprecated and will be removed in a future version.  Use is_categorical_dtype instead\n",
      "  elif pd.api.types.is_categorical(cols):\n",
      "/Users/andrewlee/.local/share/virtualenvs/shipping-dashboard-0qStpExL/lib/python3.9/site-packages/category_encoders/utils.py:21: FutureWarning: is_categorical is deprecated and will be removed in a future version.  Use is_categorical_dtype instead\n",
      "  elif pd.api.types.is_categorical(cols):\n",
      "/Users/andrewlee/.local/share/virtualenvs/shipping-dashboard-0qStpExL/lib/python3.9/site-packages/category_encoders/utils.py:21: FutureWarning: is_categorical is deprecated and will be removed in a future version.  Use is_categorical_dtype instead\n",
      "  elif pd.api.types.is_categorical(cols):\n",
      "/Users/andrewlee/.local/share/virtualenvs/shipping-dashboard-0qStpExL/lib/python3.9/site-packages/category_encoders/utils.py:21: FutureWarning: is_categorical is deprecated and will be removed in a future version.  Use is_categorical_dtype instead\n",
      "  elif pd.api.types.is_categorical(cols):\n",
      "/Users/andrewlee/.local/share/virtualenvs/shipping-dashboard-0qStpExL/lib/python3.9/site-packages/category_encoders/utils.py:21: FutureWarning: is_categorical is deprecated and will be removed in a future version.  Use is_categorical_dtype instead\n",
      "  elif pd.api.types.is_categorical(cols):\n",
      "/Users/andrewlee/.local/share/virtualenvs/shipping-dashboard-0qStpExL/lib/python3.9/site-packages/category_encoders/utils.py:21: FutureWarning: is_categorical is deprecated and will be removed in a future version.  Use is_categorical_dtype instead\n",
      "  elif pd.api.types.is_categorical(cols):\n",
      "/Users/andrewlee/.local/share/virtualenvs/shipping-dashboard-0qStpExL/lib/python3.9/site-packages/category_encoders/utils.py:21: FutureWarning: is_categorical is deprecated and will be removed in a future version.  Use is_categorical_dtype instead\n",
      "  elif pd.api.types.is_categorical(cols):\n",
      "/Users/andrewlee/.local/share/virtualenvs/shipping-dashboard-0qStpExL/lib/python3.9/site-packages/category_encoders/utils.py:21: FutureWarning: is_categorical is deprecated and will be removed in a future version.  Use is_categorical_dtype instead\n",
      "  elif pd.api.types.is_categorical(cols):\n",
      "/Users/andrewlee/.local/share/virtualenvs/shipping-dashboard-0qStpExL/lib/python3.9/site-packages/category_encoders/utils.py:21: FutureWarning: is_categorical is deprecated and will be removed in a future version.  Use is_categorical_dtype instead\n",
      "  elif pd.api.types.is_categorical(cols):\n",
      "/Users/andrewlee/.local/share/virtualenvs/shipping-dashboard-0qStpExL/lib/python3.9/site-packages/category_encoders/utils.py:21: FutureWarning: is_categorical is deprecated and will be removed in a future version.  Use is_categorical_dtype instead\n",
      "  elif pd.api.types.is_categorical(cols):\n",
      "/Users/andrewlee/.local/share/virtualenvs/shipping-dashboard-0qStpExL/lib/python3.9/site-packages/category_encoders/utils.py:21: FutureWarning: is_categorical is deprecated and will be removed in a future version.  Use is_categorical_dtype instead\n",
      "  elif pd.api.types.is_categorical(cols):\n",
      "/Users/andrewlee/.local/share/virtualenvs/shipping-dashboard-0qStpExL/lib/python3.9/site-packages/category_encoders/utils.py:21: FutureWarning: is_categorical is deprecated and will be removed in a future version.  Use is_categorical_dtype instead\n",
      "  elif pd.api.types.is_categorical(cols):\n",
      "/Users/andrewlee/.local/share/virtualenvs/shipping-dashboard-0qStpExL/lib/python3.9/site-packages/category_encoders/utils.py:21: FutureWarning: is_categorical is deprecated and will be removed in a future version.  Use is_categorical_dtype instead\n",
      "  elif pd.api.types.is_categorical(cols):\n",
      "/Users/andrewlee/.local/share/virtualenvs/shipping-dashboard-0qStpExL/lib/python3.9/site-packages/category_encoders/utils.py:21: FutureWarning: is_categorical is deprecated and will be removed in a future version.  Use is_categorical_dtype instead\n",
      "  elif pd.api.types.is_categorical(cols):\n",
      "/Users/andrewlee/.local/share/virtualenvs/shipping-dashboard-0qStpExL/lib/python3.9/site-packages/category_encoders/utils.py:21: FutureWarning: is_categorical is deprecated and will be removed in a future version.  Use is_categorical_dtype instead\n",
      "  elif pd.api.types.is_categorical(cols):\n",
      "/Users/andrewlee/.local/share/virtualenvs/shipping-dashboard-0qStpExL/lib/python3.9/site-packages/category_encoders/utils.py:21: FutureWarning: is_categorical is deprecated and will be removed in a future version.  Use is_categorical_dtype instead\n",
      "  elif pd.api.types.is_categorical(cols):\n",
      "/Users/andrewlee/.local/share/virtualenvs/shipping-dashboard-0qStpExL/lib/python3.9/site-packages/category_encoders/utils.py:21: FutureWarning: is_categorical is deprecated and will be removed in a future version.  Use is_categorical_dtype instead\n",
      "  elif pd.api.types.is_categorical(cols):\n"
     ]
    },
    {
     "data": {
      "text/plain": [
       "GridSearchCV(cv=3,\n",
       "             estimator=Pipeline(steps=[('ordinalencoder',\n",
       "                                        OrdinalEncoder(cols=['Warehouse_block',\n",
       "                                                             'Mode_of_Shipment',\n",
       "                                                             'Product_importance',\n",
       "                                                             'Gender'],\n",
       "                                                       mapping=[{'col': 'Warehouse_block',\n",
       "                                                                 'data_type': dtype('O'),\n",
       "                                                                 'mapping': F      1\n",
       "A      2\n",
       "D      3\n",
       "C      4\n",
       "B      5\n",
       "NaN   -2\n",
       "dtype: int64},\n",
       "                                                                {'col': 'Mode_of_Shipment',\n",
       "                                                                 'data_type': dtype('O'),\n",
       "                                                                 'mapping': Ship      1\n",
       "Flight    2\n",
       "Road      3\n",
       "NaN      -2\n",
       "dtype: int64},\n",
       "                                                                {'col': 'Pr...\n",
       "                                       ('standardscaler', StandardScaler()),\n",
       "                                       ('gradientboostingclassifier',\n",
       "                                        GradientBoostingClassifier(random_state=42))]),\n",
       "             n_jobs=-1,\n",
       "             param_grid={'gradientboostingclassifier__criterion': ['friedman_mse',\n",
       "                                                                   'mse'],\n",
       "                         'gradientboostingclassifier__loss': ['deviance',\n",
       "                                                              'exponential'],\n",
       "                         'gradientboostingclassifier__max_depth': [3, 5, 8, 10],\n",
       "                         'gradientboostingclassifier__n_estimators': [100, 200,\n",
       "                                                                      300]},\n",
       "             verbose=5)"
      ]
     },
     "execution_count": 24,
     "metadata": {},
     "output_type": "execute_result"
    }
   ],
   "source": [
    "# GridSearchCV\n",
    "\n",
    "model_gbc_gs = GridSearchCV(model_gbc,\n",
    "                            param_grid=param_grid,\n",
    "                            n_jobs=-1,\n",
    "                            cv=3,\n",
    "                            verbose=5)\n",
    "\n",
    "model_gbc_gs.fit(X_train, y_train)"
   ]
  },
  {
   "cell_type": "code",
   "execution_count": 25,
   "id": "b1b9da3d",
   "metadata": {},
   "outputs": [
    {
     "data": {
      "text/plain": [
       "{'gradientboostingclassifier__criterion': 'friedman_mse',\n",
       " 'gradientboostingclassifier__loss': 'exponential',\n",
       " 'gradientboostingclassifier__max_depth': 3,\n",
       " 'gradientboostingclassifier__n_estimators': 100}"
      ]
     },
     "execution_count": 25,
     "metadata": {},
     "output_type": "execute_result"
    }
   ],
   "source": [
    "model_gbc_gs.best_params_"
   ]
  },
  {
   "cell_type": "code",
   "execution_count": 26,
   "id": "55346aea",
   "metadata": {},
   "outputs": [],
   "source": [
    "best_model_gs = model_gbc_gs.best_estimator_"
   ]
  },
  {
   "cell_type": "markdown",
   "id": "c175abe5",
   "metadata": {},
   "source": [
    "### Scores before Tuning"
   ]
  },
  {
   "cell_type": "code",
   "execution_count": 27,
   "id": "b2018e74",
   "metadata": {},
   "outputs": [
    {
     "name": "stdout",
     "output_type": "stream",
     "text": [
      "Gradient Boosting Accuracy (Train):  0.7132628707807706\n",
      "Gradient Boosting Accuracy (Test):  0.6854545454545454\n"
     ]
    }
   ],
   "source": [
    "print(\"Gradient Boosting Accuracy (Train): \", model_gbc.score(X_train, y_train))\n",
    "print(\"Gradient Boosting Accuracy (Test): \", model_gbc.score(X_test, y_test))"
   ]
  },
  {
   "cell_type": "markdown",
   "id": "be606391",
   "metadata": {},
   "source": [
    "### Scores after GridSearchCV"
   ]
  },
  {
   "cell_type": "code",
   "execution_count": 28,
   "id": "49210ea0",
   "metadata": {},
   "outputs": [
    {
     "name": "stdout",
     "output_type": "stream",
     "text": [
      "Gradient Boosting Accuracy (Train):  0.7115581316058643\n",
      "Gradient Boosting Accuracy (Test):  0.685\n"
     ]
    }
   ],
   "source": [
    "print(\"Gradient Boosting Accuracy (Train): \", best_model_gs.score(X_train, y_train))\n",
    "print(\"Gradient Boosting Accuracy (Test): \", best_model_gs.score(X_test, y_test))"
   ]
  },
  {
   "cell_type": "markdown",
   "id": "8535da08",
   "metadata": {},
   "source": [
    "# Communicate Results"
   ]
  },
  {
   "cell_type": "markdown",
   "id": "46e7a5f4",
   "metadata": {},
   "source": [
    "### Confusion Matrix\n"
   ]
  },
  {
   "cell_type": "code",
   "execution_count": 29,
   "id": "356726ac",
   "metadata": {},
   "outputs": [
    {
     "data": {
      "text/plain": [
       "<sklearn.metrics._plot.confusion_matrix.ConfusionMatrixDisplay at 0x7fc700c62820>"
      ]
     },
     "execution_count": 29,
     "metadata": {},
     "output_type": "execute_result"
    },
    {
     "data": {
      "image/png": "[encoded data removed]",
      "text/plain": [
       "<Figure size 432x288 with 2 Axes>"
      ]
     },
     "metadata": {
      "needs_background": "light"
     },
     "output_type": "display_data"
    }
   ],
   "source": [
    "plot_confusion_matrix(best_model_gs, X_test, y_test, values_format=\".0f\",\n",
    "                      display_labels=[\"Shipment Late\", \"Shipment On Time\"])"
   ]
  },
  {
   "cell_type": "markdown",
   "id": "08503394",
   "metadata": {},
   "source": [
    "### Classification Report"
   ]
  },
  {
   "cell_type": "code",
   "execution_count": 30,
   "id": "4b9586cb",
   "metadata": {},
   "outputs": [
    {
     "name": "stdout",
     "output_type": "stream",
     "text": [
      "              precision    recall  f1-score   support\n",
      "\n",
      "         0.0       0.88      0.55      0.67      1305\n",
      "         1.0       0.57      0.89      0.70       895\n",
      "\n",
      "    accuracy                           0.69      2200\n",
      "   macro avg       0.72      0.72      0.68      2200\n",
      "weighted avg       0.75      0.69      0.68      2200\n",
      "\n"
     ]
    }
   ],
   "source": [
    "print(classification_report(y_test, best_model_gs.predict(X_test)))"
   ]
  },
  {
   "cell_type": "markdown",
   "id": "08e5e81b",
   "metadata": {},
   "source": [
    "### F1 Score\n"
   ]
  },
  {
   "cell_type": "code",
   "execution_count": 31,
   "id": "4ab919cc",
   "metadata": {},
   "outputs": [
    {
     "data": {
      "text/plain": [
       "0.6961858833844805"
      ]
     },
     "execution_count": 31,
     "metadata": {},
     "output_type": "execute_result"
    }
   ],
   "source": [
    "f1_score(y_test, best_model_gs.predict(X_test))"
   ]
  },
  {
   "cell_type": "markdown",
   "id": "d4270f7b",
   "metadata": {},
   "source": [
    "### Permutation Importance"
   ]
  },
  {
   "cell_type": "code",
   "execution_count": 32,
   "id": "a1becae8",
   "metadata": {},
   "outputs": [
    {
     "data": {
      "text/plain": [
       "<AxesSubplot:>"
      ]
     },
     "execution_count": 32,
     "metadata": {},
     "output_type": "execute_result"
    },
    {
     "data": {
      "image/png": "[encoded data removed]",
      "text/plain": [
       "<Figure size 432x288 with 1 Axes>"
      ]
     },
     "metadata": {
      "needs_background": "light"
     },
     "output_type": "display_data"
    }
   ],
   "source": [
    "perm_imp = permutation_importance(best_model_gs, X_test, y_test, n_repeats=10,\n",
    "                                  n_jobs=-1, random_state=42)\n",
    "\n",
    "data = {\"imp_mean\": perm_imp[\"importances_mean\"],\n",
    "        \"imp_std\": perm_imp[\"importances_std\"]}\n",
    "\n",
    "df_perm = pd.DataFrame(data, index=X_test.columns).sort_values(\"imp_mean\")\n",
    "\n",
    "df_perm[\"imp_mean\"].tail(10).plot(kind=\"barh\")"
   ]
  },
  {
   "cell_type": "markdown",
   "id": "392f7495",
   "metadata": {},
   "source": [
    "## Export Clean Data / Pickle Model"
   ]
  },
  {
   "cell_type": "code",
   "execution_count": 33,
   "id": "99de18c6",
   "metadata": {},
   "outputs": [
    {
     "data": {
      "text/html": [
       "<div>\n",
       "<style scoped>\n",
       "    .dataframe tbody tr th:only-of-type {\n",
       "        vertical-align: middle;\n",
       "    }\n",
       "\n",
       "    .dataframe tbody tr th {\n",
       "        vertical-align: top;\n",
       "    }\n",
       "\n",
       "    .dataframe thead th {\n",
       "        text-align: right;\n",
       "    }\n",
       "</style>\n",
       "<table border=\"1\" class=\"dataframe\">\n",
       "  <thead>\n",
       "    <tr style=\"text-align: right;\">\n",
       "      <th></th>\n",
       "      <th>Warehouse_block</th>\n",
       "      <th>Mode_of_Shipment</th>\n",
       "      <th>Customer_care_calls</th>\n",
       "      <th>Customer_rating</th>\n",
       "      <th>Cost_of_the_Product</th>\n",
       "      <th>Prior_purchases</th>\n",
       "      <th>Product_importance</th>\n",
       "      <th>Gender</th>\n",
       "      <th>Discount_offered</th>\n",
       "      <th>Weight_in_gms</th>\n",
       "      <th>Reached_on_time</th>\n",
       "    </tr>\n",
       "    <tr>\n",
       "      <th>ID</th>\n",
       "      <th></th>\n",
       "      <th></th>\n",
       "      <th></th>\n",
       "      <th></th>\n",
       "      <th></th>\n",
       "      <th></th>\n",
       "      <th></th>\n",
       "      <th></th>\n",
       "      <th></th>\n",
       "      <th></th>\n",
       "      <th></th>\n",
       "    </tr>\n",
       "  </thead>\n",
       "  <tbody>\n",
       "    <tr>\n",
       "      <th>1</th>\n",
       "      <td>D</td>\n",
       "      <td>Flight</td>\n",
       "      <td>4</td>\n",
       "      <td>2</td>\n",
       "      <td>177</td>\n",
       "      <td>3</td>\n",
       "      <td>low</td>\n",
       "      <td>F</td>\n",
       "      <td>44</td>\n",
       "      <td>1233</td>\n",
       "      <td>0.0</td>\n",
       "    </tr>\n",
       "    <tr>\n",
       "      <th>2</th>\n",
       "      <td>F</td>\n",
       "      <td>Flight</td>\n",
       "      <td>4</td>\n",
       "      <td>5</td>\n",
       "      <td>216</td>\n",
       "      <td>2</td>\n",
       "      <td>low</td>\n",
       "      <td>M</td>\n",
       "      <td>59</td>\n",
       "      <td>3088</td>\n",
       "      <td>0.0</td>\n",
       "    </tr>\n",
       "    <tr>\n",
       "      <th>3</th>\n",
       "      <td>A</td>\n",
       "      <td>Flight</td>\n",
       "      <td>2</td>\n",
       "      <td>2</td>\n",
       "      <td>183</td>\n",
       "      <td>4</td>\n",
       "      <td>low</td>\n",
       "      <td>M</td>\n",
       "      <td>48</td>\n",
       "      <td>3374</td>\n",
       "      <td>0.0</td>\n",
       "    </tr>\n",
       "    <tr>\n",
       "      <th>4</th>\n",
       "      <td>B</td>\n",
       "      <td>Flight</td>\n",
       "      <td>3</td>\n",
       "      <td>3</td>\n",
       "      <td>176</td>\n",
       "      <td>4</td>\n",
       "      <td>medium</td>\n",
       "      <td>M</td>\n",
       "      <td>10</td>\n",
       "      <td>1177</td>\n",
       "      <td>0.0</td>\n",
       "    </tr>\n",
       "    <tr>\n",
       "      <th>5</th>\n",
       "      <td>C</td>\n",
       "      <td>Flight</td>\n",
       "      <td>2</td>\n",
       "      <td>2</td>\n",
       "      <td>184</td>\n",
       "      <td>3</td>\n",
       "      <td>medium</td>\n",
       "      <td>F</td>\n",
       "      <td>46</td>\n",
       "      <td>2484</td>\n",
       "      <td>0.0</td>\n",
       "    </tr>\n",
       "  </tbody>\n",
       "</table>\n",
       "</div>"
      ],
      "text/plain": [
       "   Warehouse_block Mode_of_Shipment  Customer_care_calls  Customer_rating  \\\n",
       "ID                                                                          \n",
       "1                D           Flight                    4                2   \n",
       "2                F           Flight                    4                5   \n",
       "3                A           Flight                    2                2   \n",
       "4                B           Flight                    3                3   \n",
       "5                C           Flight                    2                2   \n",
       "\n",
       "    Cost_of_the_Product  Prior_purchases Product_importance Gender  \\\n",
       "ID                                                                   \n",
       "1                   177                3                low      F   \n",
       "2                   216                2                low      M   \n",
       "3                   183                4                low      M   \n",
       "4                   176                4             medium      M   \n",
       "5                   184                3             medium      F   \n",
       "\n",
       "    Discount_offered  Weight_in_gms  Reached_on_time  \n",
       "ID                                                    \n",
       "1                 44           1233              0.0  \n",
       "2                 59           3088              0.0  \n",
       "3                 48           3374              0.0  \n",
       "4                 10           1177              0.0  \n",
       "5                 46           2484              0.0  "
      ]
     },
     "execution_count": 33,
     "metadata": {},
     "output_type": "execute_result"
    }
   ],
   "source": [
    "df.head()"
   ]
  },
  {
   "cell_type": "code",
   "execution_count": 34,
   "id": "188245fa",
   "metadata": {},
   "outputs": [],
   "source": [
    "# Load cleaned data into CSV for Plotly-Dash usage (shipping.py)\n",
    "df.drop(columns='Customer_rating', inplace=True)\n",
    "df.to_csv(r\"../data/dash_ready_data.csv\")"
   ]
  },
  {
   "cell_type": "code",
   "execution_count": 35,
   "id": "8b57943d",
   "metadata": {},
   "outputs": [],
   "source": [
    "filename = \"../model/gbc.pk1\"\n",
    "pickle.dump(model_gbc, open(filename, 'wb'))"
   ]
  },
  {
   "cell_type": "code",
   "execution_count": null,
   "id": "9cb3bd1e",
   "metadata": {},
   "outputs": [],
   "source": []
  }
 ],
 "metadata": {
  "kernelspec": {
   "display_name": "Python 3 (ipykernel)",
   "language": "python",
   "name": "python3"
  },
  "language_info": {
   "codemirror_mode": {
    "name": "ipython",
    "version": 3
   },
   "file_extension": ".py",
   "mimetype": "text/x-python",
   "name": "python",
   "nbconvert_exporter": "python",
   "pygments_lexer": "ipython3",
   "version": "3.9.4"
  }
 },
 "nbformat": 4,
 "nbformat_minor": 5
}
